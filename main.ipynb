{
 "cells": [
  {
   "cell_type": "code",
   "execution_count": 1,
   "id": "1103ae61",
   "metadata": {},
   "outputs": [],
   "source": [
    "import torch, torchvision\n",
    "import torch.nn as nn\n",
    "import torch.nn.functional as F\n",
    "import torchvision.transforms as transforms\n",
    "import torch.nn.utils.prune as prune\n",
    "import torch.optim as optim\n",
    "import time\n",
    "from easydict import EasyDict"
   ]
  },
  {
   "cell_type": "code",
   "execution_count": 2,
   "id": "6665bfd7",
   "metadata": {},
   "outputs": [],
   "source": [
    "import numpy as np\n",
    "import matplotlib.pyplot as plt\n",
    "%matplotlib inline"
   ]
  },
  {
   "cell_type": "code",
   "execution_count": 9,
   "id": "30150b0e",
   "metadata": {},
   "outputs": [
    {
     "name": "stdout",
     "output_type": "stream",
     "text": [
      "The autoreload extension is already loaded. To reload it, use:\n",
      "  %reload_ext autoreload\n"
     ]
    }
   ],
   "source": [
    "import utils\n",
    "import prune_utils\n",
    "from run import run\n",
    "%load_ext autoreload\n",
    "%autoreload 2"
   ]
  },
  {
   "cell_type": "code",
   "execution_count": 4,
   "id": "f9d85b44",
   "metadata": {},
   "outputs": [],
   "source": [
    "torch.cuda.is_available()\n",
    "device = torch.device('cuda:0') if torch.cuda.is_available() else torch.device('cpu')# Load Dataset"
   ]
  },
  {
   "cell_type": "markdown",
   "id": "e350de70",
   "metadata": {},
   "source": [
    "# Load Dataset"
   ]
  },
  {
   "cell_type": "code",
   "execution_count": 5,
   "id": "a7512873",
   "metadata": {},
   "outputs": [
    {
     "name": "stdout",
     "output_type": "stream",
     "text": [
      "Files already downloaded and verified\n",
      "Files already downloaded and verified\n"
     ]
    }
   ],
   "source": [
    "transform = transforms.Compose(\n",
    "    [transforms.ToTensor(),\n",
    "     transforms.Normalize((0.5, 0.5, 0.5), (0.5, 0.5, 0.5))])\n",
    "\n",
    "CIFAR100train = torchvision.datasets.CIFAR100(root=\"./\", train=True, download=True, transform=transform)\n",
    "CIFAR100test = torchvision.datasets.CIFAR100(root=\"./\", train=False, download=True, transform=transform)\n",
    "\n",
    "CIFAR100training_set = [(CIFAR100train[t][0].to(device), CIFAR100train[t][1]) for t in range(len(CIFAR100train))]\n",
    "CIFAR100test_set = [(CIFAR100test[t][0].to(device), CIFAR100test[t][1]) for t in range(len(CIFAR100test))]"
   ]
  },
  {
   "cell_type": "code",
   "execution_count": 6,
   "id": "ca1f292b",
   "metadata": {},
   "outputs": [],
   "source": [
    "transform = transforms.Compose(\n",
    "    [transforms.ToTensor(),\n",
    "     transforms.Normalize(0.5, 0.5)])\n",
    "\n",
    "MNISTtrain = torchvision.datasets.MNIST(root=\"./\", train=True, download=True, transform=transform)\n",
    "MNISTtest = torchvision.datasets.MNIST(root=\"./\", train=False, download=True, transform=transform)\n",
    "\n",
    "MNISTtraining_set = [(MNISTtrain[t][0].to(device), MNISTtrain[t][1]) for t in range(len(MNISTtrain))]\n",
    "MNISTtest_set = [(MNISTtest[t][0].to(device), MNISTtest[t][1]) for t in range(len(MNISTtest))]"
   ]
  },
  {
   "cell_type": "code",
   "execution_count": 7,
   "id": "14783b80",
   "metadata": {},
   "outputs": [],
   "source": [
    "batch_size = 1024\n",
    "\n",
    "CIFAR100trainloader = torch.utils.data.DataLoader(CIFAR100training_set, batch_size=batch_size,\n",
    "                                          shuffle=True, num_workers=0)\n",
    "CIFAR100testloader = torch.utils.data.DataLoader(CIFAR100test_set, batch_size=batch_size,\n",
    "                                         shuffle=False, num_workers=0)\n",
    "MNISTtrainloader = t# MNIST ResNet-18 No-Finetuningorch.utils.data.DataLoader(MNISTtraining_set, batch_size=batch_size,\n",
    "                                          shuffle=True, num_workers=0)\n",
    "MNISTtestloader = torch.utils.data.DataLoader(MNISTtest_set, batch_size=batch_size,\n",
    "                                         shuffle=False, num_workers=0)"
   ]
  },
  {
   "cell_type": "markdown",
   "id": "f7eb4559",
   "metadata": {},
   "source": [
    "# Sample Usage"
   ]
  },
  {
   "cell_type": "code",
   "execution_count": null,
   "id": "6a9ed993",
   "metadata": {},
   "outputs": [],
   "source": [
    "##################################################################\n",
    "## No Finetune\n",
    "##################################################################\n",
    "\n",
    "cfg.epochs = 20\n",
    "cfg.log_interval = 5\n",
    "cfg.l2_regularization = 1e-6\n",
    "cfg.lr = 0.001\n",
    "cfg.train_transforms = transforms.Compose([\n",
    "    transforms.RandomCrop(32, padding=2),\n",
    "    transforms.RandomHorizontalFlip(),\n",
    "])\n",
    "\n",
    "cfg.model = 'vgg19' # resnet18, resnet34, resnet50, vgg16, vgg19\n",
    "cfg.dataset = 'cifar100' # mnist, cifar100\n",
    "cfg.prune_strategy = 'l1' # l1, l2unstructured, l1structured, random\n",
    "\n",
    "cfg.trainloader = CIFAR100trainloader # CIFAR100trainloader, MNISTtrainloader\n",
    "cfg.testloader = CIFAR100testloader # CIFAR100testloader, MNISTtestloader\n",
    "\n",
    "cfg.finetune = False\n",
    "cfg.load_model = True\n",
    "cfg.model_path = f'models/{cfg.model}_{cfg.dataset}.pth'\n",
    "\n",
    "\n",
    "cfg.prune_layers = 'fc'\n",
    "\n",
    "cfg.file_name = f'results/{cfg.dataset}_{cfg.model}_{cfg.prune_strategy}_{cfg.prune_layers}.txt'\n",
    "\n",
    "run(cfg, device)\n",
    "\n",
    "##################################################################\n",
    "## Finetune\n",
    "##################################################################\n",
    "\n",
    "cfg.epochs = 20\n",
    "cfg.log_interval = 5\n",
    "cfg.l2_regularization = 1e-6\n",
    "cfg.lr = 0.0001\n",
    "cfg.train_transforms = transforms.Compose([\n",
    "    transforms.RandomCrop(32, padding=2),\n",
    "    transforms.RandomHorizontalFlip(),\n",
    "])\n",
    "\n",
    "cfg.finetune = True\n",
    "cfg.load_model = True\n",
    "cfg.file_name = f'results/{cfg.dataset}_{cfg.model}_{cfg.prune_strategy}_{cfg.prune_layers}_finetune.txt'\n",
    "\n",
    "run(cfg, device)"
   ]
  }
 ],
 "metadata": {
  "kernelspec": {
   "display_name": "frank",
   "language": "python",
   "name": "frank"
  },
  "language_info": {
   "codemirror_mode": {
    "name": "ipython",
    "version": 3
   },
   "file_extension": ".py",
   "mimetype": "text/x-python",
   "name": "python",
   "nbconvert_exporter": "python",
   "pygments_lexer": "ipython3",
   "version": "3.8.10"
  }
 },
 "nbformat": 4,
 "nbformat_minor": 5
}
