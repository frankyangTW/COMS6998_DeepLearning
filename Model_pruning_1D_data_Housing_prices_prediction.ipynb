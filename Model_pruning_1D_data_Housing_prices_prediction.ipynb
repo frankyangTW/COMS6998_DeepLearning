{
  "cells": [
    {
      "cell_type": "markdown",
      "metadata": {
        "id": "8mEyU01VKZJi"
      },
      "source": [
        "# Latest experiment"
      ]
    },
    {
      "cell_type": "code",
      "execution_count": null,
      "metadata": {
        "id": "7HleQjExKiT7"
      },
      "outputs": [],
      "source": [
        "import torch\n",
        "from torch import nn\n",
        "import torch.nn.utils.prune as prune\n",
        "import torch.nn.functional as F"
      ]
    },
    {
      "cell_type": "code",
      "execution_count": null,
      "metadata": {
        "id": "K0eYdAbxKiT9"
      },
      "outputs": [],
      "source": [
        "import pandas as pd\n",
        "from torch.utils.data import Dataset, DataLoader\n",
        "import numpy as np\n",
        "import torch.optim as optim"
      ]
    },
    {
      "cell_type": "code",
      "execution_count": null,
      "metadata": {
        "colab": {
          "base_uri": "https://localhost:8080/"
        },
        "id": "H3s-ewmMKiT9",
        "outputId": "b6736d80-9705-4663-d627-926ded1a252e"
      },
      "outputs": [
        {
          "data": {
            "text/plain": [
              "True"
            ]
          },
          "execution_count": 12,
          "metadata": {},
          "output_type": "execute_result"
        }
      ],
      "source": [
        "torch.cuda.is_available()"
      ]
    },
    {
      "cell_type": "code",
      "execution_count": null,
      "metadata": {
        "colab": {
          "base_uri": "https://localhost:8080/"
        },
        "id": "CAfg57FWKiT-",
        "outputId": "6b7de563-e2e4-4d42-bdb0-83feb4e49dc7"
      },
      "outputs": [
        {
          "data": {
            "text/plain": [
              "device(type='cuda', index=0)"
            ]
          },
          "execution_count": 13,
          "metadata": {},
          "output_type": "execute_result"
        }
      ],
      "source": [
        "device = torch.device(\"cuda:0\")\n",
        "device"
      ]
    },
    {
      "cell_type": "markdown",
      "metadata": {
        "id": "eBc0_Q1kiMh3"
      },
      "source": [
        "## Housing Data"
      ]
    },
    {
      "cell_type": "code",
      "execution_count": null,
      "metadata": {
        "id": "B4oIwf3BKiT-"
      },
      "outputs": [],
      "source": [
        "class HouseSalesDataset(Dataset):\n",
        "    \"\"\"Face Landmarks dataset.\"\"\"\n",
        "\n",
        "    def __init__(self, csv_file, root_dir, transform=None, train = True):\n",
        "        \"\"\"\n",
        "        Args:\n",
        "            csv_file (string): Path to the csv file with annotations.\n",
        "            root_dir (string): Directory with all the images.\n",
        "            transform (callable, optional): Optional transform to be applied\n",
        "                on a sample.\n",
        "        \"\"\"\n",
        "        self.housing_data = pd.read_csv(csv_file)\n",
        "        self.x = self.housing_data.drop('price', axis = 1)\n",
        "        df = self.housing_data.drop('date', axis = 1)\n",
        "        self.x = (df-df.mean())/df.std()\n",
        "        self.y = self.housing_data[['price']]/1000\n",
        "\n",
        "        if train:\n",
        "          self.x = self.x.iloc[:18000, :]\n",
        "          self.y = self.y.iloc[:18000, :]\n",
        "\n",
        "        else:\n",
        "          self.x = self.x.iloc[18000:, :]\n",
        "          self.y = self.y.iloc[18000:, :]  \n",
        "\n",
        "\n",
        "        print('Length = ', len(self.y))\n",
        "        self.x = torch.Tensor(self.x.values).to(device)\n",
        "        self.y = torch.Tensor(self.y.values).to(device)\n",
        "\n",
        "    def __len__(self):\n",
        "        return len(self.x)\n",
        "\n",
        "    def __getitem__(self, idx):\n",
        "        # if self.transform:\n",
        "        #     sample = self.transform(sample)\n",
        "\n",
        "        features = self.x[idx]\n",
        "        price = self.y[idx]\n",
        "        return {'features': features, 'price': price}"
      ]
    },
    {
      "cell_type": "code",
      "execution_count": null,
      "metadata": {
        "colab": {
          "base_uri": "https://localhost:8080/"
        },
        "id": "JHE3Dd6lKiT_",
        "outputId": "b1d6e057-da54-4aec-bb08-ab79f6699ce8"
      },
      "outputs": [
        {
          "name": "stdout",
          "output_type": "stream",
          "text": [
            "Length =  18000\n",
            "Length =  3613\n"
          ]
        }
      ],
      "source": [
        "train_dataset = HouseSalesDataset(csv_file='kc_house_data.csv',\n",
        "                                    root_dir='/', train = True)\n",
        "\n",
        "test_dataset = HouseSalesDataset(csv_file='kc_house_data.csv',\n",
        "                                    root_dir='/', train = False)\n",
        "\n",
        "train_loader = DataLoader(train_dataset, batch_size=32,\n",
        "                        shuffle=True, num_workers=0)\n",
        "\n",
        "test_loader = DataLoader(test_dataset, batch_size=32,\n",
        "                        shuffle=True, num_workers=0)"
      ]
    },
    {
      "cell_type": "code",
      "execution_count": null,
      "metadata": {
        "id": "Tg9SZre4KiUE"
      },
      "outputs": [],
      "source": [
        "def test(net, test_loader, loss):\n",
        "  running_loss = 0.0\n",
        "  for i, data in enumerate(test_loader, 0):\n",
        "      # get the inputs; data is a list of [inputs, labels]\n",
        "      inputs, labels = data['features'].to(device), data['price'].to(device)\n",
        "      # print(inputs)\n",
        "      # forward\n",
        "      outputs = net(inputs)\n",
        "      # print(outputs)\n",
        "      loss = criterion(outputs, labels)\n",
        "      running_loss += loss.item()\n",
        "\n",
        "  running_loss = running_loss / 2613\n",
        "  print(\"Avg Loss during Testing - \", running_loss)\n",
        "  return running_loss"
      ]
    },
    {
      "cell_type": "code",
      "execution_count": null,
      "metadata": {
        "id": "_3lJMthqKiUF"
      },
      "outputs": [],
      "source": [
        "def train(net, train_loader, num_epoch, optimizer, criterion, running_loss_batch = 200):\n",
        "  for epoch in range(num_epoch):  # loop over the dataset multiple times\n",
        "      running_loss = 0.0\n",
        "      for i, data in enumerate(train_loader, 0):\n",
        "          # get the inputs; data is a list of [inputs, labels]\n",
        "          inputs, labels = data['features'].to(device), data['price'].to(device)\n",
        "\n",
        "          # zero the parameter gradients\n",
        "          optimizer.zero_grad()\n",
        "          # print(inputs)\n",
        "          # forward + backward + optimize\n",
        "          outputs = net(inputs)\n",
        "          # print(outputs)\n",
        "          loss = criterion(outputs, labels)\n",
        "          # for name, param in net.named_parameters():\n",
        "          #   if param.requires_grad and name == 'fc2.weight':\n",
        "          #     print(name, param.data)\n",
        "          # print(loss)\n",
        "          loss.backward()\n",
        "          optimizer.step()\n",
        "          # print statistics\n",
        "          running_loss += loss.item()\n",
        "          if i % running_loss_batch == (running_loss_batch-1):    # print every 150 mini-batches\n",
        "              print('[%d, %5d] loss: %.6f' %\n",
        "                    (epoch + 1, i + 1, running_loss / running_loss_batch))\n",
        "              running_loss = 0.0\n",
        "\n",
        "  print('Finished Training')"
      ]
    },
    {
      "cell_type": "markdown",
      "metadata": {
        "id": "I_dcfdypiUlA"
      },
      "source": [
        "### 3 layer"
      ]
    },
    {
      "cell_type": "code",
      "execution_count": null,
      "metadata": {
        "id": "ACO-sU_9N6Wy"
      },
      "outputs": [],
      "source": [
        "def print_sparsity(net):\n",
        "  print(\n",
        "      \"Sparsity in fc1.weight: {:.2f}%\".format(\n",
        "          100. * float(torch.sum(net.fc1.weight == 0))\n",
        "          / float(net.fc1.weight.nelement())\n",
        "      )\n",
        "  )\n",
        "  print(\n",
        "      \"Sparsity in fc2.weight: {:.2f}%\".format(\n",
        "          100. * float(torch.sum(net.fc2.weight == 0))\n",
        "          / float(net.fc2.weight.nelement())\n",
        "      )\n",
        "  )\n",
        "  print(\n",
        "      \"Sparsity in fc3.weight: {:.2f}%\".format(\n",
        "          100. * float(torch.sum(net.fc3.weight == 0))\n",
        "          / float(net.fc3.weight.nelement())\n",
        "      )\n",
        "  )\n",
        "  print(\n",
        "      \"Global sparsity: {:.2f}%\".format(\n",
        "          100. * float(\n",
        "              + torch.sum(net.fc1.weight == 0)\n",
        "              + torch.sum(net.fc2.weight == 0)\n",
        "              + torch.sum(net.fc3.weight == 0)\n",
        "          )\n",
        "          / float(\n",
        "              + net.fc1.weight.nelement()\n",
        "              + net.fc2.weight.nelement()\n",
        "              + net.fc3.weight.nelement()\n",
        "          )\n",
        "      )\n",
        "  )"
      ]
    },
    {
      "cell_type": "code",
      "execution_count": null,
      "metadata": {
        "id": "PfMqGD0nKiT_"
      },
      "outputs": [],
      "source": [
        "class Net(nn.Module):\n",
        "    def __init__(self):\n",
        "        super().__init__()\n",
        "        self.fc1 = nn.Linear(20, 16)\n",
        "        self.fc2 = nn.Linear(16, 4)\n",
        "        self.fc3 = nn.Linear(4, 1)\n",
        "\n",
        "    def forward(self, x):\n",
        "        # x = torch.flatten(x, 1) # flatten all dimensions except batch\n",
        "        x = torch.tanh(self.fc1(x))\n",
        "        x = torch.tanh(self.fc2(x))\n",
        "        x = self.fc3(x)\n",
        "        return x\n",
        "\n",
        "net = Net().to(device)"
      ]
    },
    {
      "cell_type": "code",
      "execution_count": null,
      "metadata": {
        "id": "p6r1P5wPKiUE"
      },
      "outputs": [],
      "source": [
        "# # criterion = nn.CrossEntropyLoss()\n",
        "criterion = nn.MSELoss()\n",
        "# # optimizer = optim.SGD(net.parameters(), lr=10)\n",
        "optimizer = optim.Adam(net.parameters(), lr=0.1)"
      ]
    },
    {
      "cell_type": "code",
      "execution_count": null,
      "metadata": {
        "colab": {
          "base_uri": "https://localhost:8080/"
        },
        "id": "hmmQhR_kLTnD",
        "outputId": "11944207-2a6b-4a2f-ab2c-9ae1bbb62f00"
      },
      "outputs": [
        {
          "name": "stdout",
          "output_type": "stream",
          "text": [
            "Avg Loss during Testing -  20565.146377487563\n"
          ]
        },
        {
          "data": {
            "text/plain": [
              "20565.146377487563"
            ]
          },
          "execution_count": 22,
          "metadata": {},
          "output_type": "execute_result"
        }
      ],
      "source": [
        "# Testing before training\n",
        "test(net, test_loader, criterion)"
      ]
    },
    {
      "cell_type": "code",
      "execution_count": null,
      "metadata": {
        "colab": {
          "background_save": true,
          "base_uri": "https://localhost:8080/"
        },
        "id": "K_7FLch8MyLz",
        "outputId": "a0d18991-4562-4d8f-f3cd-141cf66d23e8"
      },
      "outputs": [
        {
          "name": "stdout",
          "output_type": "stream",
          "text": [
            "Sparsity in fc1.weight: 0.00%\n",
            "Sparsity in fc2.weight: 0.00%\n",
            "Sparsity in fc3.weight: 0.00%\n",
            "Global sparsity: 0.00%\n",
            "[1,   560] loss: 300429.697391\n",
            "[2,   560] loss: 171622.900991\n",
            "[3,   560] loss: 121545.484583\n",
            "[4,   560] loss: 99901.555323\n",
            "[5,   560] loss: 87849.517773\n",
            "[6,   560] loss: 80611.654949\n",
            "[7,   560] loss: 76567.878448\n",
            "[8,   560] loss: 74023.100490\n",
            "[9,   560] loss: 68949.733404\n",
            "[10,   560] loss: 71020.153735\n",
            "[11,   560] loss: 70246.509391\n",
            "[12,   560] loss: 69164.522939\n",
            "[13,   560] loss: 68535.724574\n",
            "[14,   560] loss: 70629.258571\n",
            "[15,   560] loss: 69766.748472\n",
            "[16,   560] loss: 68854.450584\n",
            "[17,   560] loss: 68397.126484\n",
            "[18,   560] loss: 68261.658672\n",
            "[19,   560] loss: 68744.722768\n",
            "[20,   560] loss: 70210.063644\n",
            "[21,   560] loss: 69265.856726\n",
            "[22,   560] loss: 68737.477787\n",
            "[23,   560] loss: 66958.531906\n",
            "[24,   560] loss: 68181.123846\n",
            "[25,   560] loss: 68130.528374\n",
            "[26,   560] loss: 67675.490859\n",
            "[27,   560] loss: 68674.469001\n",
            "[28,   560] loss: 70911.522883\n",
            "[29,   560] loss: 69917.627860\n",
            "[30,   560] loss: 67944.541837\n",
            "[31,   560] loss: 68529.287355\n",
            "[32,   560] loss: 69097.528530\n",
            "[33,   560] loss: 70770.856487\n",
            "[34,   560] loss: 68879.388766\n",
            "[35,   560] loss: 69422.898322\n",
            "[36,   560] loss: 68845.697327\n",
            "[37,   560] loss: 68857.706982\n",
            "[38,   560] loss: 69181.504042\n",
            "[39,   560] loss: 68745.894524\n",
            "[40,   560] loss: 68232.392833\n",
            "[41,   560] loss: 67990.761279\n",
            "[42,   560] loss: 67572.698723\n",
            "[43,   560] loss: 68152.918534\n",
            "[44,   560] loss: 68556.954365\n",
            "[45,   560] loss: 68856.218213\n",
            "[46,   560] loss: 69107.030490\n",
            "[47,   560] loss: 68859.595527\n",
            "[48,   560] loss: 68782.558831\n",
            "[49,   560] loss: 69513.077647\n",
            "[50,   560] loss: 69063.922995\n",
            "Finished Training\n",
            "Avg Loss during Testing -  3084.206892969049\n",
            "Sparsity in fc1.weight: 13.75%\n",
            "Sparsity in fc2.weight: 53.12%\n",
            "Sparsity in fc3.weight: 0.00%\n",
            "Global sparsity: 20.10%\n",
            "Avg Loss during Testing -  3071.4166165865386\n",
            "[1,   560] loss: 67949.454681\n",
            "[2,   560] loss: 67170.505266\n",
            "[3,   560] loss: 67465.378066\n",
            "[4,   560] loss: 67040.965353\n",
            "[5,   560] loss: 67607.281691\n",
            "[6,   560] loss: 67585.210833\n",
            "[7,   560] loss: 68767.211373\n",
            "[8,   560] loss: 68305.922859\n",
            "[9,   560] loss: 67068.973532\n",
            "[10,   560] loss: 68086.013832\n",
            "[11,   560] loss: 67401.175795\n",
            "[12,   560] loss: 68015.132621\n",
            "[13,   560] loss: 67427.259317\n",
            "[14,   560] loss: 67452.636945\n",
            "[15,   560] loss: 67062.353892\n",
            "[16,   560] loss: 67595.278721\n",
            "[17,   560] loss: 67142.202888\n",
            "[18,   560] loss: 67274.323957\n",
            "[19,   560] loss: 67967.629782\n",
            "[20,   560] loss: 69069.133524\n",
            "[21,   560] loss: 68051.250129\n",
            "[22,   560] loss: 67227.182957\n",
            "[23,   560] loss: 67395.264579\n",
            "[24,   560] loss: 66965.230936\n",
            "[25,   560] loss: 66591.722614\n",
            "[26,   560] loss: 65912.985100\n",
            "[27,   560] loss: 67138.255702\n",
            "[28,   560] loss: 68190.121352\n",
            "[29,   560] loss: 68185.679206\n",
            "[30,   560] loss: 69675.495163\n",
            "[31,   560] loss: 71073.037019\n",
            "[32,   560] loss: 72186.450359\n",
            "[33,   560] loss: 71727.057342\n",
            "[34,   560] loss: 69762.631365\n",
            "[35,   560] loss: 67323.345396\n",
            "[36,   560] loss: 68233.117212\n",
            "[37,   560] loss: 67828.389303\n",
            "[38,   560] loss: 66024.856461\n",
            "[39,   560] loss: 67641.414226\n",
            "[40,   560] loss: 67617.793157\n",
            "[41,   560] loss: 67331.217862\n",
            "[42,   560] loss: 65915.558995\n",
            "[43,   560] loss: 68160.978366\n",
            "[44,   560] loss: 67096.016996\n",
            "[45,   560] loss: 67412.588839\n",
            "[46,   560] loss: 65960.482861\n",
            "[47,   560] loss: 66785.638079\n",
            "[48,   560] loss: 65960.972705\n",
            "[49,   560] loss: 66465.977023\n",
            "[50,   560] loss: 66283.574044\n",
            "Finished Training\n",
            "Avg Loss during Testing -  2794.745364972015\n",
            "L1 values -  [3084.206892969049, 3071.4166165865386]\n",
            "L1 values -  [3084.206892969049, 2794.745364972015]\n",
            "Sparsity in fc1.weight: 20.62%\n",
            "Sparsity in fc2.weight: 15.62%\n",
            "Sparsity in fc3.weight: 50.00%\n",
            "Global sparsity: 20.10%\n",
            "Avg Loss during Testing -  6333.156765750574\n",
            "[1,   560] loss: 116022.596125\n",
            "[2,   560] loss: 88059.507807\n",
            "[3,   560] loss: 79049.898743\n",
            "[4,   560] loss: 74540.665348\n",
            "[5,   560] loss: 72760.373104\n",
            "[6,   560] loss: 71380.972593\n",
            "[7,   560] loss: 69390.739952\n",
            "[8,   560] loss: 69637.894866\n",
            "[9,   560] loss: 69492.720755\n",
            "[10,   560] loss: 68197.358611\n",
            "[11,   560] loss: 67734.015873\n",
            "[12,   560] loss: 68337.232799\n",
            "[13,   560] loss: 68886.481601\n",
            "[14,   560] loss: 68776.030214\n",
            "[15,   560] loss: 65936.197658\n",
            "[16,   560] loss: 68274.583264\n",
            "[17,   560] loss: 67514.166221\n",
            "[18,   560] loss: 68548.456707\n",
            "[19,   560] loss: 68577.818110\n",
            "[20,   560] loss: 68163.404762\n",
            "[21,   560] loss: 67547.973141\n",
            "[22,   560] loss: 67323.197384\n",
            "[23,   560] loss: 67559.510446\n",
            "[24,   560] loss: 68093.976420\n",
            "[25,   560] loss: 66886.443413\n",
            "[26,   560] loss: 67140.338370\n",
            "[27,   560] loss: 67848.970956\n",
            "[28,   560] loss: 67247.419842\n",
            "[29,   560] loss: 67143.424360\n",
            "[30,   560] loss: 67011.234127\n",
            "[31,   560] loss: 67203.260801\n",
            "[32,   560] loss: 67602.510535\n",
            "[33,   560] loss: 67300.458186\n",
            "[34,   560] loss: 66993.189952\n",
            "[35,   560] loss: 67522.326032\n",
            "[36,   560] loss: 66600.669446\n",
            "[37,   560] loss: 66673.685577\n",
            "[38,   560] loss: 67790.929782\n",
            "[39,   560] loss: 66619.848706\n",
            "[40,   560] loss: 65976.518028\n",
            "[41,   560] loss: 65934.062404\n",
            "[42,   560] loss: 65721.980685\n",
            "[43,   560] loss: 67071.883772\n",
            "[44,   560] loss: 66333.820189\n",
            "[45,   560] loss: 66668.894646\n",
            "[46,   560] loss: 66450.804260\n",
            "[47,   560] loss: 66215.282556\n",
            "[48,   560] loss: 67412.141950\n",
            "[49,   560] loss: 66015.546031\n",
            "[50,   560] loss: 66707.753934\n",
            "Finished Training\n",
            "Avg Loss during Testing -  3312.844593140069\n",
            "L2 values -  [3084.206892969049, 6333.156765750574]\n",
            "L2 values -  [3084.206892969049, 3312.844593140069]\n",
            "Sparsity in fc1.weight: 31.88%\n",
            "Sparsity in fc2.weight: 82.81%\n",
            "Sparsity in fc3.weight: 0.00%\n",
            "Global sparsity: 39.95%\n",
            "Avg Loss during Testing -  2921.015459062859\n",
            "[1,   560] loss: 67385.226683\n",
            "[2,   560] loss: 66866.777199\n",
            "[3,   560] loss: 67022.067400\n",
            "[4,   560] loss: 66887.814962\n",
            "[5,   560] loss: 66650.785531\n",
            "[6,   560] loss: 66625.553376\n",
            "[7,   560] loss: 66593.325945\n",
            "[8,   560] loss: 67155.951967\n",
            "[9,   560] loss: 69517.606342\n",
            "[10,   560] loss: 67025.534818\n",
            "[11,   560] loss: 67613.976074\n",
            "[12,   560] loss: 64234.880127\n",
            "[13,   560] loss: 65567.787821\n",
            "[14,   560] loss: 66177.933151\n",
            "[15,   560] loss: 66536.125949\n",
            "[16,   560] loss: 67359.807593\n",
            "[17,   560] loss: 67715.169981\n",
            "[18,   560] loss: 67994.865695\n",
            "[19,   560] loss: 67645.294277\n",
            "[20,   560] loss: 68377.619866\n",
            "[21,   560] loss: 67767.260393\n",
            "[22,   560] loss: 66558.256986\n",
            "[23,   560] loss: 66606.183105\n",
            "[24,   560] loss: 65972.728428\n",
            "[25,   560] loss: 66125.233838\n",
            "[26,   560] loss: 66426.432800\n",
            "[27,   560] loss: 66021.403271\n",
            "[28,   560] loss: 67145.198633\n",
            "[29,   560] loss: 66455.566420\n",
            "[30,   560] loss: 66774.733943\n",
            "[31,   560] loss: 66882.972304\n",
            "[32,   560] loss: 66213.959333\n",
            "[33,   560] loss: 65516.035557\n",
            "[34,   560] loss: 64967.458845\n",
            "[35,   560] loss: 65922.183235\n",
            "[36,   560] loss: 65927.921017\n",
            "[37,   560] loss: 65783.634781\n",
            "[38,   560] loss: 65722.383868\n",
            "[39,   560] loss: 65736.306376\n",
            "[40,   560] loss: 65605.287699\n",
            "[41,   560] loss: 65000.805378\n",
            "[42,   560] loss: 65985.937437\n",
            "[43,   560] loss: 65298.720302\n",
            "[44,   560] loss: 65762.571392\n",
            "[45,   560] loss: 65949.321952\n",
            "[46,   560] loss: 65593.350335\n",
            "[47,   560] loss: 65458.081519\n",
            "[48,   560] loss: 64981.513299\n",
            "[49,   560] loss: 66083.719734\n",
            "[50,   560] loss: 65875.052588\n",
            "Finished Training\n",
            "Avg Loss during Testing -  2877.615210456133\n",
            "L1 values -  [3084.206892969049, 3071.4166165865386, 2921.015459062859]\n",
            "L1 values -  [3084.206892969049, 2794.745364972015, 2877.615210456133]\n",
            "Sparsity in fc1.weight: 41.25%\n",
            "Sparsity in fc2.weight: 32.81%\n",
            "Sparsity in fc3.weight: 50.00%\n",
            "Global sparsity: 39.95%\n",
            "Avg Loss during Testing -  6335.233910077019\n",
            "[1,   560] loss: 135246.584877\n",
            "[2,   560] loss: 132681.271069\n",
            "[3,   560] loss: 132816.690217\n",
            "[4,   560] loss: 132922.439000\n",
            "[5,   560] loss: 132308.052009\n",
            "[6,   560] loss: 132664.293499\n",
            "[7,   560] loss: 132795.846470\n",
            "[8,   560] loss: 132481.344249\n",
            "[9,   560] loss: 132958.094280\n",
            "[10,   560] loss: 132848.467146\n",
            "[11,   560] loss: 130429.894144\n",
            "[12,   560] loss: 132728.467965\n",
            "[13,   560] loss: 132851.297531\n",
            "[14,   560] loss: 132930.271666\n",
            "[15,   560] loss: 132519.048546\n",
            "[16,   560] loss: 132756.144245\n",
            "[17,   560] loss: 132911.319521\n",
            "[18,   560] loss: 132888.708018\n",
            "[19,   560] loss: 132919.343324\n",
            "[20,   560] loss: 132735.681892\n",
            "[21,   560] loss: 132875.082481\n",
            "[22,   560] loss: 132729.997799\n",
            "[23,   560] loss: 132790.228976\n",
            "[24,   560] loss: 132520.691528\n",
            "[25,   560] loss: 132764.841947\n",
            "[26,   560] loss: 132574.277264\n",
            "[27,   560] loss: 132591.214722\n",
            "[28,   560] loss: 132970.030619\n",
            "[29,   560] loss: 132898.101723\n",
            "[30,   560] loss: 132568.895710\n",
            "[31,   560] loss: 132610.792773\n",
            "[32,   560] loss: 132855.885456\n",
            "[33,   560] loss: 132909.425879\n",
            "[34,   560] loss: 132792.113449\n",
            "[35,   560] loss: 132471.913658\n",
            "[36,   560] loss: 132672.874135\n",
            "[37,   560] loss: 132753.692728\n",
            "[38,   560] loss: 132795.727836\n",
            "[39,   560] loss: 132729.522353\n",
            "[40,   560] loss: 133037.012340\n",
            "[41,   560] loss: 132835.669580\n",
            "[42,   560] loss: 132581.182663\n",
            "[43,   560] loss: 132762.829712\n",
            "[44,   560] loss: 132535.237762\n",
            "[45,   560] loss: 130425.664223\n",
            "[46,   560] loss: 132765.811572\n",
            "[47,   560] loss: 132512.062936\n",
            "[48,   560] loss: 132738.142024\n",
            "[49,   560] loss: 132810.959190\n",
            "[50,   560] loss: 132356.294629\n",
            "Finished Training\n",
            "Avg Loss during Testing -  6294.461409897627\n",
            "L2 values -  [3084.206892969049, 6333.156765750574, 6335.233910077019]\n",
            "L2 values -  [3084.206892969049, 3312.844593140069, 6294.461409897627]\n",
            "Sparsity in fc1.weight: 54.38%\n",
            "Sparsity in fc2.weight: 92.19%\n",
            "Sparsity in fc3.weight: 0.00%\n",
            "Global sparsity: 60.05%\n",
            "Avg Loss during Testing -  3162.526452024732\n",
            "[1,   560] loss: 60935.568162\n",
            "[2,   560] loss: 56915.292864\n",
            "[3,   560] loss: 56338.522402\n",
            "[4,   560] loss: 55900.627529\n",
            "[5,   560] loss: 55978.965712\n",
            "[6,   560] loss: 54097.257345\n",
            "[7,   560] loss: 50229.226817\n",
            "[8,   560] loss: 50499.954112\n",
            "[9,   560] loss: 49712.491856\n",
            "[10,   560] loss: 48443.817219\n",
            "[11,   560] loss: 48292.658500\n",
            "[12,   560] loss: 48612.026484\n",
            "[13,   560] loss: 47777.576857\n",
            "[14,   560] loss: 47377.486040\n",
            "[15,   560] loss: 46844.835726\n",
            "[16,   560] loss: 46062.314345\n",
            "[17,   560] loss: 46499.092128\n",
            "[18,   560] loss: 46185.081796\n",
            "[19,   560] loss: 46553.300480\n",
            "[20,   560] loss: 45664.347220\n",
            "[21,   560] loss: 44556.437981\n",
            "[22,   560] loss: 44571.035404\n",
            "[23,   560] loss: 44606.803008\n",
            "[24,   560] loss: 44358.911094\n",
            "[25,   560] loss: 44028.054007\n",
            "[26,   560] loss: 44073.569683\n",
            "[27,   560] loss: 43206.945475\n",
            "[28,   560] loss: 43406.186871\n",
            "[29,   560] loss: 43470.187744\n",
            "[30,   560] loss: 43416.979018\n",
            "[31,   560] loss: 43589.132978\n",
            "[32,   560] loss: 44577.025403\n",
            "[33,   560] loss: 44071.729539\n",
            "[34,   560] loss: 43045.287017\n",
            "[35,   560] loss: 43725.878414\n",
            "[36,   560] loss: 43012.953927\n",
            "[37,   560] loss: 44454.338953\n",
            "[38,   560] loss: 43787.095706\n",
            "[39,   560] loss: 43538.846308\n",
            "[40,   560] loss: 44135.183057\n",
            "[41,   560] loss: 43085.538201\n",
            "[42,   560] loss: 43032.247855\n",
            "[43,   560] loss: 43079.793511\n",
            "[44,   560] loss: 41679.842646\n",
            "[45,   560] loss: 42884.510910\n",
            "[46,   560] loss: 43618.770642\n",
            "[47,   560] loss: 42877.627621\n",
            "[48,   560] loss: 43945.009080\n",
            "[49,   560] loss: 43061.352963\n",
            "[50,   560] loss: 42637.923288\n",
            "Finished Training\n",
            "Avg Loss during Testing -  1598.687015642939\n",
            "L1 values -  [3084.206892969049, 3071.4166165865386, 2921.015459062859, 3162.526452024732]\n",
            "L1 values -  [3084.206892969049, 2794.745364972015, 2877.615210456133, 1598.687015642939]\n",
            "Sparsity in fc1.weight: 60.31%\n",
            "Sparsity in fc2.weight: 56.25%\n",
            "Sparsity in fc3.weight: 100.00%\n",
            "Global sparsity: 60.05%\n",
            "Avg Loss during Testing -  12067.471976057213\n",
            "[1,   560] loss: 221654.922419\n",
            "[2,   560] loss: 194476.471924\n",
            "[3,   560] loss: 173303.699100\n",
            "[4,   560] loss: 158543.412026\n",
            "[5,   560] loss: 147296.616082\n",
            "[6,   560] loss: 140699.686771\n",
            "[7,   560] loss: 136500.436412\n",
            "[8,   560] loss: 134145.570121\n",
            "[9,   560] loss: 133291.390733\n",
            "[10,   560] loss: 133104.244775\n",
            "[11,   560] loss: 132923.740039\n",
            "[12,   560] loss: 132933.577731\n",
            "[13,   560] loss: 132948.187395\n",
            "[14,   560] loss: 132894.399400\n",
            "[15,   560] loss: 132626.535704\n",
            "[16,   560] loss: 132749.639038\n",
            "[17,   560] loss: 132520.788201\n",
            "[18,   560] loss: 132687.514174\n",
            "[19,   560] loss: 132585.915705\n",
            "[20,   560] loss: 132983.884609\n",
            "[21,   560] loss: 132306.542697\n",
            "[22,   560] loss: 132270.192097\n",
            "[23,   560] loss: 132711.413124\n",
            "[24,   560] loss: 132772.887981\n",
            "[25,   560] loss: 132764.137395\n",
            "[26,   560] loss: 132762.633583\n",
            "[27,   560] loss: 132400.939858\n",
            "[28,   560] loss: 133002.577769\n",
            "[29,   560] loss: 130659.678505\n",
            "[30,   560] loss: 132756.109072\n",
            "[31,   560] loss: 132926.777316\n",
            "[32,   560] loss: 131994.540112\n",
            "[33,   560] loss: 132944.958740\n",
            "[34,   560] loss: 132829.432234\n",
            "[35,   560] loss: 132840.178418\n",
            "[36,   560] loss: 132410.531651\n",
            "[37,   560] loss: 132729.793876\n",
            "[38,   560] loss: 132727.399097\n",
            "[39,   560] loss: 132859.569329\n",
            "[40,   560] loss: 132821.953770\n",
            "[41,   560] loss: 132467.539094\n",
            "[42,   560] loss: 132774.482851\n",
            "[43,   560] loss: 132841.518101\n",
            "[44,   560] loss: 132790.346722\n",
            "[45,   560] loss: 132883.623957\n",
            "[46,   560] loss: 132793.343098\n",
            "[47,   560] loss: 132845.710655\n",
            "[48,   560] loss: 132747.873239\n",
            "[49,   560] loss: 132938.954572\n",
            "[50,   560] loss: 132752.960226\n",
            "Finished Training\n",
            "Avg Loss during Testing -  6305.679976021335\n",
            "L2 values -  [3084.206892969049, 6333.156765750574, 6335.233910077019, 12067.471976057213]\n",
            "L2 values -  [3084.206892969049, 3312.844593140069, 6294.461409897627, 6305.679976021335]\n",
            "Sparsity in fc1.weight: 76.88%\n",
            "Sparsity in fc2.weight: 100.00%\n",
            "Sparsity in fc3.weight: 0.00%\n",
            "Global sparsity: 79.90%\n",
            "Avg Loss during Testing -  7082.999798184558\n",
            "[1,   560] loss: 134784.446899\n",
            "[2,   560] loss: 131927.983744\n",
            "[3,   560] loss: 132930.488006\n",
            "[4,   560] loss: 132946.183866\n",
            "[5,   560] loss: 132820.109849\n",
            "[6,   560] loss: 132647.613452\n",
            "[7,   560] loss: 130138.140015\n",
            "[8,   560] loss: 132673.922681\n",
            "[9,   560] loss: 132485.653418\n",
            "[10,   560] loss: 132472.080636\n",
            "[11,   560] loss: 132584.764286\n",
            "[12,   560] loss: 132882.164868\n",
            "[13,   560] loss: 132634.756494\n",
            "[14,   560] loss: 131599.457614\n",
            "[15,   560] loss: 132875.658824\n",
            "[16,   560] loss: 132568.564387\n",
            "[17,   560] loss: 132922.221394\n",
            "[18,   560] loss: 132849.594210\n",
            "[19,   560] loss: 132682.430312\n",
            "[20,   560] loss: 132702.843715\n",
            "[21,   560] loss: 132587.633772\n",
            "[22,   560] loss: 132878.510631\n",
            "[23,   560] loss: 132834.694835\n",
            "[24,   560] loss: 132741.295585\n",
            "[25,   560] loss: 132185.622684\n",
            "[26,   560] loss: 132222.027061\n",
            "[27,   560] loss: 132549.259455\n",
            "[28,   560] loss: 133035.172642\n",
            "[29,   560] loss: 132855.663267\n",
            "[30,   560] loss: 132740.456805\n",
            "[31,   560] loss: 132445.384950\n",
            "[32,   560] loss: 132863.115294\n",
            "[33,   560] loss: 132698.853156\n",
            "[34,   560] loss: 132978.495040\n",
            "[35,   560] loss: 132593.211579\n",
            "[36,   560] loss: 132934.898012\n",
            "[37,   560] loss: 132879.050408\n",
            "[38,   560] loss: 132581.361565\n",
            "[39,   560] loss: 132469.373403\n",
            "[40,   560] loss: 132720.689045\n",
            "[41,   560] loss: 131826.308078\n",
            "[42,   560] loss: 132872.383517\n",
            "[43,   560] loss: 132544.068952\n",
            "[44,   560] loss: 132838.624620\n",
            "[45,   560] loss: 132527.289708\n",
            "[46,   560] loss: 132511.114694\n",
            "[47,   560] loss: 132485.810714\n",
            "[48,   560] loss: 132513.341745\n",
            "[49,   560] loss: 132553.824128\n",
            "[50,   560] loss: 132688.807928\n",
            "Finished Training\n",
            "Avg Loss during Testing -  6322.3426646814005\n",
            "L1 values -  [3084.206892969049, 3071.4166165865386, 2921.015459062859, 3162.526452024732, 7082.999798184558]\n",
            "L1 values -  [3084.206892969049, 2794.745364972015, 2877.615210456133, 1598.687015642939, 6322.3426646814005]\n",
            "Sparsity in fc1.weight: 80.94%\n",
            "Sparsity in fc2.weight: 76.56%\n",
            "Sparsity in fc3.weight: 50.00%\n",
            "Global sparsity: 79.90%\n",
            "Avg Loss during Testing -  19641.623457233065\n",
            "[1,   560] loss: 323714.534612\n",
            "[2,   560] loss: 220403.849275\n",
            "[3,   560] loss: 166494.162524\n",
            "[4,   560] loss: 143001.608283\n",
            "[5,   560] loss: 135089.934141\n",
            "[6,   560] loss: 133035.207997\n",
            "[7,   560] loss: 132643.103864\n",
            "[8,   560] loss: 132544.217139\n",
            "[9,   560] loss: 132841.470843\n",
            "[10,   560] loss: 132931.692132\n",
            "[11,   560] loss: 132425.171523\n",
            "[12,   560] loss: 132709.944817\n",
            "[13,   560] loss: 132479.865831\n",
            "[14,   560] loss: 132574.594270\n",
            "[15,   560] loss: 132607.751845\n",
            "[16,   560] loss: 132872.223343\n",
            "[17,   560] loss: 132960.126147\n",
            "[18,   560] loss: 132827.718066\n",
            "[19,   560] loss: 132937.316462\n",
            "[20,   560] loss: 132674.224568\n",
            "[21,   560] loss: 132603.720654\n",
            "[22,   560] loss: 132424.249627\n",
            "[23,   560] loss: 132941.800150\n",
            "[24,   560] loss: 132948.594741\n",
            "[25,   560] loss: 132563.035052\n",
            "[26,   560] loss: 132610.450014\n",
            "[27,   560] loss: 132294.745292\n",
            "[28,   560] loss: 132852.343809\n",
            "[29,   560] loss: 132560.794807\n",
            "[30,   560] loss: 132768.416068\n",
            "[31,   560] loss: 132160.871526\n",
            "[32,   560] loss: 132909.187992\n",
            "[33,   560] loss: 132788.389118\n",
            "[34,   560] loss: 133027.800084\n",
            "[35,   560] loss: 132026.257345\n",
            "[36,   560] loss: 132330.745016\n",
            "[37,   560] loss: 131867.035372\n",
            "[38,   560] loss: 132632.262092\n",
            "[39,   560] loss: 132954.507764\n",
            "[40,   560] loss: 132776.355580\n",
            "[41,   560] loss: 132948.205587\n",
            "[42,   560] loss: 132885.116466\n",
            "[43,   560] loss: 132563.991061\n",
            "[44,   560] loss: 132539.769458\n",
            "[45,   560] loss: 131976.352403\n",
            "[46,   560] loss: 132315.132328\n",
            "[47,   560] loss: 132804.371784\n",
            "[48,   560] loss: 132854.425579\n",
            "[49,   560] loss: 132969.360223\n",
            "[50,   560] loss: 132859.932621\n",
            "Finished Training\n",
            "Avg Loss during Testing -  6326.821536847015\n",
            "L2 values -  [3084.206892969049, 6333.156765750574, 6335.233910077019, 12067.471976057213, 19641.623457233065]\n",
            "L2 values -  [3084.206892969049, 3312.844593140069, 6294.461409897627, 6305.679976021335, 6326.821536847015]\n",
            "Sparsity in fc1.weight: 89.06%\n",
            "Sparsity in fc2.weight: 100.00%\n",
            "Sparsity in fc3.weight: 0.00%\n",
            "Global sparsity: 89.95%\n",
            "Avg Loss during Testing -  7085.032605900785\n",
            "[1,   560] loss: 134326.420225\n",
            "[2,   560] loss: 131683.276723\n",
            "[3,   560] loss: 132816.547562\n",
            "[4,   560] loss: 133009.709706\n",
            "[5,   560] loss: 132744.706376\n",
            "[6,   560] loss: 132963.710146\n",
            "[7,   560] loss: 131599.303523\n",
            "[8,   560] loss: 132898.371858\n",
            "[9,   560] loss: 132296.953369\n",
            "[10,   560] loss: 132572.790273\n",
            "[11,   560] loss: 132881.030123\n",
            "[12,   560] loss: 132844.041239\n",
            "[13,   560] loss: 132743.807917\n",
            "[14,   560] loss: 133045.320592\n",
            "[15,   560] loss: 132641.175921\n",
            "[16,   560] loss: 130754.452183\n",
            "[17,   560] loss: 132132.401039\n",
            "[18,   560] loss: 132823.928076\n",
            "[19,   560] loss: 132819.260931\n",
            "[20,   560] loss: 132842.414638\n",
            "[21,   560] loss: 130908.989432\n",
            "[22,   560] loss: 131993.462284\n",
            "[23,   560] loss: 132585.456770\n",
            "[24,   560] loss: 132633.406794\n",
            "[25,   560] loss: 132691.477260\n",
            "[26,   560] loss: 132819.245884\n",
            "[27,   560] loss: 132943.259298\n",
            "[28,   560] loss: 132744.780831\n",
            "[29,   560] loss: 132132.014851\n",
            "[30,   560] loss: 132737.383915\n",
            "[31,   560] loss: 132641.227933\n",
            "[32,   560] loss: 132243.557342\n",
            "[33,   560] loss: 132419.102309\n",
            "[34,   560] loss: 132391.594985\n",
            "[35,   560] loss: 132109.503700\n",
            "[36,   560] loss: 132934.368052\n",
            "[37,   560] loss: 131994.846599\n",
            "[38,   560] loss: 132903.644573\n",
            "[39,   560] loss: 132116.632718\n",
            "[40,   560] loss: 132844.102068\n",
            "[41,   560] loss: 132719.814938\n",
            "[42,   560] loss: 132755.384504\n",
            "[43,   560] loss: 132927.491835\n",
            "[44,   560] loss: 132344.969116\n",
            "[45,   560] loss: 132432.714369\n",
            "[46,   560] loss: 133038.027190\n",
            "[47,   560] loss: 132832.368338\n",
            "[48,   560] loss: 132876.704600\n",
            "[49,   560] loss: 132564.614010\n",
            "[50,   560] loss: 132435.149519\n",
            "Finished Training\n",
            "Avg Loss during Testing -  6317.369332723402\n",
            "L1 values -  [3084.206892969049, 3071.4166165865386, 2921.015459062859, 3162.526452024732, 7082.999798184558, 7085.032605900785]\n",
            "L1 values -  [3084.206892969049, 2794.745364972015, 2877.615210456133, 1598.687015642939, 6322.3426646814005, 6317.369332723402]\n",
            "Sparsity in fc1.weight: 90.31%\n",
            "Sparsity in fc2.weight: 87.50%\n",
            "Sparsity in fc3.weight: 100.00%\n",
            "Global sparsity: 89.95%\n",
            "Avg Loss during Testing -  12070.307178052048\n",
            "[1,   560] loss: 221077.416190\n",
            "[2,   560] loss: 193898.917843\n",
            "[3,   560] loss: 173229.905692\n",
            "[4,   560] loss: 157707.650834\n",
            "[5,   560] loss: 147673.587221\n",
            "[6,   560] loss: 140915.472248\n",
            "[7,   560] loss: 136346.334633\n",
            "[8,   560] loss: 134522.901587\n",
            "[9,   560] loss: 133414.084773\n",
            "[10,   560] loss: 133003.184312\n",
            "[11,   560] loss: 132926.433583\n",
            "[12,   560] loss: 132769.296090\n",
            "[13,   560] loss: 132728.177563\n",
            "[14,   560] loss: 132916.980110\n",
            "[15,   560] loss: 132114.186087\n",
            "[16,   560] loss: 132920.010753\n",
            "[17,   560] loss: 132776.394026\n",
            "[18,   560] loss: 132869.081313\n",
            "[19,   560] loss: 132611.331533\n",
            "[20,   560] loss: 132094.157244\n",
            "[21,   560] loss: 132846.932220\n",
            "[22,   560] loss: 132737.544807\n",
            "[23,   560] loss: 132429.572754\n",
            "[24,   560] loss: 132794.419577\n",
            "[25,   560] loss: 132625.135041\n",
            "[26,   560] loss: 132775.499330\n",
            "[27,   560] loss: 132694.246150\n",
            "[28,   560] loss: 132090.031037\n",
            "[29,   560] loss: 132718.089530\n",
            "[30,   560] loss: 132717.865475\n",
            "[31,   560] loss: 132356.046690\n",
            "[32,   560] loss: 132866.968890\n",
            "[33,   560] loss: 132714.175377\n",
            "[34,   560] loss: 132901.628603\n",
            "[35,   560] loss: 132341.545323\n",
            "[36,   560] loss: 131072.623884\n",
            "[37,   560] loss: 132636.711419\n",
            "[38,   560] loss: 132949.055165\n",
            "[39,   560] loss: 131926.681180\n",
            "[40,   560] loss: 132882.716828\n",
            "[41,   560] loss: 132735.334138\n",
            "[42,   560] loss: 132805.660107\n",
            "[43,   560] loss: 132558.624498\n",
            "[44,   560] loss: 131907.543534\n",
            "[45,   560] loss: 132945.355179\n",
            "[46,   560] loss: 132770.547046\n",
            "[47,   560] loss: 132521.560854\n",
            "[48,   560] loss: 131784.633639\n",
            "[49,   560] loss: 132823.058960\n",
            "[50,   560] loss: 132923.189924\n",
            "Finished Training\n",
            "Avg Loss during Testing -  6308.038433134807\n",
            "L2 values -  [3084.206892969049, 6333.156765750574, 6335.233910077019, 12067.471976057213, 19641.623457233065, 12070.307178052048]\n",
            "L2 values -  [3084.206892969049, 3312.844593140069, 6294.461409897627, 6305.679976021335, 6326.821536847015, 6308.038433134807]\n"
          ]
        }
      ],
      "source": [
        "# Full cycle\n",
        "\n",
        "parameters_to_prune = (\n",
        "    (net.fc1, 'weight'),\n",
        "    (net.fc2, 'weight'),\n",
        "    (net.fc3, 'weight'),\n",
        ")\n",
        "\n",
        "batch_loss = 560\n",
        "epoch = 50\n",
        "\n",
        "results_base_l1 = []\n",
        "results_finetune_l1 = []\n",
        "\n",
        "results_base_l2 = []\n",
        "results_finetune_l2 = []\n",
        "\n",
        "\n",
        "# Network\n",
        "net = Net().to(device)\n",
        "print_sparsity(net)\n",
        "\n",
        "criterion = nn.MSELoss()\n",
        "optimizer = optim.Adam(net.parameters(), lr=0.1)\n",
        "\n",
        "train(net, train_loader, epoch, optimizer, criterion, batch_loss)\n",
        "loss_mse = test(net, test_loader, criterion)\n",
        "\n",
        "results_base_l1.append(loss_mse)\n",
        "results_finetune_l1.append(loss_mse)\n",
        "results_base_l2.append(loss_mse)\n",
        "results_finetune_l2.append(loss_mse)\n",
        "\n",
        "PATH = './cifar_net.pth'\n",
        "torch.save(net.state_dict(), PATH)\n",
        "\n",
        "prune_values = [0.2, 0.4, 0.6, 0.8, 0.9]\n",
        "pruning_methods = [0,1]\n",
        "\n",
        "\n",
        "for prune_value in prune_values:\n",
        "  for pruning_method in pruning_methods:\n",
        "  # Each prune value experiment is independent\n",
        "    net = Net().to(device)\n",
        "    net.load_state_dict(torch.load(PATH))\n",
        "    \n",
        "    parameters_to_prune = (\n",
        "      (net.fc1, 'weight'),\n",
        "      (net.fc2, 'weight'),\n",
        "      (net.fc3, 'weight'),\n",
        "    )\n",
        "    optimizer = optim.Adam(net.parameters(), lr=0.1)\n",
        "    \n",
        "    if pruning_method == 0:\n",
        "      prune.global_unstructured(\n",
        "          parameters_to_prune,\n",
        "          pruning_method=prune.L1Unstructured,\n",
        "          amount=prune_value,\n",
        "      )\n",
        "    else:\n",
        "      prune.global_unstructured(\n",
        "          parameters_to_prune,\n",
        "          pruning_method=prune.RandomUnstructured,\n",
        "          amount=prune_value,\n",
        "      )\n",
        "\n",
        "    print_sparsity(net)\n",
        "    \n",
        "    base_loss = test(net, test_loader, criterion)\n",
        "\n",
        "    train(net, train_loader, epoch, optimizer, criterion, batch_loss)\n",
        "    finetune_loss = test(net, test_loader, criterion)\n",
        "    \n",
        "    if pruning_method == 0:\n",
        "      results_base_l1.append(base_loss)\n",
        "      results_finetune_l1.append(finetune_loss)\n",
        "\n",
        "      print('L1 values - ', results_base_l1)\n",
        "      print('L1 values - ', results_finetune_l1)\n",
        "    else:\n",
        "      results_base_l2.append(base_loss)\n",
        "      results_finetune_l2.append(finetune_loss)\n",
        "\n",
        "      print('L2 values - ', results_base_l2)\n",
        "      print('L2 values - ', results_finetune_l2)"
      ]
    },
    {
      "cell_type": "code",
      "execution_count": null,
      "metadata": {
        "colab": {
          "background_save": true
        },
        "id": "cFnPtoKpUea6",
        "outputId": "ae497341-6a52-42c3-cebf-476b6920b1b6"
      },
      "outputs": [
        {
          "data": {
            "text/plain": [
              "[3084.206892969049,\n",
              " 3071.4166165865386,\n",
              " 2921.015459062859,\n",
              " 3162.526452024732,\n",
              " 7082.999798184558,\n",
              " 7085.032605900785]"
            ]
          },
          "execution_count": null,
          "metadata": {},
          "output_type": "execute_result"
        }
      ],
      "source": [
        "results_base_l1"
      ]
    },
    {
      "cell_type": "code",
      "execution_count": null,
      "metadata": {
        "colab": {
          "background_save": true
        },
        "id": "oI_HhRKGUhz7",
        "outputId": "4560d4eb-b7ee-4866-c463-87ade90b9a64"
      },
      "outputs": [
        {
          "data": {
            "text/plain": [
              "[3084.206892969049,\n",
              " 2794.745364972015,\n",
              " 2877.615210456133,\n",
              " 1598.687015642939,\n",
              " 6322.3426646814005,\n",
              " 6317.369332723402]"
            ]
          },
          "execution_count": null,
          "metadata": {},
          "output_type": "execute_result"
        }
      ],
      "source": [
        "results_finetune_l1"
      ]
    },
    {
      "cell_type": "code",
      "execution_count": null,
      "metadata": {
        "colab": {
          "background_save": true
        },
        "id": "S3cUedcYlVkn",
        "outputId": "af79387e-fdac-46c8-8f8d-c1ba7cfab43c"
      },
      "outputs": [
        {
          "data": {
            "text/plain": [
              "[3084.206892969049,\n",
              " 6333.156765750574,\n",
              " 6335.233910077019,\n",
              " 12067.471976057213,\n",
              " 19641.623457233065,\n",
              " 12070.307178052048]"
            ]
          },
          "execution_count": null,
          "metadata": {},
          "output_type": "execute_result"
        }
      ],
      "source": [
        "results_base_l2"
      ]
    },
    {
      "cell_type": "code",
      "execution_count": null,
      "metadata": {
        "colab": {
          "background_save": true
        },
        "id": "-ANhmuuulWTZ",
        "outputId": "ddc86bcd-9e57-4f3c-a1d3-07268ec8ecdc"
      },
      "outputs": [
        {
          "data": {
            "text/plain": [
              "[3084.206892969049,\n",
              " 3312.844593140069,\n",
              " 6294.461409897627,\n",
              " 6305.679976021335,\n",
              " 6326.821536847015,\n",
              " 6308.038433134807]"
            ]
          },
          "execution_count": null,
          "metadata": {},
          "output_type": "execute_result"
        }
      ],
      "source": [
        "results_finetune_l2"
      ]
    },
    {
      "cell_type": "code",
      "execution_count": null,
      "metadata": {
        "id": "dAE75a6IYIpt"
      },
      "outputs": [],
      "source": [
        "x_coord = [0.0, 0.2, 0.4, 0.6, 0.8, 0.9]"
      ]
    },
    {
      "cell_type": "code",
      "execution_count": null,
      "metadata": {
        "colab": {
          "base_uri": "https://localhost:8080/",
          "height": 294
        },
        "id": "mLvJ6Ue-Uk31",
        "outputId": "32149d3f-6510-45ba-eff5-6d65e6ac223e"
      },
      "outputs": [
        {
          "data": {
            "image/png": "[encoded data removed]",
            "text/plain": [
              "<Figure size 432x288 with 1 Axes>"
            ]
          },
          "metadata": {},
          "output_type": "display_data"
        }
      ],
      "source": [
        "import matplotlib.pyplot as plt\n",
        "\n",
        "plt.title('Housing Dataset with 3 layer NN and different pruning techniques')\n",
        "plt.plot(x_coord, results_base_l1, label = 'L1 without finetuning')\n",
        "plt.plot(x_coord, results_finetune_l1, label = 'L1 finetuned')\n",
        "plt.plot(x_coord, results_base_l2, label = 'Random without finetuning')\n",
        "plt.plot(x_coord, results_finetune_l2, label = 'Random finetuned')\n",
        "plt.ylabel('MSE loss')\n",
        "plt.xlabel('Sparsity')\n",
        "plt.legend()\n",
        "plt.show()"
      ]
    },
    {
      "cell_type": "markdown",
      "metadata": {
        "id": "68gqkcHomsJE"
      },
      "source": [
        "### 5 layer"
      ]
    },
    {
      "cell_type": "code",
      "execution_count": null,
      "metadata": {
        "id": "pj6NeLkdmsJF"
      },
      "outputs": [],
      "source": [
        "def print_sparsity(net):\n",
        "  print(\n",
        "      \"Sparsity in fc1.weight: {:.2f}%\".format(\n",
        "          100. * float(torch.sum(net.fc1.weight == 0))\n",
        "          / float(net.fc1.weight.nelement())\n",
        "      )\n",
        "  )\n",
        "  print(\n",
        "      \"Sparsity in fc2.weight: {:.2f}%\".format(\n",
        "          100. * float(torch.sum(net.fc2.weight == 0))\n",
        "          / float(net.fc2.weight.nelement())\n",
        "      )\n",
        "  )\n",
        "  print(\n",
        "      \"Sparsity in fc3.weight: {:.2f}%\".format(\n",
        "          100. * float(torch.sum(net.fc3.weight == 0))\n",
        "          / float(net.fc3.weight.nelement())\n",
        "      )\n",
        "  )\n",
        "  print(\n",
        "      \"Sparsity in fc4.weight: {:.2f}%\".format(\n",
        "          100. * float(torch.sum(net.fc4.weight == 0))\n",
        "          / float(net.fc4.weight.nelement())\n",
        "      )\n",
        "  )\n",
        "  print(\n",
        "      \"Sparsity in fc5.weight: {:.2f}%\".format(\n",
        "          100. * float(torch.sum(net.fc5.weight == 0))\n",
        "          / float(net.fc5.weight.nelement())\n",
        "      )\n",
        "  )\n",
        "  print(\n",
        "      \"Global sparsity: {:.2f}%\".format(\n",
        "          100. * float(\n",
        "              + torch.sum(net.fc1.weight == 0)\n",
        "              + torch.sum(net.fc2.weight == 0)\n",
        "              + torch.sum(net.fc3.weight == 0)\n",
        "              + torch.sum(net.fc4.weight == 0)\n",
        "              + torch.sum(net.fc5.weight == 0)\n",
        "          )\n",
        "          / float(\n",
        "              + net.fc1.weight.nelement()\n",
        "              + net.fc2.weight.nelement()\n",
        "              + net.fc3.weight.nelement()\n",
        "              + net.fc4.weight.nelement()\n",
        "              + net.fc5.weight.nelement()\n",
        "          )\n",
        "      )\n",
        "  )"
      ]
    },
    {
      "cell_type": "code",
      "execution_count": null,
      "metadata": {
        "id": "W83uStXimsJF"
      },
      "outputs": [],
      "source": [
        "class Net(nn.Module):\n",
        "    def __init__(self):\n",
        "        super().__init__()\n",
        "        self.fc1 = nn.Linear(20, 16)\n",
        "        self.fc2 = nn.Linear(16, 16)\n",
        "        self.fc3 = nn.Linear(16, 8)\n",
        "        self.fc4 = nn.Linear(8, 4)\n",
        "        self.fc5 = nn.Linear(4, 1)\n",
        "\n",
        "    def forward(self, x):\n",
        "        # x = torch.flatten(x, 1) # flatten all dimensions except batch\n",
        "        x = torch.tanh(self.fc1(x))\n",
        "        x = torch.tanh(self.fc2(x)) \n",
        "        x = torch.tanh(self.fc3(x))\n",
        "        x = torch.tanh(self.fc4(x))\n",
        "        x = self.fc5(x)\n",
        "        return x\n",
        "\n",
        "net = Net().to(device)"
      ]
    },
    {
      "cell_type": "code",
      "execution_count": null,
      "metadata": {
        "id": "6Tum6muImsJG"
      },
      "outputs": [],
      "source": [
        "# # criterion = nn.CrossEntropyLoss()\n",
        "criterion = nn.MSELoss()\n",
        "# # optimizer = optim.SGD(net.parameters(), lr=10)\n",
        "optimizer = optim.Adam(net.parameters(), lr=0.1)"
      ]
    },
    {
      "cell_type": "code",
      "execution_count": null,
      "metadata": {
        "colab": {
          "base_uri": "https://localhost:8080/"
        },
        "id": "q0Cu78o5msJG",
        "outputId": "5da82874-6415-4ef2-ae73-80c5aa196d76"
      },
      "outputs": [
        {
          "name": "stdout",
          "output_type": "stream",
          "text": [
            "Avg Loss during Testing -  20563.5038090796\n"
          ]
        },
        {
          "data": {
            "text/plain": [
              "20563.5038090796"
            ]
          },
          "execution_count": 23,
          "metadata": {},
          "output_type": "execute_result"
        }
      ],
      "source": [
        "# Testing before training\n",
        "test(net, test_loader, criterion)"
      ]
    },
    {
      "cell_type": "code",
      "execution_count": null,
      "metadata": {
        "colab": {
          "base_uri": "https://localhost:8080/"
        },
        "id": "m7BA2K2XmsJH",
        "outputId": "a2154960-40cd-4868-f93e-6791659f65d4"
      },
      "outputs": [
        {
          "name": "stdout",
          "output_type": "stream",
          "text": [
            "Sparsity in fc1.weight: 0.00%\n",
            "Sparsity in fc2.weight: 0.00%\n",
            "Sparsity in fc3.weight: 0.00%\n",
            "Sparsity in fc4.weight: 0.00%\n",
            "Sparsity in fc5.weight: 0.00%\n",
            "Global sparsity: 0.00%\n",
            "[1,   560] loss: 300980.459431\n",
            "[2,   560] loss: 174882.238494\n",
            "[3,   560] loss: 139353.537413\n",
            "[4,   560] loss: 132792.285931\n",
            "[5,   560] loss: 129940.992815\n",
            "[6,   560] loss: 101811.947642\n",
            "[7,   560] loss: 94892.837228\n",
            "[8,   560] loss: 89747.465548\n",
            "[9,   560] loss: 88538.374803\n",
            "[10,   560] loss: 85692.721995\n",
            "[11,   560] loss: 82387.190761\n",
            "[12,   560] loss: 81546.869918\n",
            "[13,   560] loss: 80957.576357\n",
            "[14,   560] loss: 76214.250963\n",
            "[15,   560] loss: 73841.818269\n",
            "[16,   560] loss: 73040.120537\n",
            "[17,   560] loss: 80155.522780\n",
            "[18,   560] loss: 80305.074789\n",
            "[19,   560] loss: 80466.552543\n",
            "[20,   560] loss: 81626.449226\n",
            "[21,   560] loss: 78184.990941\n",
            "[22,   560] loss: 70973.553913\n",
            "[23,   560] loss: 75925.043251\n",
            "[24,   560] loss: 81914.758015\n",
            "[25,   560] loss: 82915.583566\n",
            "[26,   560] loss: 82367.430047\n",
            "[27,   560] loss: 80961.396615\n",
            "[28,   560] loss: 81375.806648\n",
            "[29,   560] loss: 84907.110505\n",
            "[30,   560] loss: 87274.229276\n",
            "[31,   560] loss: 87841.342097\n",
            "[32,   560] loss: 87174.566026\n",
            "[33,   560] loss: 87726.275056\n",
            "[34,   560] loss: 87040.899411\n",
            "[35,   560] loss: 87006.978868\n",
            "[36,   560] loss: 91126.557038\n",
            "[37,   560] loss: 97474.167226\n",
            "[38,   560] loss: 101752.496181\n",
            "[39,   560] loss: 98518.903927\n",
            "[40,   560] loss: 98141.959966\n",
            "[41,   560] loss: 98412.985863\n",
            "[42,   560] loss: 94782.410261\n",
            "[43,   560] loss: 91541.988794\n",
            "[44,   560] loss: 89477.392644\n",
            "[45,   560] loss: 94989.099119\n",
            "[46,   560] loss: 91960.708208\n",
            "[47,   560] loss: 94557.532711\n",
            "[48,   560] loss: 92547.266996\n",
            "[49,   560] loss: 91761.780922\n",
            "[50,   560] loss: 92495.713710\n",
            "Finished Training\n",
            "Avg Loss during Testing -  4367.997509447952\n",
            "Sparsity in fc1.weight: 21.25%\n",
            "Sparsity in fc2.weight: 17.58%\n",
            "Sparsity in fc3.weight: 17.97%\n",
            "Sparsity in fc4.weight: 37.50%\n",
            "Sparsity in fc5.weight: 0.00%\n",
            "Global sparsity: 20.00%\n",
            "Avg Loss during Testing -  4538.163779210917\n",
            "[1,   560] loss: 95490.870386\n",
            "[2,   560] loss: 99705.934738\n",
            "[3,   560] loss: 99313.956058\n",
            "[4,   560] loss: 91563.431252\n",
            "[5,   560] loss: 86203.181013\n",
            "[6,   560] loss: 88137.717770\n",
            "[7,   560] loss: 93892.287350\n",
            "[8,   560] loss: 94857.654318\n",
            "[9,   560] loss: 95233.389771\n",
            "[10,   560] loss: 97854.079271\n",
            "[11,   560] loss: 101819.081097\n",
            "[12,   560] loss: 103122.458517\n",
            "[13,   560] loss: 101515.185993\n",
            "[14,   560] loss: 98273.774892\n",
            "[15,   560] loss: 101033.185146\n",
            "[16,   560] loss: 100966.352354\n",
            "[17,   560] loss: 100731.201282\n",
            "[18,   560] loss: 101324.725971\n",
            "[19,   560] loss: 101745.996840\n",
            "[20,   560] loss: 102144.618736\n",
            "[21,   560] loss: 102380.897667\n",
            "[22,   560] loss: 101469.950174\n",
            "[23,   560] loss: 102269.078373\n",
            "[24,   560] loss: 102316.554914\n",
            "[25,   560] loss: 102009.074201\n",
            "[26,   560] loss: 102099.204951\n",
            "[27,   560] loss: 104857.575352\n",
            "[28,   560] loss: 105612.815555\n",
            "[29,   560] loss: 106882.638661\n",
            "[30,   560] loss: 106910.299161\n",
            "[31,   560] loss: 105792.632812\n",
            "[32,   560] loss: 105343.993712\n",
            "[33,   560] loss: 105158.972838\n",
            "[34,   560] loss: 105633.292780\n",
            "[35,   560] loss: 105593.404025\n",
            "[36,   560] loss: 106544.991263\n",
            "[37,   560] loss: 113379.465262\n",
            "[38,   560] loss: 112018.193188\n",
            "[39,   560] loss: 111965.863871\n",
            "[40,   560] loss: 111819.961230\n",
            "[41,   560] loss: 112026.579182\n",
            "[42,   560] loss: 112020.489634\n",
            "[43,   560] loss: 111750.877225\n",
            "[44,   560] loss: 112061.152389\n",
            "[45,   560] loss: 111425.406996\n",
            "[46,   560] loss: 111727.726311\n",
            "[47,   560] loss: 112067.620079\n",
            "[48,   560] loss: 111823.872395\n",
            "[49,   560] loss: 111986.305127\n",
            "[50,   560] loss: 112057.228627\n",
            "Finished Training\n",
            "Avg Loss during Testing -  5731.2301682692305\n",
            "L1 values -  [4367.997509447952, 4538.163779210917]\n",
            "L1 values -  [4367.997509447952, 5731.2301682692305]\n",
            "Sparsity in fc1.weight: 20.00%\n",
            "Sparsity in fc2.weight: 19.53%\n",
            "Sparsity in fc3.weight: 19.53%\n",
            "Sparsity in fc4.weight: 25.00%\n",
            "Sparsity in fc5.weight: 25.00%\n",
            "Global sparsity: 20.00%\n",
            "Avg Loss during Testing -  7823.647266970436\n",
            "[1,   560] loss: 116288.401294\n",
            "[2,   560] loss: 92528.470016\n",
            "[3,   560] loss: 92038.095004\n",
            "[4,   560] loss: 88096.084333\n",
            "[5,   560] loss: 81194.068129\n",
            "[6,   560] loss: 81333.076719\n",
            "[7,   560] loss: 81200.808589\n",
            "[8,   560] loss: 82689.668928\n",
            "[9,   560] loss: 82065.963642\n",
            "[10,   560] loss: 82359.615765\n",
            "[11,   560] loss: 81265.962844\n",
            "[12,   560] loss: 81726.624203\n",
            "[13,   560] loss: 81285.507209\n",
            "[14,   560] loss: 79875.057124\n",
            "[15,   560] loss: 78971.895142\n",
            "[16,   560] loss: 79138.667275\n",
            "[17,   560] loss: 79650.827314\n",
            "[18,   560] loss: 79823.461778\n",
            "[19,   560] loss: 77304.392732\n",
            "[20,   560] loss: 77798.480334\n",
            "[21,   560] loss: 75269.345592\n",
            "[22,   560] loss: 77675.788450\n",
            "[23,   560] loss: 75363.842320\n",
            "[24,   560] loss: 68869.956022\n",
            "[25,   560] loss: 69049.165325\n",
            "[26,   560] loss: 70704.591303\n",
            "[27,   560] loss: 69771.971150\n",
            "[28,   560] loss: 69356.432445\n",
            "[29,   560] loss: 69632.086536\n",
            "[30,   560] loss: 69682.282030\n",
            "[31,   560] loss: 70906.677682\n",
            "[32,   560] loss: 71499.797021\n",
            "[33,   560] loss: 82253.394578\n",
            "[34,   560] loss: 73604.627548\n",
            "[35,   560] loss: 71345.943408\n",
            "[36,   560] loss: 71271.169618\n",
            "[37,   560] loss: 80742.907495\n",
            "[38,   560] loss: 83808.905650\n",
            "[39,   560] loss: 89127.747189\n",
            "[40,   560] loss: 85325.861304\n",
            "[41,   560] loss: 86480.678069\n",
            "[42,   560] loss: 96779.692058\n",
            "[43,   560] loss: 126375.138703\n",
            "[44,   560] loss: 120389.951838\n",
            "[45,   560] loss: 113567.042048\n",
            "[46,   560] loss: 109037.259794\n",
            "[47,   560] loss: 102827.020808\n",
            "[48,   560] loss: 101398.191971\n",
            "[49,   560] loss: 100843.921408\n",
            "[50,   560] loss: 101053.579492\n",
            "Finished Training\n",
            "Avg Loss during Testing -  4704.056339396766\n",
            "L2 values -  [4367.997509447952, 7823.647266970436]\n",
            "L2 values -  [4367.997509447952, 4704.056339396766]\n",
            "Sparsity in fc1.weight: 40.00%\n",
            "Sparsity in fc2.weight: 39.45%\n",
            "Sparsity in fc3.weight: 35.16%\n",
            "Sparsity in fc4.weight: 68.75%\n",
            "Sparsity in fc5.weight: 0.00%\n",
            "Global sparsity: 40.00%\n",
            "Avg Loss during Testing -  4616.783823520618\n",
            "[1,   560] loss: 94549.509910\n",
            "[2,   560] loss: 96302.573769\n",
            "[3,   560] loss: 98906.896395\n",
            "[4,   560] loss: 100007.972185\n",
            "[5,   560] loss: 99131.153184\n",
            "[6,   560] loss: 103152.142889\n",
            "[7,   560] loss: 103255.172831\n",
            "[8,   560] loss: 103285.054060\n",
            "[9,   560] loss: 103238.432272\n",
            "[10,   560] loss: 102907.368311\n",
            "[11,   560] loss: 103100.771781\n",
            "[12,   560] loss: 103132.229243\n",
            "[13,   560] loss: 103032.753160\n",
            "[14,   560] loss: 103124.484947\n",
            "[15,   560] loss: 103190.075122\n",
            "[16,   560] loss: 104026.219423\n",
            "[17,   560] loss: 104695.879768\n",
            "[18,   560] loss: 104753.825457\n",
            "[19,   560] loss: 106106.636269\n",
            "[20,   560] loss: 104203.340723\n",
            "[21,   560] loss: 103301.776203\n",
            "[22,   560] loss: 107964.360645\n",
            "[23,   560] loss: 111145.255929\n",
            "[24,   560] loss: 110933.041863\n",
            "[25,   560] loss: 111096.697004\n",
            "[26,   560] loss: 110953.462584\n",
            "[27,   560] loss: 111010.402427\n",
            "[28,   560] loss: 110412.551099\n",
            "[29,   560] loss: 111029.554597\n",
            "[30,   560] loss: 111121.593813\n",
            "[31,   560] loss: 111042.389087\n",
            "[32,   560] loss: 110359.100837\n",
            "[33,   560] loss: 108581.035505\n",
            "[34,   560] loss: 111025.675834\n",
            "[35,   560] loss: 110564.691225\n",
            "[36,   560] loss: 111088.529199\n",
            "[37,   560] loss: 111094.743052\n",
            "[38,   560] loss: 111177.049100\n",
            "[39,   560] loss: 110640.323525\n",
            "[40,   560] loss: 110522.146369\n",
            "[41,   560] loss: 110903.221446\n",
            "[42,   560] loss: 111084.906798\n",
            "[43,   560] loss: 110813.044639\n",
            "[44,   560] loss: 110735.060522\n",
            "[45,   560] loss: 107888.014847\n",
            "[46,   560] loss: 111076.975865\n",
            "[47,   560] loss: 111141.040206\n",
            "[48,   560] loss: 111140.619601\n",
            "[49,   560] loss: 110801.675045\n",
            "[50,   560] loss: 111164.456881\n",
            "Finished Training\n",
            "Avg Loss during Testing -  5417.997559528081\n",
            "L1 values -  [4367.997509447952, 4538.163779210917, 4616.783823520618]\n",
            "L1 values -  [4367.997509447952, 5731.2301682692305, 5417.997559528081]\n",
            "Sparsity in fc1.weight: 38.75%\n",
            "Sparsity in fc2.weight: 41.80%\n",
            "Sparsity in fc3.weight: 40.62%\n",
            "Sparsity in fc4.weight: 40.62%\n",
            "Sparsity in fc5.weight: 0.00%\n",
            "Global sparsity: 40.00%\n",
            "Avg Loss during Testing -  8909.276233017605\n",
            "[1,   560] loss: 125408.821770\n",
            "[2,   560] loss: 98698.254987\n",
            "[3,   560] loss: 89883.258573\n",
            "[4,   560] loss: 78964.582772\n",
            "[5,   560] loss: 74300.293122\n",
            "[6,   560] loss: 72179.273800\n",
            "[7,   560] loss: 74188.640601\n",
            "[8,   560] loss: 68962.488492\n",
            "[9,   560] loss: 69586.669978\n",
            "[10,   560] loss: 70240.892453\n",
            "[11,   560] loss: 66688.684569\n",
            "[12,   560] loss: 64155.698914\n",
            "[13,   560] loss: 63084.268127\n",
            "[14,   560] loss: 63239.381887\n",
            "[15,   560] loss: 63316.331161\n",
            "[16,   560] loss: 62570.767965\n",
            "[17,   560] loss: 59910.223289\n",
            "[18,   560] loss: 66255.249276\n",
            "[19,   560] loss: 69952.404850\n",
            "[20,   560] loss: 59908.517679\n",
            "[21,   560] loss: 59836.314326\n",
            "[22,   560] loss: 62097.073492\n",
            "[23,   560] loss: 68056.885210\n",
            "[24,   560] loss: 65854.658412\n",
            "[25,   560] loss: 66535.814830\n",
            "[26,   560] loss: 67154.464436\n",
            "[27,   560] loss: 69354.158003\n",
            "[28,   560] loss: 69571.816479\n",
            "[29,   560] loss: 64791.758407\n",
            "[30,   560] loss: 63707.224200\n",
            "[31,   560] loss: 63943.952370\n",
            "[32,   560] loss: 64168.623737\n",
            "[33,   560] loss: 61244.662347\n",
            "[34,   560] loss: 63228.790595\n",
            "[35,   560] loss: 65636.295150\n",
            "[36,   560] loss: 61481.607493\n",
            "[37,   560] loss: 73142.851627\n",
            "[38,   560] loss: 72352.566560\n",
            "[39,   560] loss: 65894.598115\n",
            "[40,   560] loss: 74545.054210\n",
            "[41,   560] loss: 70490.117416\n",
            "[42,   560] loss: 70305.671186\n",
            "[43,   560] loss: 69845.760093\n",
            "[44,   560] loss: 68865.890998\n",
            "[45,   560] loss: 69363.087967\n",
            "[46,   560] loss: 66418.539429\n",
            "[47,   560] loss: 65792.017637\n",
            "[48,   560] loss: 65769.425324\n",
            "[49,   560] loss: 65832.575424\n",
            "[50,   560] loss: 65750.163658\n",
            "Finished Training\n",
            "Avg Loss during Testing -  2872.6591793137677\n",
            "L2 values -  [4367.997509447952, 7823.647266970436, 8909.276233017605]\n",
            "L2 values -  [4367.997509447952, 4704.056339396766, 2872.6591793137677]\n",
            "Sparsity in fc1.weight: 60.00%\n",
            "Sparsity in fc2.weight: 58.59%\n",
            "Sparsity in fc3.weight: 58.59%\n",
            "Sparsity in fc4.weight: 84.38%\n",
            "Sparsity in fc5.weight: 0.00%\n",
            "Global sparsity: 60.00%\n",
            "Avg Loss during Testing -  4861.873330164083\n",
            "[1,   560] loss: 106071.766370\n",
            "[2,   560] loss: 106660.586000\n",
            "[3,   560] loss: 108861.772960\n",
            "[4,   560] loss: 109527.217512\n",
            "[5,   560] loss: 109834.910034\n",
            "[6,   560] loss: 109513.704914\n",
            "[7,   560] loss: 109980.342240\n",
            "[8,   560] loss: 110067.688923\n",
            "[9,   560] loss: 110006.282265\n",
            "[10,   560] loss: 110002.966518\n",
            "[11,   560] loss: 110037.615205\n",
            "[12,   560] loss: 109682.989101\n",
            "[13,   560] loss: 109829.017292\n",
            "[14,   560] loss: 109984.150171\n",
            "[15,   560] loss: 110071.633105\n",
            "[16,   560] loss: 109714.829869\n",
            "[17,   560] loss: 109971.098769\n",
            "[18,   560] loss: 109973.868474\n",
            "[19,   560] loss: 109905.576712\n",
            "[20,   560] loss: 109506.562559\n",
            "[21,   560] loss: 108897.081588\n",
            "[22,   560] loss: 109900.063857\n",
            "[23,   560] loss: 109951.618412\n",
            "[24,   560] loss: 109774.463979\n",
            "[25,   560] loss: 109710.168279\n",
            "[26,   560] loss: 109983.908674\n",
            "[27,   560] loss: 109820.146603\n",
            "[28,   560] loss: 109957.019622\n",
            "[29,   560] loss: 109960.555804\n",
            "[30,   560] loss: 109980.761666\n",
            "[31,   560] loss: 109583.293910\n",
            "[32,   560] loss: 109362.180636\n",
            "[33,   560] loss: 109716.591528\n",
            "[34,   560] loss: 109910.513243\n",
            "[35,   560] loss: 110041.414680\n",
            "[36,   560] loss: 109842.955720\n",
            "[37,   560] loss: 109573.015622\n",
            "[38,   560] loss: 110030.411011\n",
            "[39,   560] loss: 109867.513180\n",
            "[40,   560] loss: 109477.958932\n",
            "[41,   560] loss: 109243.397060\n",
            "[42,   560] loss: 109912.580845\n",
            "[43,   560] loss: 110031.795769\n",
            "[44,   560] loss: 110064.580769\n",
            "[45,   560] loss: 109922.401754\n",
            "[46,   560] loss: 109952.533381\n",
            "[47,   560] loss: 109345.717550\n",
            "[48,   560] loss: 109936.189073\n",
            "[49,   560] loss: 109918.116657\n",
            "[50,   560] loss: 110003.638724\n",
            "Finished Training\n",
            "Avg Loss during Testing -  5366.928613767102\n",
            "L1 values -  [4367.997509447952, 4538.163779210917, 4616.783823520618, 4861.873330164083]\n",
            "L1 values -  [4367.997509447952, 5731.2301682692305, 5417.997559528081, 5366.928613767102]\n",
            "Sparsity in fc1.weight: 57.81%\n",
            "Sparsity in fc2.weight: 62.11%\n",
            "Sparsity in fc3.weight: 60.94%\n",
            "Sparsity in fc4.weight: 62.50%\n",
            "Sparsity in fc5.weight: 50.00%\n",
            "Global sparsity: 60.00%\n",
            "Avg Loss during Testing -  15094.460811925946\n",
            "[1,   560] loss: 162657.814575\n",
            "[2,   560] loss: 137605.636506\n",
            "[3,   560] loss: 127955.376287\n",
            "[4,   560] loss: 117953.370965\n",
            "[5,   560] loss: 114764.480218\n",
            "[6,   560] loss: 114874.496038\n",
            "[7,   560] loss: 114404.715339\n",
            "[8,   560] loss: 114262.786311\n",
            "[9,   560] loss: 117124.970246\n",
            "[10,   560] loss: 120525.687486\n",
            "[11,   560] loss: 114453.490695\n",
            "[12,   560] loss: 111754.215908\n",
            "[13,   560] loss: 111461.536565\n",
            "[14,   560] loss: 112296.468380\n",
            "[15,   560] loss: 109747.006306\n",
            "[16,   560] loss: 107564.081686\n",
            "[17,   560] loss: 107757.073619\n",
            "[18,   560] loss: 101734.386640\n",
            "[19,   560] loss: 100640.611564\n",
            "[20,   560] loss: 98568.021235\n",
            "[21,   560] loss: 97815.134780\n",
            "[22,   560] loss: 99516.504485\n",
            "[23,   560] loss: 99087.302222\n",
            "[24,   560] loss: 99991.737702\n",
            "[25,   560] loss: 99458.547318\n",
            "[26,   560] loss: 99574.948776\n",
            "[27,   560] loss: 100024.961987\n",
            "[28,   560] loss: 93487.886644\n",
            "[29,   560] loss: 91611.089992\n",
            "[30,   560] loss: 90961.031529\n",
            "[31,   560] loss: 90677.965949\n",
            "[32,   560] loss: 90374.548633\n",
            "[33,   560] loss: 91308.914826\n",
            "[34,   560] loss: 91312.925950\n",
            "[35,   560] loss: 110144.945825\n",
            "[36,   560] loss: 97163.793300\n",
            "[37,   560] loss: 93905.594713\n",
            "[38,   560] loss: 93182.194777\n",
            "[39,   560] loss: 93316.527443\n",
            "[40,   560] loss: 93298.031161\n",
            "[41,   560] loss: 93233.965649\n",
            "[42,   560] loss: 92932.753045\n",
            "[43,   560] loss: 93331.257654\n",
            "[44,   560] loss: 91984.107406\n",
            "[45,   560] loss: 93195.630082\n",
            "[46,   560] loss: 93344.759837\n",
            "[47,   560] loss: 93227.508364\n",
            "[48,   560] loss: 94431.246437\n",
            "[49,   560] loss: 93941.710118\n",
            "[50,   560] loss: 93819.850900\n",
            "Finished Training\n",
            "Avg Loss during Testing -  4321.284145677861\n",
            "L2 values -  [4367.997509447952, 7823.647266970436, 8909.276233017605, 15094.460811925946]\n",
            "L2 values -  [4367.997509447952, 4704.056339396766, 2872.6591793137677, 4321.284145677861]\n",
            "Sparsity in fc1.weight: 82.50%\n",
            "Sparsity in fc2.weight: 80.08%\n",
            "Sparsity in fc3.weight: 73.44%\n",
            "Sparsity in fc4.weight: 90.62%\n",
            "Sparsity in fc5.weight: 0.00%\n",
            "Global sparsity: 80.00%\n",
            "Avg Loss during Testing -  4772.666032816685\n",
            "[1,   560] loss: 99738.728435\n",
            "[2,   560] loss: 97878.881341\n",
            "[3,   560] loss: 98470.129684\n",
            "[4,   560] loss: 100123.397886\n",
            "[5,   560] loss: 98561.844552\n",
            "[6,   560] loss: 101331.689178\n",
            "[7,   560] loss: 101018.382568\n",
            "[8,   560] loss: 101277.988742\n",
            "[9,   560] loss: 101281.949449\n",
            "[10,   560] loss: 101145.886590\n",
            "[11,   560] loss: 100808.218879\n",
            "[12,   560] loss: 101020.085596\n",
            "[13,   560] loss: 101369.243827\n",
            "[14,   560] loss: 101369.271929\n",
            "[15,   560] loss: 101472.421258\n",
            "[16,   560] loss: 101296.782945\n",
            "[17,   560] loss: 101294.381794\n",
            "[18,   560] loss: 101374.180995\n",
            "[19,   560] loss: 101271.935829\n",
            "[20,   560] loss: 101182.920253\n",
            "[21,   560] loss: 101367.581581\n",
            "[22,   560] loss: 100632.604768\n",
            "[23,   560] loss: 101358.674513\n",
            "[24,   560] loss: 101092.992133\n",
            "[25,   560] loss: 100926.493691\n",
            "[26,   560] loss: 101392.526266\n",
            "[27,   560] loss: 101412.397967\n",
            "[28,   560] loss: 101006.631777\n",
            "[29,   560] loss: 101243.406747\n",
            "[30,   560] loss: 101425.869667\n",
            "[31,   560] loss: 101294.658726\n",
            "[32,   560] loss: 100870.724857\n",
            "[33,   560] loss: 101386.386879\n",
            "[34,   560] loss: 101166.355408\n",
            "[35,   560] loss: 101053.949949\n",
            "[36,   560] loss: 101163.462510\n",
            "[37,   560] loss: 101264.062102\n",
            "[38,   560] loss: 101250.993858\n",
            "[39,   560] loss: 100177.274477\n",
            "[40,   560] loss: 101266.482680\n",
            "[41,   560] loss: 101149.901109\n",
            "[42,   560] loss: 101149.929686\n",
            "[43,   560] loss: 101291.150143\n",
            "[44,   560] loss: 101299.579381\n",
            "[45,   560] loss: 101297.581292\n",
            "[46,   560] loss: 101213.734249\n",
            "[47,   560] loss: 101047.040400\n",
            "[48,   560] loss: 101262.151573\n",
            "[49,   560] loss: 101354.079822\n",
            "[50,   560] loss: 101437.130608\n",
            "Finished Training\n",
            "Avg Loss during Testing -  4845.17295882367\n",
            "L1 values -  [4367.997509447952, 4538.163779210917, 4616.783823520618, 4861.873330164083, 4772.666032816685]\n",
            "L1 values -  [4367.997509447952, 5731.2301682692305, 5417.997559528081, 5366.928613767102, 4845.17295882367]\n",
            "Sparsity in fc1.weight: 80.00%\n",
            "Sparsity in fc2.weight: 80.47%\n",
            "Sparsity in fc3.weight: 79.69%\n",
            "Sparsity in fc4.weight: 75.00%\n",
            "Sparsity in fc5.weight: 100.00%\n",
            "Global sparsity: 80.00%\n",
            "Avg Loss during Testing -  10264.367029037505\n",
            "[1,   560] loss: 189366.830340\n",
            "[2,   560] loss: 167585.248675\n",
            "[3,   560] loss: 153779.272855\n",
            "[4,   560] loss: 144243.355200\n",
            "[5,   560] loss: 138632.273301\n",
            "[6,   560] loss: 135220.452933\n",
            "[7,   560] loss: 133586.614432\n",
            "[8,   560] loss: 132974.397663\n",
            "[9,   560] loss: 133008.439830\n",
            "[10,   560] loss: 132717.334549\n",
            "[11,   560] loss: 132560.658419\n",
            "[12,   560] loss: 132798.861206\n",
            "[13,   560] loss: 132911.391141\n",
            "[14,   560] loss: 132991.264572\n",
            "[15,   560] loss: 132669.104447\n",
            "[16,   560] loss: 132655.589983\n",
            "[17,   560] loss: 133004.899930\n",
            "[18,   560] loss: 132629.975558\n",
            "[19,   560] loss: 130754.285118\n",
            "[20,   560] loss: 132708.147527\n",
            "[21,   560] loss: 132931.889478\n",
            "[22,   560] loss: 129439.455218\n",
            "[23,   560] loss: 132636.859309\n",
            "[24,   560] loss: 132783.774330\n",
            "[25,   560] loss: 132981.190726\n",
            "[26,   560] loss: 132667.920735\n",
            "[27,   560] loss: 132740.668551\n",
            "[28,   560] loss: 132794.201182\n",
            "[29,   560] loss: 132704.479304\n",
            "[30,   560] loss: 132599.800848\n",
            "[31,   560] loss: 132737.843422\n",
            "[32,   560] loss: 132913.508336\n",
            "[33,   560] loss: 132872.445961\n",
            "[34,   560] loss: 132862.580465\n",
            "[35,   560] loss: 132808.706037\n",
            "[36,   560] loss: 132682.418164\n",
            "[37,   560] loss: 131378.697210\n",
            "[38,   560] loss: 132906.438564\n",
            "[39,   560] loss: 132698.967386\n",
            "[40,   560] loss: 132771.283716\n",
            "[41,   560] loss: 132454.947011\n",
            "[42,   560] loss: 132447.336799\n",
            "[43,   560] loss: 132724.094294\n",
            "[44,   560] loss: 132764.687005\n",
            "[45,   560] loss: 132693.267379\n",
            "[46,   560] loss: 132678.832192\n",
            "[47,   560] loss: 132784.525187\n",
            "[48,   560] loss: 132841.608677\n",
            "[49,   560] loss: 132591.516581\n",
            "[50,   560] loss: 132845.279367\n",
            "Finished Training\n",
            "Avg Loss during Testing -  6308.893643262055\n",
            "L2 values -  [4367.997509447952, 7823.647266970436, 8909.276233017605, 15094.460811925946, 10264.367029037505]\n",
            "L2 values -  [4367.997509447952, 4704.056339396766, 2872.6591793137677, 4321.284145677861, 6308.893643262055]\n",
            "Sparsity in fc1.weight: 91.56%\n",
            "Sparsity in fc2.weight: 91.41%\n",
            "Sparsity in fc3.weight: 85.94%\n",
            "Sparsity in fc4.weight: 90.62%\n",
            "Sparsity in fc5.weight: 0.00%\n",
            "Global sparsity: 90.00%\n",
            "Avg Loss during Testing -  7115.1995461394945\n",
            "[1,   560] loss: 141640.745752\n",
            "[2,   560] loss: 133085.357903\n",
            "[3,   560] loss: 132625.222063\n",
            "[4,   560] loss: 132727.026531\n",
            "[5,   560] loss: 132606.996313\n",
            "[6,   560] loss: 132095.985142\n",
            "[7,   560] loss: 132513.726758\n",
            "[8,   560] loss: 132422.976814\n",
            "[9,   560] loss: 131480.530001\n",
            "[10,   560] loss: 132859.506414\n",
            "[11,   560] loss: 132625.902916\n",
            "[12,   560] loss: 130194.724313\n",
            "[13,   560] loss: 132594.174139\n",
            "[14,   560] loss: 132473.759581\n",
            "[15,   560] loss: 132969.038302\n",
            "[16,   560] loss: 132869.712605\n",
            "[17,   560] loss: 132871.028223\n",
            "[18,   560] loss: 132707.987409\n",
            "[19,   560] loss: 132571.242334\n",
            "[20,   560] loss: 132590.934469\n",
            "[21,   560] loss: 133019.279844\n",
            "[22,   560] loss: 131035.315137\n",
            "[23,   560] loss: 132628.565506\n",
            "[24,   560] loss: 132865.159787\n",
            "[25,   560] loss: 132737.608901\n",
            "[26,   560] loss: 132873.688257\n",
            "[27,   560] loss: 132545.770229\n",
            "[28,   560] loss: 132858.943345\n",
            "[29,   560] loss: 132866.195996\n",
            "[30,   560] loss: 132940.599215\n",
            "[31,   560] loss: 132389.318213\n",
            "[32,   560] loss: 132091.836182\n",
            "[33,   560] loss: 132968.389530\n",
            "[34,   560] loss: 132148.169409\n",
            "[35,   560] loss: 132449.231149\n",
            "[36,   560] loss: 132607.530671\n",
            "[37,   560] loss: 132784.136293\n",
            "[38,   560] loss: 132783.167773\n",
            "[39,   560] loss: 132685.157718\n",
            "[40,   560] loss: 132259.019904\n",
            "[41,   560] loss: 131900.847367\n",
            "[42,   560] loss: 132157.888351\n",
            "[43,   560] loss: 130375.769364\n",
            "[44,   560] loss: 132710.000446\n",
            "[45,   560] loss: 132146.906756\n",
            "[46,   560] loss: 131217.226894\n",
            "[47,   560] loss: 132862.660749\n",
            "[48,   560] loss: 132703.605615\n",
            "[49,   560] loss: 132775.933922\n",
            "[50,   560] loss: 132445.313766\n",
            "Finished Training\n",
            "Avg Loss during Testing -  6298.660993410352\n",
            "L1 values -  [4367.997509447952, 4538.163779210917, 4616.783823520618, 4861.873330164083, 4772.666032816685, 7115.1995461394945]\n",
            "L1 values -  [4367.997509447952, 5731.2301682692305, 5417.997559528081, 5366.928613767102, 4845.17295882367, 6298.660993410352]\n",
            "Sparsity in fc1.weight: 90.31%\n",
            "Sparsity in fc2.weight: 89.84%\n",
            "Sparsity in fc3.weight: 89.84%\n",
            "Sparsity in fc4.weight: 90.62%\n",
            "Sparsity in fc5.weight: 75.00%\n",
            "Global sparsity: 90.00%\n",
            "Avg Loss during Testing -  6557.644667288557\n",
            "[1,   560] loss: 135751.469716\n",
            "[2,   560] loss: 134731.626004\n",
            "[3,   560] loss: 135011.667930\n",
            "[4,   560] loss: 134090.069897\n",
            "[5,   560] loss: 134115.656403\n",
            "[6,   560] loss: 132312.928843\n",
            "[7,   560] loss: 134304.270351\n",
            "[8,   560] loss: 133521.836422\n",
            "[9,   560] loss: 133623.623587\n",
            "[10,   560] loss: 133473.398483\n",
            "[11,   560] loss: 132947.590032\n",
            "[12,   560] loss: 132875.949962\n",
            "[13,   560] loss: 132839.017962\n",
            "[14,   560] loss: 132870.410658\n",
            "[15,   560] loss: 132794.989969\n",
            "[16,   560] loss: 132744.056574\n",
            "[17,   560] loss: 132334.520173\n",
            "[18,   560] loss: 132587.558109\n",
            "[19,   560] loss: 132690.838954\n",
            "[20,   560] loss: 130389.935449\n",
            "[21,   560] loss: 132995.053680\n",
            "[22,   560] loss: 132639.185017\n",
            "[23,   560] loss: 132904.163581\n",
            "[24,   560] loss: 132488.929953\n",
            "[25,   560] loss: 132332.603087\n",
            "[26,   560] loss: 132887.741284\n",
            "[27,   560] loss: 132516.325049\n",
            "[28,   560] loss: 132235.584971\n",
            "[29,   560] loss: 131793.034780\n",
            "[30,   560] loss: 132727.844249\n",
            "[31,   560] loss: 132906.604402\n",
            "[32,   560] loss: 132835.329269\n",
            "[33,   560] loss: 133027.186959\n",
            "[34,   560] loss: 132666.446191\n",
            "[35,   560] loss: 132856.298723\n",
            "[36,   560] loss: 131665.166173\n",
            "[37,   560] loss: 132848.552699\n",
            "[38,   560] loss: 132765.945595\n",
            "[39,   560] loss: 132883.152822\n",
            "[40,   560] loss: 131633.849794\n",
            "[41,   560] loss: 132316.146830\n",
            "[42,   560] loss: 132531.493673\n",
            "[43,   560] loss: 132040.298710\n",
            "[44,   560] loss: 132887.931784\n",
            "[45,   560] loss: 132331.940112\n",
            "[46,   560] loss: 132734.476078\n",
            "[47,   560] loss: 132374.625024\n",
            "[48,   560] loss: 132741.721341\n",
            "[49,   560] loss: 132630.864380\n",
            "[50,   560] loss: 132280.577696\n",
            "Finished Training\n",
            "Avg Loss during Testing -  6317.372766575775\n",
            "L2 values -  [4367.997509447952, 7823.647266970436, 8909.276233017605, 15094.460811925946, 10264.367029037505, 6557.644667288557]\n",
            "L2 values -  [4367.997509447952, 4704.056339396766, 2872.6591793137677, 4321.284145677861, 6308.893643262055, 6317.372766575775]\n"
          ]
        }
      ],
      "source": [
        "# Full cycle\n",
        "\n",
        "parameters_to_prune = (\n",
        "    (net.fc1, 'weight'),\n",
        "    (net.fc2, 'weight'),\n",
        "    (net.fc3, 'weight'),\n",
        "    (net.fc4, 'weight'),\n",
        "    (net.fc5, 'weight'),\n",
        ")\n",
        "\n",
        "batch_loss = 560\n",
        "epoch = 50\n",
        "\n",
        "results_base_l1 = []\n",
        "results_finetune_l1 = []\n",
        "\n",
        "results_base_l2 = []\n",
        "results_finetune_l2 = []\n",
        "\n",
        "# Network\n",
        "net = Net().to(device)\n",
        "print_sparsity(net)\n",
        "\n",
        "criterion = nn.MSELoss()\n",
        "optimizer = optim.Adam(net.parameters(), lr=0.1)\n",
        "\n",
        "train(net, train_loader, epoch, optimizer, criterion, batch_loss)\n",
        "loss_mse = test(net, test_loader, criterion)\n",
        "\n",
        "results_base_l1.append(loss_mse)\n",
        "results_finetune_l1.append(loss_mse)\n",
        "results_base_l2.append(loss_mse)\n",
        "results_finetune_l2.append(loss_mse)\n",
        "\n",
        "PATH = './cifar_net.pth'\n",
        "torch.save(net.state_dict(), PATH)\n",
        "\n",
        "prune_values = [0.2, 0.4, 0.6, 0.8, 0.9]\n",
        "pruning_methods = [0,1]\n",
        "\n",
        "\n",
        "for prune_value in prune_values:\n",
        "  for pruning_method in pruning_methods:\n",
        "  # Each prune value experiment is independent\n",
        "    net = Net().to(device)\n",
        "    net.load_state_dict(torch.load(PATH))\n",
        "    \n",
        "    parameters_to_prune = (\n",
        "    (net.fc1, 'weight'),\n",
        "    (net.fc2, 'weight'),\n",
        "    (net.fc3, 'weight'),\n",
        "    (net.fc4, 'weight'),\n",
        "    (net.fc5, 'weight'),\n",
        "    )\n",
        "\n",
        "    optimizer = optim.Adam(net.parameters(), lr=0.1)\n",
        "    \n",
        "    if pruning_method == 0:\n",
        "      prune.global_unstructured(\n",
        "          parameters_to_prune,\n",
        "          pruning_method=prune.L1Unstructured,\n",
        "          amount=prune_value,\n",
        "      )\n",
        "    else:\n",
        "      prune.global_unstructured(\n",
        "          parameters_to_prune,\n",
        "          pruning_method=prune.RandomUnstructured,\n",
        "          amount=prune_value,\n",
        "      )\n",
        "\n",
        "    print_sparsity(net)\n",
        "    \n",
        "    base_loss = test(net, test_loader, criterion)\n",
        "\n",
        "    train(net, train_loader, epoch, optimizer, criterion, batch_loss)\n",
        "    finetune_loss = test(net, test_loader, criterion)\n",
        "    \n",
        "    if pruning_method == 0:\n",
        "      results_base_l1.append(base_loss)\n",
        "      results_finetune_l1.append(finetune_loss)\n",
        "\n",
        "      print('L1 values - ', results_base_l1)\n",
        "      print('L1 values - ', results_finetune_l1)\n",
        "    else:\n",
        "      results_base_l2.append(base_loss)\n",
        "      results_finetune_l2.append(finetune_loss)\n",
        "\n",
        "      print('L2 values - ', results_base_l2)\n",
        "      print('L2 values - ', results_finetune_l2)"
      ]
    },
    {
      "cell_type": "code",
      "execution_count": null,
      "metadata": {
        "colab": {
          "base_uri": "https://localhost:8080/"
        },
        "id": "Qqf2WvBVmsJH",
        "outputId": "7a658066-f449-4aed-ae0f-e6dce8e685c3"
      },
      "outputs": [
        {
          "data": {
            "text/plain": [
              "[4367.997509447952,\n",
              " 4538.163779210917,\n",
              " 4616.783823520618,\n",
              " 4861.873330164083,\n",
              " 4772.666032816685,\n",
              " 7115.1995461394945]"
            ]
          },
          "execution_count": 25,
          "metadata": {},
          "output_type": "execute_result"
        }
      ],
      "source": [
        "results_base_l1"
      ]
    },
    {
      "cell_type": "code",
      "execution_count": null,
      "metadata": {
        "colab": {
          "base_uri": "https://localhost:8080/"
        },
        "id": "CPPioan3msJH",
        "outputId": "e732b3ee-5295-4e9e-cfc6-ab5880b0278b"
      },
      "outputs": [
        {
          "data": {
            "text/plain": [
              "[4367.997509447952,\n",
              " 5731.2301682692305,\n",
              " 5417.997559528081,\n",
              " 5366.928613767102,\n",
              " 4845.17295882367,\n",
              " 6298.660993410352]"
            ]
          },
          "execution_count": 26,
          "metadata": {},
          "output_type": "execute_result"
        }
      ],
      "source": [
        "results_finetune_l1"
      ]
    },
    {
      "cell_type": "code",
      "execution_count": null,
      "metadata": {
        "colab": {
          "base_uri": "https://localhost:8080/"
        },
        "id": "Yk59mUmgmsJI",
        "outputId": "3b00cb0c-f47c-42f3-8510-31af34b9576d"
      },
      "outputs": [
        {
          "data": {
            "text/plain": [
              "[4367.997509447952,\n",
              " 7823.647266970436,\n",
              " 8909.276233017605,\n",
              " 15094.460811925946,\n",
              " 10264.367029037505,\n",
              " 6557.644667288557]"
            ]
          },
          "execution_count": 27,
          "metadata": {},
          "output_type": "execute_result"
        }
      ],
      "source": [
        "results_base_l2"
      ]
    },
    {
      "cell_type": "code",
      "execution_count": null,
      "metadata": {
        "colab": {
          "base_uri": "https://localhost:8080/"
        },
        "id": "RxKo0dkkmsJI",
        "outputId": "15cdb443-96b0-429a-f580-3af1363dcafe"
      },
      "outputs": [
        {
          "data": {
            "text/plain": [
              "[4367.997509447952,\n",
              " 4704.056339396766,\n",
              " 2872.6591793137677,\n",
              " 4321.284145677861,\n",
              " 6308.893643262055,\n",
              " 6317.372766575775]"
            ]
          },
          "execution_count": 28,
          "metadata": {},
          "output_type": "execute_result"
        }
      ],
      "source": [
        "results_finetune_l2"
      ]
    },
    {
      "cell_type": "code",
      "execution_count": null,
      "metadata": {
        "id": "_AO_G4qPmsJI"
      },
      "outputs": [],
      "source": [
        "x_coord = [0.0, 0.2, 0.4, 0.6, 0.8, 0.9]"
      ]
    },
    {
      "cell_type": "code",
      "execution_count": null,
      "metadata": {
        "colab": {
          "base_uri": "https://localhost:8080/",
          "height": 294
        },
        "id": "OiqOqIO8msJI",
        "outputId": "6b17d79e-d0f8-4b41-e7eb-6a21a6632762"
      },
      "outputs": [
        {
          "data": {
            "image/png": "[encoded data removed]",
            "text/plain": [
              "<Figure size 432x288 with 1 Axes>"
            ]
          },
          "metadata": {},
          "output_type": "display_data"
        }
      ],
      "source": [
        "import matplotlib.pyplot as plt\n",
        "\n",
        "plt.title('Housing Dataset with 5 layer NN and different pruning techniques')\n",
        "plt.plot(x_coord, results_base_l1, label = 'L1 without finetuning')\n",
        "plt.plot(x_coord, results_finetune_l1, label = 'L1 finetuned')\n",
        "plt.plot(x_coord, results_base_l2, label = 'Random without finetuning')\n",
        "plt.plot(x_coord, results_finetune_l2, label = 'Random finetuned')\n",
        "plt.ylabel('MSE loss')\n",
        "plt.xlabel('Sparsity')\n",
        "plt.legend()\n",
        "plt.show()"
      ]
    },
    {
      "cell_type": "markdown",
      "metadata": {
        "id": "jyhuBVX_ottd"
      },
      "source": [
        ""
      ]
    },
    {
      "cell_type": "markdown",
      "metadata": {
        "id": "RBf7zmvBot2t"
      },
      "source": [
        "### 10 layer"
      ]
    },
    {
      "cell_type": "code",
      "execution_count": null,
      "metadata": {
        "id": "gc4t-rWqot2u"
      },
      "outputs": [],
      "source": [
        "def print_sparsity(net):\n",
        "  print(\n",
        "      \"Sparsity in fc1.weight: {:.2f}%\".format(\n",
        "          100. * float(torch.sum(net.fc1.weight == 0))\n",
        "          / float(net.fc1.weight.nelement())\n",
        "      )\n",
        "  )\n",
        "  print(\n",
        "      \"Sparsity in fc2.weight: {:.2f}%\".format(\n",
        "          100. * float(torch.sum(net.fc2.weight == 0))\n",
        "          / float(net.fc2.weight.nelement())\n",
        "      )\n",
        "  )\n",
        "  print(\n",
        "      \"Sparsity in fc3.weight: {:.2f}%\".format(\n",
        "          100. * float(torch.sum(net.fc3.weight == 0))\n",
        "          / float(net.fc3.weight.nelement())\n",
        "      )\n",
        "  )\n",
        "  print(\n",
        "      \"Sparsity in fc4.weight: {:.2f}%\".format(\n",
        "          100. * float(torch.sum(net.fc4.weight == 0))\n",
        "          / float(net.fc4.weight.nelement())\n",
        "      )\n",
        "  )\n",
        "  print(\n",
        "      \"Sparsity in fc5.weight: {:.2f}%\".format(\n",
        "          100. * float(torch.sum(net.fc5.weight == 0))\n",
        "          / float(net.fc5.weight.nelement())\n",
        "      )\n",
        "  )\n",
        "\n",
        "  print(\n",
        "      \"Sparsity in fc6.weight: {:.2f}%\".format(\n",
        "          100. * float(torch.sum(net.fc6.weight == 0))\n",
        "          / float(net.fc6.weight.nelement())\n",
        "      )\n",
        "  )\n",
        "  print(\n",
        "      \"Sparsity in fc7.weight: {:.2f}%\".format(\n",
        "          100. * float(torch.sum(net.fc7.weight == 0))\n",
        "          / float(net.fc7.weight.nelement())\n",
        "      )\n",
        "  )\n",
        "  print(\n",
        "      \"Sparsity in fc8.weight: {:.2f}%\".format(\n",
        "          100. * float(torch.sum(net.fc8.weight == 0))\n",
        "          / float(net.fc8.weight.nelement())\n",
        "      )\n",
        "  )\n",
        "  print(\n",
        "      \"Sparsity in fc9.weight: {:.2f}%\".format(\n",
        "          100. * float(torch.sum(net.fc9.weight == 0))\n",
        "          / float(net.fc9.weight.nelement())\n",
        "      )\n",
        "  )\n",
        "  print(\n",
        "      \"Sparsity in fc10.weight: {:.2f}%\".format(\n",
        "          100. * float(torch.sum(net.fc10.weight == 0))\n",
        "          / float(net.fc10.weight.nelement())\n",
        "      )\n",
        "  )\n",
        "\n",
        "  print(\n",
        "      \"Global sparsity: {:.2f}%\".format(\n",
        "          100. * float(\n",
        "              + torch.sum(net.fc1.weight == 0)\n",
        "              + torch.sum(net.fc2.weight == 0)\n",
        "              + torch.sum(net.fc3.weight == 0)\n",
        "              + torch.sum(net.fc4.weight == 0)\n",
        "              + torch.sum(net.fc5.weight == 0)\n",
        "              + torch.sum(net.fc6.weight == 0)\n",
        "              + torch.sum(net.fc7.weight == 0)\n",
        "              + torch.sum(net.fc8.weight == 0)\n",
        "              + torch.sum(net.fc9.weight == 0)\n",
        "              + torch.sum(net.fc10.weight == 0)\n",
        "          )\n",
        "          / float(\n",
        "              + net.fc1.weight.nelement()\n",
        "              + net.fc2.weight.nelement()\n",
        "              + net.fc3.weight.nelement()\n",
        "              + net.fc4.weight.nelement()\n",
        "              + net.fc5.weight.nelement()\n",
        "              + net.fc6.weight.nelement()\n",
        "              + net.fc7.weight.nelement()\n",
        "              + net.fc8.weight.nelement()\n",
        "              + net.fc9.weight.nelement()\n",
        "              + net.fc10.weight.nelement()\n",
        "          )\n",
        "      )\n",
        "  )"
      ]
    },
    {
      "cell_type": "code",
      "execution_count": null,
      "metadata": {
        "id": "2yAYT3Mgot2v"
      },
      "outputs": [],
      "source": [
        "class Net(nn.Module):\n",
        "    def __init__(self):\n",
        "        super().__init__()\n",
        "        self.fc1 = nn.Linear(20, 20)\n",
        "        self.fc2 = nn.Linear(20, 16)\n",
        "        self.fc3 = nn.Linear(16, 16)\n",
        "        self.fc4 = nn.Linear(16, 16)\n",
        "        self.fc5 = nn.Linear(16, 8)\n",
        "        self.fc6 = nn.Linear(8, 8)\n",
        "        self.fc7 = nn.Linear(8, 4)\n",
        "        self.fc8 = nn.Linear(4, 4)\n",
        "        self.fc9 = nn.Linear(4, 2)\n",
        "        self.fc10 = nn.Linear(2, 1)\n",
        "\n",
        "    def forward(self, x):\n",
        "        # x = torch.flatten(x, 1) # flatten all dimensions except batch\n",
        "        x = torch.tanh(self.fc1(x))\n",
        "        x = torch.tanh(self.fc2(x)) \n",
        "        x = torch.tanh(self.fc3(x))\n",
        "        x = torch.tanh(self.fc4(x))\n",
        "        x = torch.tanh(self.fc5(x))\n",
        "        x = torch.tanh(self.fc6(x)) \n",
        "        x = torch.tanh(self.fc7(x))\n",
        "        x = torch.tanh(self.fc8(x))\n",
        "        x = torch.tanh(self.fc9(x))\n",
        "        x = self.fc10(x)\n",
        "        return x\n",
        "\n",
        "net = Net().to(device)"
      ]
    },
    {
      "cell_type": "code",
      "execution_count": null,
      "metadata": {
        "id": "EVgVvHOqot2v"
      },
      "outputs": [],
      "source": [
        "# # criterion = nn.CrossEntropyLoss()\n",
        "criterion = nn.MSELoss()\n",
        "# # optimizer = optim.SGD(net.parameters(), lr=10)\n",
        "optimizer = optim.Adam(net.parameters(), lr=0.1)"
      ]
    },
    {
      "cell_type": "code",
      "execution_count": null,
      "metadata": {
        "colab": {
          "base_uri": "https://localhost:8080/"
        },
        "id": "nKfrukPOot2v",
        "outputId": "b3485c7c-a551-4e5c-80d9-86ef4382bbc8"
      },
      "outputs": [
        {
          "name": "stdout",
          "output_type": "stream",
          "text": [
            "Avg Loss during Testing -  20534.913569173365\n"
          ]
        },
        {
          "data": {
            "text/plain": [
              "20534.913569173365"
            ]
          },
          "execution_count": 34,
          "metadata": {},
          "output_type": "execute_result"
        }
      ],
      "source": [
        "# Testing before training\n",
        "test(net, test_loader, criterion)"
      ]
    },
    {
      "cell_type": "code",
      "execution_count": null,
      "metadata": {
        "colab": {
          "background_save": true,
          "base_uri": "https://localhost:8080/"
        },
        "id": "Xf9NFJEXot2w",
        "outputId": "c28892c2-9132-476d-ffbf-9e2efaf3c243"
      },
      "outputs": [
        {
          "name": "stdout",
          "output_type": "stream",
          "text": [
            "Sparsity in fc1.weight: 0.00%\n",
            "Sparsity in fc2.weight: 0.00%\n",
            "Sparsity in fc3.weight: 0.00%\n",
            "Sparsity in fc4.weight: 0.00%\n",
            "Sparsity in fc5.weight: 0.00%\n",
            "Sparsity in fc6.weight: 0.00%\n",
            "Sparsity in fc7.weight: 0.00%\n",
            "Sparsity in fc8.weight: 0.00%\n",
            "Sparsity in fc9.weight: 0.00%\n",
            "Sparsity in fc10.weight: 0.00%\n",
            "Global sparsity: 0.00%\n",
            "[1,   560] loss: 339013.993401\n",
            "[2,   560] loss: 230165.709033\n",
            "[3,   560] loss: 171416.415817\n",
            "[4,   560] loss: 145306.897642\n",
            "[5,   560] loss: 134444.265960\n",
            "[6,   560] loss: 133005.179708\n",
            "[7,   560] loss: 132446.382342\n",
            "[8,   560] loss: 132744.403749\n",
            "[9,   560] loss: 132834.166466\n",
            "[10,   560] loss: 132738.260969\n",
            "[11,   560] loss: 132625.727047\n",
            "[12,   560] loss: 132942.565116\n",
            "[13,   560] loss: 132718.372911\n",
            "[14,   560] loss: 131446.753735\n",
            "[15,   560] loss: 132494.361963\n",
            "[16,   560] loss: 132995.588316\n",
            "[17,   560] loss: 132460.824937\n",
            "[18,   560] loss: 132835.106306\n",
            "[19,   560] loss: 132794.888853\n",
            "[20,   560] loss: 132928.141068\n",
            "[21,   560] loss: 132503.659710\n",
            "[22,   560] loss: 132768.546181\n",
            "[23,   560] loss: 131551.823176\n",
            "[24,   560] loss: 132960.603927\n",
            "[25,   560] loss: 132662.819716\n",
            "[26,   560] loss: 132833.192875\n",
            "[27,   560] loss: 129675.459780\n",
            "[28,   560] loss: 132657.524976\n",
            "[29,   560] loss: 132859.833702\n",
            "[30,   560] loss: 132510.129492\n",
            "[31,   560] loss: 130629.864771\n",
            "[32,   560] loss: 132560.841619\n",
            "[33,   560] loss: 132839.790395\n",
            "[34,   560] loss: 132841.189927\n",
            "[35,   560] loss: 132358.385885\n",
            "[36,   560] loss: 132550.497667\n",
            "[37,   560] loss: 132793.476461\n",
            "[38,   560] loss: 132879.851632\n",
            "[39,   560] loss: 132549.647178\n",
            "[40,   560] loss: 131047.968705\n",
            "[41,   560] loss: 131989.912873\n",
            "[42,   560] loss: 132761.854021\n",
            "[43,   560] loss: 132815.274707\n",
            "[44,   560] loss: 132732.724791\n",
            "[45,   560] loss: 132753.473553\n",
            "[46,   560] loss: 132632.362064\n",
            "[47,   560] loss: 132967.386007\n",
            "[48,   560] loss: 132993.053700\n",
            "[49,   560] loss: 132626.636175\n",
            "[50,   560] loss: 132196.899159\n",
            "Finished Training\n",
            "Avg Loss during Testing -  6321.074424302765\n",
            "Sparsity in fc1.weight: 16.25%\n",
            "Sparsity in fc2.weight: 23.12%\n",
            "Sparsity in fc3.weight: 23.44%\n",
            "Sparsity in fc4.weight: 21.09%\n",
            "Sparsity in fc5.weight: 26.56%\n",
            "Sparsity in fc6.weight: 4.69%\n",
            "Sparsity in fc7.weight: 15.62%\n",
            "Sparsity in fc8.weight: 6.25%\n",
            "Sparsity in fc9.weight: 0.00%\n",
            "Sparsity in fc10.weight: 0.00%\n",
            "Global sparsity: 19.97%\n",
            "Avg Loss during Testing -  6324.8538893573\n",
            "[1,   560] loss: 132598.917885\n",
            "[2,   560] loss: 132694.793931\n",
            "[3,   560] loss: 132636.959553\n",
            "[4,   560] loss: 132881.670455\n",
            "[5,   560] loss: 132776.001528\n",
            "[6,   560] loss: 132505.072897\n",
            "[7,   560] loss: 132612.229754\n",
            "[8,   560] loss: 132919.529133\n",
            "[9,   560] loss: 132674.877204\n",
            "[10,   560] loss: 132762.977860\n",
            "[11,   560] loss: 132558.237626\n",
            "[12,   560] loss: 132641.870675\n",
            "[13,   560] loss: 132855.860498\n",
            "[14,   560] loss: 132927.508580\n",
            "[15,   560] loss: 132518.971223\n",
            "[16,   560] loss: 132302.091884\n",
            "[17,   560] loss: 132528.547412\n",
            "[18,   560] loss: 132545.940597\n",
            "[19,   560] loss: 132396.730776\n",
            "[20,   560] loss: 132640.859668\n",
            "[21,   560] loss: 132885.819964\n",
            "[22,   560] loss: 132773.415050\n",
            "[23,   560] loss: 132938.393248\n",
            "[24,   560] loss: 132977.436213\n",
            "[25,   560] loss: 132487.793073\n",
            "[26,   560] loss: 132310.581006\n",
            "[27,   560] loss: 132939.676744\n",
            "[28,   560] loss: 132490.607990\n",
            "[29,   560] loss: 132289.709919\n",
            "[30,   560] loss: 132944.708479\n",
            "[31,   560] loss: 132252.370382\n",
            "[32,   560] loss: 132405.407540\n",
            "[33,   560] loss: 132712.418147\n",
            "[34,   560] loss: 132117.493499\n",
            "[35,   560] loss: 132710.807024\n",
            "[36,   560] loss: 132726.820187\n",
            "[37,   560] loss: 132836.570410\n",
            "[38,   560] loss: 132862.954297\n",
            "[39,   560] loss: 132689.624627\n",
            "[40,   560] loss: 132243.635937\n",
            "[41,   560] loss: 132769.575481\n",
            "[42,   560] loss: 132553.337127\n",
            "[43,   560] loss: 132518.857910\n",
            "[44,   560] loss: 132644.480207\n",
            "[45,   560] loss: 132825.754021\n",
            "[46,   560] loss: 132936.997893\n",
            "[47,   560] loss: 132504.259783\n",
            "[48,   560] loss: 132935.305981\n",
            "[49,   560] loss: 132385.866682\n",
            "[50,   560] loss: 132931.877316\n",
            "Finished Training\n",
            "Avg Loss during Testing -  6299.219768046785\n",
            "L1 values -  [6321.074424302765, 6324.8538893573]\n",
            "L1 values -  [6321.074424302765, 6299.219768046785]\n",
            "Sparsity in fc1.weight: 20.50%\n",
            "Sparsity in fc2.weight: 19.38%\n",
            "Sparsity in fc3.weight: 18.75%\n",
            "Sparsity in fc4.weight: 19.92%\n",
            "Sparsity in fc5.weight: 21.09%\n",
            "Sparsity in fc6.weight: 21.88%\n",
            "Sparsity in fc7.weight: 28.12%\n",
            "Sparsity in fc8.weight: 6.25%\n",
            "Sparsity in fc9.weight: 25.00%\n",
            "Sparsity in fc10.weight: 0.00%\n",
            "Global sparsity: 19.97%\n",
            "Avg Loss during Testing -  6321.766012186663\n",
            "[1,   560] loss: 127080.045358\n",
            "[2,   560] loss: 104077.163281\n",
            "[3,   560] loss: 99958.560174\n",
            "[4,   560] loss: 112360.779307\n",
            "[5,   560] loss: 121469.682614\n",
            "[6,   560] loss: 130293.692432\n",
            "[7,   560] loss: 115713.989035\n",
            "[8,   560] loss: 137569.035104\n",
            "[9,   560] loss: 130188.968952\n",
            "[10,   560] loss: 129995.869256\n",
            "[11,   560] loss: 129904.482443\n",
            "[12,   560] loss: 129199.786171\n",
            "[13,   560] loss: 127402.870020\n",
            "[14,   560] loss: 127653.690831\n",
            "[15,   560] loss: 127615.808859\n",
            "[16,   560] loss: 127328.853170\n",
            "[17,   560] loss: 127467.499969\n",
            "[18,   560] loss: 127506.179792\n",
            "[19,   560] loss: 127498.899383\n",
            "[20,   560] loss: 127629.645365\n",
            "[21,   560] loss: 127172.393464\n",
            "[22,   560] loss: 127165.488801\n",
            "[23,   560] loss: 126041.614554\n",
            "[24,   560] loss: 125129.342927\n",
            "[25,   560] loss: 116178.334919\n",
            "[26,   560] loss: 116195.920846\n",
            "[27,   560] loss: 115129.708151\n",
            "[28,   560] loss: 120605.885083\n",
            "[29,   560] loss: 121309.514080\n",
            "[30,   560] loss: 114093.568255\n",
            "[31,   560] loss: 114399.506829\n",
            "[32,   560] loss: 114787.211353\n",
            "[33,   560] loss: 117758.346029\n",
            "[34,   560] loss: 123308.064328\n",
            "[35,   560] loss: 131678.586649\n",
            "[36,   560] loss: 121381.019831\n",
            "[37,   560] loss: 119637.377187\n",
            "[38,   560] loss: 121758.377466\n",
            "[39,   560] loss: 107369.153162\n",
            "[40,   560] loss: 102207.995131\n",
            "[41,   560] loss: 101162.742824\n",
            "[42,   560] loss: 99300.743663\n",
            "[43,   560] loss: 99507.457024\n",
            "[44,   560] loss: 99194.626547\n",
            "[45,   560] loss: 98532.458702\n",
            "[46,   560] loss: 98887.736196\n",
            "[47,   560] loss: 98708.906972\n",
            "[48,   560] loss: 98680.785927\n",
            "[49,   560] loss: 98531.643966\n",
            "[50,   560] loss: 98543.307373\n",
            "Finished Training\n",
            "Avg Loss during Testing -  4277.459931412648\n",
            "L2 values -  [6321.074424302765, 6321.766012186663]\n",
            "L2 values -  [6321.074424302765, 4277.459931412648]\n",
            "Sparsity in fc1.weight: 33.75%\n",
            "Sparsity in fc2.weight: 41.56%\n",
            "Sparsity in fc3.weight: 48.83%\n",
            "Sparsity in fc4.weight: 42.97%\n",
            "Sparsity in fc5.weight: 53.91%\n",
            "Sparsity in fc6.weight: 18.75%\n",
            "Sparsity in fc7.weight: 25.00%\n",
            "Sparsity in fc8.weight: 6.25%\n",
            "Sparsity in fc9.weight: 0.00%\n",
            "Sparsity in fc10.weight: 0.00%\n",
            "Global sparsity: 40.01%\n",
            "Avg Loss during Testing -  6323.009651262916\n",
            "[1,   560] loss: 132803.205155\n",
            "[2,   560] loss: 132809.630828\n",
            "[3,   560] loss: 132755.427748\n",
            "[4,   560] loss: 132635.413173\n",
            "[5,   560] loss: 132894.738379\n",
            "[6,   560] loss: 132617.432394\n",
            "[7,   560] loss: 132851.496104\n",
            "[8,   560] loss: 132733.075865\n",
            "[9,   560] loss: 132636.060411\n",
            "[10,   560] loss: 132816.543841\n",
            "[11,   560] loss: 132812.465220\n",
            "[12,   560] loss: 132434.126189\n",
            "[13,   560] loss: 132892.308060\n",
            "[14,   560] loss: 132402.906934\n",
            "[15,   560] loss: 132568.238665\n",
            "[16,   560] loss: 132572.242930\n",
            "[17,   560] loss: 132882.961987\n",
            "[18,   560] loss: 132987.203223\n",
            "[19,   560] loss: 132681.425188\n",
            "[20,   560] loss: 132653.257558\n",
            "[21,   560] loss: 132871.723005\n",
            "[22,   560] loss: 132767.899428\n",
            "[23,   560] loss: 132844.042376\n",
            "[24,   560] loss: 132718.039014\n",
            "[25,   560] loss: 132572.072719\n",
            "[26,   560] loss: 132779.004098\n",
            "[27,   560] loss: 132349.004405\n",
            "[28,   560] loss: 132739.696352\n",
            "[29,   560] loss: 132681.977595\n",
            "[30,   560] loss: 132756.407007\n",
            "[31,   560] loss: 132733.343841\n",
            "[32,   560] loss: 132460.983175\n",
            "[33,   560] loss: 132171.812409\n",
            "[34,   560] loss: 132889.195689\n",
            "[35,   560] loss: 132678.906100\n",
            "[36,   560] loss: 132122.245675\n",
            "[37,   560] loss: 132695.056655\n",
            "[38,   560] loss: 132814.865196\n",
            "[39,   560] loss: 132921.248207\n",
            "[40,   560] loss: 132633.395773\n",
            "[41,   560] loss: 132810.483970\n",
            "[42,   560] loss: 132946.023814\n",
            "[43,   560] loss: 132530.942707\n",
            "[44,   560] loss: 132903.752302\n",
            "[45,   560] loss: 132950.633625\n",
            "[46,   560] loss: 132938.072517\n",
            "[47,   560] loss: 131771.064607\n",
            "[48,   560] loss: 132876.529715\n",
            "[49,   560] loss: 132897.664122\n",
            "[50,   560] loss: 132739.124376\n",
            "Finished Training\n",
            "Avg Loss during Testing -  6310.706497560275\n",
            "L1 values -  [6321.074424302765, 6324.8538893573, 6323.009651262916]\n",
            "L1 values -  [6321.074424302765, 6299.219768046785, 6310.706497560275]\n",
            "Sparsity in fc1.weight: 41.00%\n",
            "Sparsity in fc2.weight: 40.00%\n",
            "Sparsity in fc3.weight: 40.62%\n",
            "Sparsity in fc4.weight: 37.89%\n",
            "Sparsity in fc5.weight: 38.28%\n",
            "Sparsity in fc6.weight: 48.44%\n",
            "Sparsity in fc7.weight: 34.38%\n",
            "Sparsity in fc8.weight: 37.50%\n",
            "Sparsity in fc9.weight: 37.50%\n",
            "Sparsity in fc10.weight: 0.00%\n",
            "Global sparsity: 40.01%\n",
            "Avg Loss during Testing -  6335.08767460773\n",
            "[1,   560] loss: 107665.667304\n",
            "[2,   560] loss: 99103.543802\n",
            "[3,   560] loss: 109633.820762\n",
            "[4,   560] loss: 118456.471739\n",
            "[5,   560] loss: 102166.069700\n",
            "[6,   560] loss: 96119.113231\n",
            "[7,   560] loss: 114316.519451\n",
            "[8,   560] loss: 112706.449885\n",
            "[9,   560] loss: 107257.305483\n",
            "[10,   560] loss: 89330.806135\n",
            "[11,   560] loss: 87001.387884\n",
            "[12,   560] loss: 87147.958435\n",
            "[13,   560] loss: 100567.544958\n",
            "[14,   560] loss: 113540.440834\n",
            "[15,   560] loss: 110701.912803\n",
            "[16,   560] loss: 109075.093617\n",
            "[17,   560] loss: 108182.059162\n",
            "[18,   560] loss: 106803.488110\n",
            "[19,   560] loss: 106355.901709\n",
            "[20,   560] loss: 103364.328275\n",
            "[21,   560] loss: 105079.813232\n",
            "[22,   560] loss: 104982.851779\n",
            "[23,   560] loss: 104647.111032\n",
            "[24,   560] loss: 104477.334354\n",
            "[25,   560] loss: 104298.129374\n",
            "[26,   560] loss: 104185.313811\n",
            "[27,   560] loss: 103927.636283\n",
            "[28,   560] loss: 103800.262193\n",
            "[29,   560] loss: 103068.896586\n",
            "[30,   560] loss: 103743.201385\n",
            "[31,   560] loss: 103765.301869\n",
            "[32,   560] loss: 103682.847886\n",
            "[33,   560] loss: 103363.681233\n",
            "[34,   560] loss: 103618.881710\n",
            "[35,   560] loss: 103333.989160\n",
            "[36,   560] loss: 103488.047949\n",
            "[37,   560] loss: 103331.277734\n",
            "[38,   560] loss: 103675.241438\n",
            "[39,   560] loss: 103527.877072\n",
            "[40,   560] loss: 103669.427951\n",
            "[41,   560] loss: 103150.906665\n",
            "[42,   560] loss: 103500.052107\n",
            "[43,   560] loss: 103534.974268\n",
            "[44,   560] loss: 103305.357268\n",
            "[45,   560] loss: 103600.950680\n",
            "[46,   560] loss: 103506.673671\n",
            "[47,   560] loss: 103547.907230\n",
            "[48,   560] loss: 103406.480615\n",
            "[49,   560] loss: 103511.480078\n",
            "[50,   560] loss: 103622.425331\n",
            "Finished Training\n",
            "Avg Loss during Testing -  5078.85098246747\n",
            "L2 values -  [6321.074424302765, 6321.766012186663, 6335.08767460773]\n",
            "L2 values -  [6321.074424302765, 4277.459931412648, 5078.85098246747]\n",
            "Sparsity in fc1.weight: 51.75%\n",
            "Sparsity in fc2.weight: 60.62%\n",
            "Sparsity in fc3.weight: 73.44%\n",
            "Sparsity in fc4.weight: 64.06%\n",
            "Sparsity in fc5.weight: 71.88%\n",
            "Sparsity in fc6.weight: 43.75%\n",
            "Sparsity in fc7.weight: 40.62%\n",
            "Sparsity in fc8.weight: 18.75%\n",
            "Sparsity in fc9.weight: 0.00%\n",
            "Sparsity in fc10.weight: 0.00%\n",
            "Global sparsity: 59.99%\n",
            "Avg Loss during Testing -  6321.356218456994\n",
            "[1,   560] loss: 132717.730406\n",
            "[2,   560] loss: 132777.023009\n",
            "[3,   560] loss: 132544.352023\n",
            "[4,   560] loss: 132391.299058\n",
            "[5,   560] loss: 132805.189526\n",
            "[6,   560] loss: 132970.080197\n",
            "[7,   560] loss: 132558.862528\n",
            "[8,   560] loss: 132772.403913\n",
            "[9,   560] loss: 132952.807363\n",
            "[10,   560] loss: 132500.552689\n",
            "[11,   560] loss: 132550.102665\n",
            "[12,   560] loss: 132884.174341\n",
            "[13,   560] loss: 132817.887960\n",
            "[14,   560] loss: 132578.222084\n",
            "[15,   560] loss: 132599.579300\n",
            "[16,   560] loss: 132884.726451\n",
            "[17,   560] loss: 132216.187692\n",
            "[18,   560] loss: 132960.058922\n",
            "[19,   560] loss: 130571.870916\n",
            "[20,   560] loss: 132144.091403\n",
            "[21,   560] loss: 133007.711290\n",
            "[22,   560] loss: 132881.948717\n",
            "[23,   560] loss: 132917.348887\n",
            "[24,   560] loss: 131557.595086\n",
            "[25,   560] loss: 132758.112821\n",
            "[26,   560] loss: 132362.365615\n",
            "[27,   560] loss: 132922.109187\n",
            "[28,   560] loss: 132785.859821\n",
            "[29,   560] loss: 132372.207467\n",
            "[30,   560] loss: 132825.520124\n",
            "[31,   560] loss: 132923.764708\n",
            "[32,   560] loss: 132912.335198\n",
            "[33,   560] loss: 132828.372674\n",
            "[34,   560] loss: 132816.369887\n",
            "[35,   560] loss: 132797.720156\n",
            "[36,   560] loss: 132666.138473\n",
            "[37,   560] loss: 132540.816699\n",
            "[38,   560] loss: 132876.675757\n",
            "[39,   560] loss: 132864.024854\n",
            "[40,   560] loss: 132328.419531\n",
            "[41,   560] loss: 132719.686844\n",
            "[42,   560] loss: 132815.106383\n",
            "[43,   560] loss: 132651.100328\n",
            "[44,   560] loss: 133070.752511\n",
            "[45,   560] loss: 132748.608025\n",
            "[46,   560] loss: 132490.241793\n",
            "[47,   560] loss: 132479.457167\n",
            "[48,   560] loss: 131960.032174\n",
            "[49,   560] loss: 132651.079520\n",
            "[50,   560] loss: 131914.790262\n",
            "Finished Training\n",
            "Avg Loss during Testing -  6317.747283713643\n",
            "L1 values -  [6321.074424302765, 6324.8538893573, 6323.009651262916, 6321.356218456994]\n",
            "L1 values -  [6321.074424302765, 6299.219768046785, 6310.706497560275, 6317.747283713643]\n",
            "Sparsity in fc1.weight: 59.75%\n",
            "Sparsity in fc2.weight: 59.69%\n",
            "Sparsity in fc3.weight: 59.38%\n",
            "Sparsity in fc4.weight: 60.94%\n",
            "Sparsity in fc5.weight: 60.94%\n",
            "Sparsity in fc6.weight: 65.62%\n",
            "Sparsity in fc7.weight: 46.88%\n",
            "Sparsity in fc8.weight: 56.25%\n",
            "Sparsity in fc9.weight: 62.50%\n",
            "Sparsity in fc10.weight: 100.00%\n",
            "Global sparsity: 59.99%\n",
            "Avg Loss during Testing -  13137.98205785974\n",
            "[1,   560] loss: 241602.259528\n",
            "[2,   560] loss: 210953.039355\n",
            "[3,   560] loss: 186073.615492\n",
            "[4,   560] loss: 167904.127933\n",
            "[5,   560] loss: 154431.677605\n",
            "[6,   560] loss: 145250.082349\n",
            "[7,   560] loss: 139162.536998\n",
            "[8,   560] loss: 135687.951050\n",
            "[9,   560] loss: 133716.579538\n",
            "[10,   560] loss: 133310.624030\n",
            "[11,   560] loss: 133035.834853\n",
            "[12,   560] loss: 132686.202277\n",
            "[13,   560] loss: 132307.933235\n",
            "[14,   560] loss: 132835.862524\n",
            "[15,   560] loss: 132948.165022\n",
            "[16,   560] loss: 130595.318021\n",
            "[17,   560] loss: 132302.181250\n",
            "[18,   560] loss: 132897.840622\n",
            "[19,   560] loss: 132751.457206\n",
            "[20,   560] loss: 132703.750314\n",
            "[21,   560] loss: 132832.831030\n",
            "[22,   560] loss: 132574.661879\n",
            "[23,   560] loss: 132587.512901\n",
            "[24,   560] loss: 132950.630110\n",
            "[25,   560] loss: 132674.052630\n",
            "[26,   560] loss: 132551.657422\n",
            "[27,   560] loss: 132819.746258\n",
            "[28,   560] loss: 132895.550133\n",
            "[29,   560] loss: 132868.244817\n",
            "[30,   560] loss: 132822.500823\n",
            "[31,   560] loss: 132747.149731\n",
            "[32,   560] loss: 132526.852940\n",
            "[33,   560] loss: 132654.300596\n",
            "[34,   560] loss: 132639.090702\n",
            "[35,   560] loss: 132861.167794\n",
            "[36,   560] loss: 132750.436244\n",
            "[37,   560] loss: 132023.978948\n",
            "[38,   560] loss: 132732.159103\n",
            "[39,   560] loss: 132982.257969\n",
            "[40,   560] loss: 132494.332708\n",
            "[41,   560] loss: 132878.582457\n",
            "[42,   560] loss: 132944.575956\n",
            "[43,   560] loss: 132653.700471\n",
            "[44,   560] loss: 132865.638780\n",
            "[45,   560] loss: 132588.300736\n",
            "[46,   560] loss: 132745.304611\n",
            "[47,   560] loss: 132622.887479\n",
            "[48,   560] loss: 132228.527658\n",
            "[49,   560] loss: 132913.387095\n",
            "[50,   560] loss: 132435.714718\n",
            "Finished Training\n",
            "Avg Loss during Testing -  6304.020419237945\n",
            "L2 values -  [6321.074424302765, 6321.766012186663, 6335.08767460773, 13137.98205785974]\n",
            "L2 values -  [6321.074424302765, 4277.459931412648, 5078.85098246747, 6304.020419237945]\n",
            "Sparsity in fc1.weight: 75.25%\n",
            "Sparsity in fc2.weight: 79.06%\n",
            "Sparsity in fc3.weight: 90.62%\n",
            "Sparsity in fc4.weight: 85.55%\n",
            "Sparsity in fc5.weight: 88.28%\n",
            "Sparsity in fc6.weight: 70.31%\n",
            "Sparsity in fc7.weight: 59.38%\n",
            "Sparsity in fc8.weight: 25.00%\n",
            "Sparsity in fc9.weight: 0.00%\n",
            "Sparsity in fc10.weight: 0.00%\n",
            "Global sparsity: 80.03%\n",
            "Avg Loss during Testing -  6335.608402548555\n",
            "[1,   560] loss: 132731.314955\n",
            "[2,   560] loss: 132518.721655\n",
            "[3,   560] loss: 132848.114317\n",
            "[4,   560] loss: 133009.964087\n",
            "[5,   560] loss: 132785.647015\n",
            "[6,   560] loss: 132853.824023\n",
            "[7,   560] loss: 132827.221240\n",
            "[8,   560] loss: 132771.119074\n",
            "[9,   560] loss: 132828.214495\n",
            "[10,   560] loss: 132811.104632\n",
            "[11,   560] loss: 132556.123197\n",
            "[12,   560] loss: 132680.562960\n",
            "[13,   560] loss: 132783.386872\n",
            "[14,   560] loss: 132640.560083\n",
            "[15,   560] loss: 132788.274198\n",
            "[16,   560] loss: 132878.306267\n",
            "[17,   560] loss: 132282.694611\n",
            "[18,   560] loss: 132486.218021\n",
            "[19,   560] loss: 132960.505347\n",
            "[20,   560] loss: 132321.160617\n",
            "[21,   560] loss: 132646.073437\n",
            "[22,   560] loss: 132274.927947\n",
            "[23,   560] loss: 132812.385474\n",
            "[24,   560] loss: 132388.742254\n",
            "[25,   560] loss: 132503.743059\n",
            "[26,   560] loss: 132725.250701\n",
            "[27,   560] loss: 132669.539118\n",
            "[28,   560] loss: 132552.301618\n",
            "[29,   560] loss: 132993.947144\n",
            "[30,   560] loss: 132579.604109\n",
            "[31,   560] loss: 132622.898553\n",
            "[32,   560] loss: 132744.864450\n",
            "[33,   560] loss: 131606.486332\n",
            "[34,   560] loss: 132652.397158\n",
            "[35,   560] loss: 132677.111625\n",
            "[36,   560] loss: 132524.689833\n",
            "[37,   560] loss: 132889.457007\n",
            "[38,   560] loss: 132899.424048\n",
            "[39,   560] loss: 132662.137528\n",
            "[40,   560] loss: 132652.904307\n",
            "[41,   560] loss: 132726.623898\n",
            "[42,   560] loss: 132484.285934\n",
            "[43,   560] loss: 132618.822241\n",
            "[44,   560] loss: 132780.051175\n",
            "[45,   560] loss: 132724.178777\n",
            "[46,   560] loss: 132818.701315\n",
            "[47,   560] loss: 132758.951364\n",
            "[48,   560] loss: 132964.794095\n",
            "[49,   560] loss: 132852.445316\n",
            "[50,   560] loss: 132784.098106\n",
            "Finished Training\n",
            "Avg Loss during Testing -  6310.503429367585\n",
            "L1 values -  [6321.074424302765, 6324.8538893573, 6323.009651262916, 6321.356218456994, 6335.608402548555]\n",
            "L1 values -  [6321.074424302765, 6299.219768046785, 6310.706497560275, 6317.747283713643, 6310.503429367585]\n",
            "Sparsity in fc1.weight: 79.50%\n",
            "Sparsity in fc2.weight: 79.38%\n",
            "Sparsity in fc3.weight: 80.08%\n",
            "Sparsity in fc4.weight: 84.77%\n",
            "Sparsity in fc5.weight: 75.00%\n",
            "Sparsity in fc6.weight: 71.88%\n",
            "Sparsity in fc7.weight: 90.62%\n",
            "Sparsity in fc8.weight: 75.00%\n",
            "Sparsity in fc9.weight: 100.00%\n",
            "Sparsity in fc10.weight: 50.00%\n",
            "Global sparsity: 80.03%\n",
            "Avg Loss during Testing -  8495.670463786835\n",
            "[1,   560] loss: 150946.230451\n",
            "[2,   560] loss: 136359.175310\n",
            "[3,   560] loss: 132220.205472\n",
            "[4,   560] loss: 132372.301761\n",
            "[5,   560] loss: 132736.215880\n",
            "[6,   560] loss: 132555.656034\n",
            "[7,   560] loss: 132688.207847\n",
            "[8,   560] loss: 132827.896770\n",
            "[9,   560] loss: 132731.046589\n",
            "[10,   560] loss: 132523.061217\n",
            "[11,   560] loss: 132704.696122\n",
            "[12,   560] loss: 132782.559361\n",
            "[13,   560] loss: 132839.253177\n",
            "[14,   560] loss: 132768.435174\n",
            "[15,   560] loss: 132726.038853\n",
            "[16,   560] loss: 132788.644315\n",
            "[17,   560] loss: 132386.588797\n",
            "[18,   560] loss: 132945.073472\n",
            "[19,   560] loss: 132904.098029\n",
            "[20,   560] loss: 132817.455246\n",
            "[21,   560] loss: 132650.505894\n",
            "[22,   560] loss: 132739.226821\n",
            "[23,   560] loss: 132134.011217\n",
            "[24,   560] loss: 132940.270487\n",
            "[25,   560] loss: 132700.009448\n",
            "[26,   560] loss: 132651.473532\n",
            "[27,   560] loss: 132773.210833\n",
            "[28,   560] loss: 132749.761893\n",
            "[29,   560] loss: 132787.499568\n",
            "[30,   560] loss: 132633.540932\n",
            "[31,   560] loss: 132995.354632\n",
            "[32,   560] loss: 132686.135718\n",
            "[33,   560] loss: 132880.378610\n",
            "[34,   560] loss: 131782.050799\n",
            "[35,   560] loss: 132493.823029\n",
            "[36,   560] loss: 132907.509518\n",
            "[37,   560] loss: 132864.777302\n",
            "[38,   560] loss: 132233.122147\n",
            "[39,   560] loss: 132911.073601\n",
            "[40,   560] loss: 132853.876367\n",
            "[41,   560] loss: 132630.543377\n",
            "[42,   560] loss: 132624.862301\n",
            "[43,   560] loss: 132902.537835\n",
            "[44,   560] loss: 130424.559086\n",
            "[45,   560] loss: 132546.051116\n",
            "[46,   560] loss: 132877.212939\n",
            "[47,   560] loss: 132913.716406\n",
            "[48,   560] loss: 132660.552748\n",
            "[49,   560] loss: 132792.671404\n",
            "[50,   560] loss: 132764.182732\n",
            "Finished Training\n",
            "Avg Loss during Testing -  6304.394404181018\n",
            "L2 values -  [6321.074424302765, 6321.766012186663, 6335.08767460773, 13137.98205785974, 8495.670463786835]\n",
            "L2 values -  [6321.074424302765, 4277.459931412648, 5078.85098246747, 6304.020419237945, 6304.394404181018]\n",
            "Sparsity in fc1.weight: 88.75%\n",
            "Sparsity in fc2.weight: 89.38%\n",
            "Sparsity in fc3.weight: 95.70%\n",
            "Sparsity in fc4.weight: 93.36%\n",
            "Sparsity in fc5.weight: 95.31%\n",
            "Sparsity in fc6.weight: 92.19%\n",
            "Sparsity in fc7.weight: 75.00%\n",
            "Sparsity in fc8.weight: 25.00%\n",
            "Sparsity in fc9.weight: 0.00%\n",
            "Sparsity in fc10.weight: 0.00%\n",
            "Global sparsity: 90.01%\n",
            "Avg Loss during Testing -  6323.960129490767\n",
            "[1,   560] loss: 132977.183576\n",
            "[2,   560] loss: 132736.512284\n",
            "[3,   560] loss: 132704.576252\n",
            "[4,   560] loss: 132503.020037\n",
            "[5,   560] loss: 132038.749944\n",
            "[6,   560] loss: 132724.660938\n",
            "[7,   560] loss: 132824.588208\n",
            "[8,   560] loss: 132713.337179\n",
            "[9,   560] loss: 132860.745201\n",
            "[10,   560] loss: 132824.105730\n",
            "[11,   560] loss: 132845.876277\n",
            "[12,   560] loss: 132769.958315\n",
            "[13,   560] loss: 132928.656948\n",
            "[14,   560] loss: 132870.384295\n",
            "[15,   560] loss: 132514.599428\n",
            "[16,   560] loss: 132886.379224\n",
            "[17,   560] loss: 132818.544967\n",
            "[18,   560] loss: 132468.795138\n",
            "[19,   560] loss: 132866.957854\n",
            "[20,   560] loss: 131245.705082\n",
            "[21,   560] loss: 132583.243021\n",
            "[22,   560] loss: 132835.034075\n",
            "[23,   560] loss: 132901.845975\n",
            "[24,   560] loss: 132528.855713\n",
            "[25,   560] loss: 132813.762497\n",
            "[26,   560] loss: 132913.041047\n",
            "[27,   560] loss: 132938.985278\n",
            "[28,   560] loss: 131993.266678\n",
            "[29,   560] loss: 132685.986105\n",
            "[30,   560] loss: 132824.303931\n",
            "[31,   560] loss: 132809.455999\n",
            "[32,   560] loss: 132899.182272\n",
            "[33,   560] loss: 132670.545410\n",
            "[34,   560] loss: 132839.155891\n",
            "[35,   560] loss: 132883.888034\n",
            "[36,   560] loss: 132240.408918\n",
            "[37,   560] loss: 132851.563299\n",
            "[38,   560] loss: 132757.595951\n",
            "[39,   560] loss: 132896.532889\n",
            "[40,   560] loss: 132851.643443\n",
            "[41,   560] loss: 131983.349125\n",
            "[42,   560] loss: 132034.614076\n",
            "[43,   560] loss: 132239.268851\n",
            "[44,   560] loss: 132868.237347\n",
            "[45,   560] loss: 132723.432265\n",
            "[46,   560] loss: 132884.540639\n",
            "[47,   560] loss: 132856.596369\n",
            "[48,   560] loss: 132667.756550\n",
            "[49,   560] loss: 132582.064178\n",
            "[50,   560] loss: 132522.240095\n",
            "Finished Training\n",
            "Avg Loss during Testing -  6318.053090915614\n",
            "L1 values -  [6321.074424302765, 6324.8538893573, 6323.009651262916, 6321.356218456994, 6335.608402548555, 6323.960129490767]\n",
            "L1 values -  [6321.074424302765, 6299.219768046785, 6310.706497560275, 6317.747283713643, 6310.503429367585, 6318.053090915614]\n",
            "Sparsity in fc1.weight: 90.00%\n",
            "Sparsity in fc2.weight: 86.56%\n",
            "Sparsity in fc3.weight: 89.45%\n",
            "Sparsity in fc4.weight: 92.19%\n",
            "Sparsity in fc5.weight: 91.41%\n",
            "Sparsity in fc6.weight: 93.75%\n",
            "Sparsity in fc7.weight: 96.88%\n",
            "Sparsity in fc8.weight: 87.50%\n",
            "Sparsity in fc9.weight: 100.00%\n",
            "Sparsity in fc10.weight: 100.00%\n",
            "Global sparsity: 90.01%\n",
            "Avg Loss during Testing -  13149.729417814773\n",
            "[1,   560] loss: 241907.623689\n",
            "[2,   560] loss: 211085.854604\n",
            "[3,   560] loss: 185428.165165\n",
            "[4,   560] loss: 168359.874432\n",
            "[5,   560] loss: 153805.488665\n",
            "[6,   560] loss: 145319.103843\n",
            "[7,   560] loss: 139531.667871\n",
            "[8,   560] loss: 135925.920006\n",
            "[9,   560] loss: 134098.657642\n",
            "[10,   560] loss: 132561.162626\n",
            "[11,   560] loss: 132913.309138\n",
            "[12,   560] loss: 132684.552250\n",
            "[13,   560] loss: 132597.539784\n",
            "[14,   560] loss: 132965.580371\n",
            "[15,   560] loss: 132875.803013\n",
            "[16,   560] loss: 132463.877679\n",
            "[17,   560] loss: 132689.154876\n",
            "[18,   560] loss: 132968.926716\n",
            "[19,   560] loss: 132121.217278\n",
            "[20,   560] loss: 132736.271397\n",
            "[21,   560] loss: 132854.714568\n",
            "[22,   560] loss: 132580.495072\n",
            "[23,   560] loss: 132939.029851\n",
            "[24,   560] loss: 132267.337737\n",
            "[25,   560] loss: 132615.225684\n",
            "[26,   560] loss: 132133.710400\n",
            "[27,   560] loss: 132573.171763\n",
            "[28,   560] loss: 132924.201235\n",
            "[29,   560] loss: 132965.217951\n",
            "[30,   560] loss: 132699.312967\n",
            "[31,   560] loss: 132236.289753\n",
            "[32,   560] loss: 132668.586548\n",
            "[33,   560] loss: 132605.789746\n",
            "[34,   560] loss: 132615.330451\n",
            "[35,   560] loss: 132796.994388\n",
            "[36,   560] loss: 132880.417432\n",
            "[37,   560] loss: 132755.679370\n",
            "[38,   560] loss: 131923.317477\n",
            "[39,   560] loss: 132534.388609\n",
            "[40,   560] loss: 132697.555026\n",
            "[41,   560] loss: 132584.561590\n",
            "[42,   560] loss: 132906.350272\n",
            "[43,   560] loss: 132775.817889\n",
            "[44,   560] loss: 132630.139708\n",
            "[45,   560] loss: 132847.524972\n",
            "[46,   560] loss: 132465.819053\n",
            "[47,   560] loss: 132977.738920\n",
            "[48,   560] loss: 132793.414111\n",
            "[49,   560] loss: 132782.425774\n",
            "[50,   560] loss: 132680.694099\n",
            "Finished Training\n",
            "Avg Loss during Testing -  6310.201035088978\n",
            "L2 values -  [6321.074424302765, 6321.766012186663, 6335.08767460773, 13137.98205785974, 8495.670463786835, 13149.729417814773]\n",
            "L2 values -  [6321.074424302765, 4277.459931412648, 5078.85098246747, 6304.020419237945, 6304.394404181018, 6310.201035088978]\n"
          ]
        }
      ],
      "source": [
        "# Full cycle\n",
        "\n",
        "parameters_to_prune = (\n",
        "    (net.fc1, 'weight'),\n",
        "    (net.fc2, 'weight'),\n",
        "    (net.fc3, 'weight'),\n",
        "    (net.fc4, 'weight'),\n",
        "    (net.fc5, 'weight'),\n",
        "    (net.fc6, 'weight'),\n",
        "    (net.fc7, 'weight'),\n",
        "    (net.fc8, 'weight'),\n",
        "    (net.fc9, 'weight'),\n",
        "    (net.fc10, 'weight'),\n",
        "    )\n",
        "\n",
        "batch_loss = 560\n",
        "epoch = 50\n",
        "\n",
        "results_base_l1 = []\n",
        "results_finetune_l1 = []\n",
        "\n",
        "results_base_l2 = []\n",
        "results_finetune_l2 = []\n",
        "\n",
        "# Network\n",
        "net = Net().to(device)\n",
        "print_sparsity(net)\n",
        "\n",
        "criterion = nn.MSELoss()\n",
        "optimizer = optim.Adam(net.parameters(), lr=0.1)\n",
        "\n",
        "train(net, train_loader, epoch, optimizer, criterion, batch_loss)\n",
        "loss_mse = test(net, test_loader, criterion)\n",
        "\n",
        "results_base_l1.append(loss_mse)\n",
        "results_finetune_l1.append(loss_mse)\n",
        "results_base_l2.append(loss_mse)\n",
        "results_finetune_l2.append(loss_mse)\n",
        "\n",
        "PATH = './cifar_net.pth'\n",
        "torch.save(net.state_dict(), PATH)\n",
        "\n",
        "prune_values = [0.2, 0.4, 0.6, 0.8, 0.9]\n",
        "pruning_methods = [0,1]\n",
        "\n",
        "\n",
        "for prune_value in prune_values:\n",
        "  for pruning_method in pruning_methods:\n",
        "  # Each prune value experiment is independent\n",
        "    net = Net().to(device)\n",
        "    net.load_state_dict(torch.load(PATH))\n",
        "    \n",
        "    parameters_to_prune = (\n",
        "    (net.fc1, 'weight'),\n",
        "    (net.fc2, 'weight'),\n",
        "    (net.fc3, 'weight'),\n",
        "    (net.fc4, 'weight'),\n",
        "    (net.fc5, 'weight'),\n",
        "    (net.fc6, 'weight'),\n",
        "    (net.fc7, 'weight'),\n",
        "    (net.fc8, 'weight'),\n",
        "    (net.fc9, 'weight'),\n",
        "    (net.fc10, 'weight'),\n",
        "    )\n",
        "    \n",
        "    optimizer = optim.Adam(net.parameters(), lr=0.1)\n",
        "    \n",
        "    if pruning_method == 0:\n",
        "      prune.global_unstructured(\n",
        "          parameters_to_prune,\n",
        "          pruning_method=prune.L1Unstructured,\n",
        "          amount=prune_value,\n",
        "      )\n",
        "    else:\n",
        "      prune.global_unstructured(\n",
        "          parameters_to_prune,\n",
        "          pruning_method=prune.RandomUnstructured,\n",
        "          amount=prune_value,\n",
        "      )\n",
        "\n",
        "    print_sparsity(net)\n",
        "    \n",
        "    base_loss = test(net, test_loader, criterion)\n",
        "\n",
        "    train(net, train_loader, epoch, optimizer, criterion, batch_loss)\n",
        "    finetune_loss = test(net, test_loader, criterion)\n",
        "    \n",
        "    if pruning_method == 0:\n",
        "      results_base_l1.append(base_loss)\n",
        "      results_finetune_l1.append(finetune_loss)\n",
        "\n",
        "      print('L1 values - ', results_base_l1)\n",
        "      print('L1 values - ', results_finetune_l1)\n",
        "    else:\n",
        "      results_base_l2.append(base_loss)\n",
        "      results_finetune_l2.append(finetune_loss)\n",
        "\n",
        "      print('L2 values - ', results_base_l2)\n",
        "      print('L2 values - ', results_finetune_l2)"
      ]
    },
    {
      "cell_type": "code",
      "execution_count": null,
      "metadata": {
        "colab": {
          "background_save": true,
          "base_uri": "https://localhost:8080/"
        },
        "id": "OX9TdJXfot2w",
        "outputId": "afe08ba8-56f8-4929-8404-8eccc7ec21f9"
      },
      "outputs": [
        {
          "data": {
            "text/plain": [
              "[6321.074424302765,\n",
              " 6324.8538893573,\n",
              " 6323.009651262916,\n",
              " 6321.356218456994,\n",
              " 6335.608402548555,\n",
              " 6323.960129490767]"
            ]
          },
          "execution_count": null,
          "metadata": {},
          "output_type": "execute_result"
        }
      ],
      "source": [
        "results_base_l1"
      ]
    },
    {
      "cell_type": "code",
      "execution_count": null,
      "metadata": {
        "colab": {
          "background_save": true,
          "base_uri": "https://localhost:8080/"
        },
        "id": "YXz5mcZUot2w",
        "outputId": "6cf8ba16-fa47-4824-8949-2e52299c0613"
      },
      "outputs": [
        {
          "data": {
            "text/plain": [
              "[6321.074424302765,\n",
              " 6299.219768046785,\n",
              " 6310.706497560275,\n",
              " 6317.747283713643,\n",
              " 6310.503429367585,\n",
              " 6318.053090915614]"
            ]
          },
          "execution_count": null,
          "metadata": {},
          "output_type": "execute_result"
        }
      ],
      "source": [
        "results_finetune_l1"
      ]
    },
    {
      "cell_type": "code",
      "execution_count": null,
      "metadata": {
        "colab": {
          "background_save": true,
          "base_uri": "https://localhost:8080/"
        },
        "id": "IEhS8001ot2x",
        "outputId": "1caa2ed4-7470-4fbb-c3dc-8c350ce5557c"
      },
      "outputs": [
        {
          "data": {
            "text/plain": [
              "[6321.074424302765,\n",
              " 6321.766012186663,\n",
              " 6335.08767460773,\n",
              " 13137.98205785974,\n",
              " 8495.670463786835,\n",
              " 13149.729417814773]"
            ]
          },
          "execution_count": null,
          "metadata": {},
          "output_type": "execute_result"
        }
      ],
      "source": [
        "results_base_l2"
      ]
    },
    {
      "cell_type": "code",
      "execution_count": null,
      "metadata": {
        "colab": {
          "background_save": true,
          "base_uri": "https://localhost:8080/"
        },
        "id": "0874MtSHot2x",
        "outputId": "82a3cbaf-e3c9-4aa1-f7bf-cec8f356b60c"
      },
      "outputs": [
        {
          "data": {
            "text/plain": [
              "[6321.074424302765,\n",
              " 4277.459931412648,\n",
              " 5078.85098246747,\n",
              " 6304.020419237945,\n",
              " 6304.394404181018,\n",
              " 6310.201035088978]"
            ]
          },
          "execution_count": null,
          "metadata": {},
          "output_type": "execute_result"
        }
      ],
      "source": [
        "results_finetune_l2"
      ]
    },
    {
      "cell_type": "code",
      "execution_count": null,
      "metadata": {
        "colab": {
          "background_save": true
        },
        "id": "ShFTcOGGot2x"
      },
      "outputs": [],
      "source": [
        "x_coord = [0.0, 0.2, 0.4, 0.6, 0.8, 0.9]"
      ]
    },
    {
      "cell_type": "code",
      "execution_count": null,
      "metadata": {
        "colab": {
          "background_save": true,
          "base_uri": "https://localhost:8080/",
          "height": 294
        },
        "id": "w-iMHwYwot2x",
        "outputId": "e860d66a-c0a5-455b-dbf4-0a67b4d55f5f"
      },
      "outputs": [
        {
          "data": {
            "image/png": "[encoded data removed]",
            "text/plain": [
              "<Figure size 432x288 with 1 Axes>"
            ]
          },
          "metadata": {},
          "output_type": "display_data"
        }
      ],
      "source": [
        "import matplotlib.pyplot as plt\n",
        "\n",
        "plt.title('Housing Dataset with 10 layer NN and different pruning techniques')\n",
        "plt.plot(x_coord, results_base_l1, label = 'L1 without finetuning')\n",
        "plt.plot(x_coord, results_finetune_l1, label = 'L1 finetuned')\n",
        "plt.plot(x_coord, results_base_l2, label = 'Random without finetuning')\n",
        "plt.plot(x_coord, results_finetune_l2, label = 'Random finetuned')\n",
        "plt.ylabel('MSE loss')\n",
        "plt.xlabel('Sparsity')\n",
        "plt.legend()\n",
        "plt.show()"
      ]
    },
    {
      "cell_type": "markdown",
      "metadata": {
        "id": "aJ2hfRUPKiUG"
      },
      "source": [
        "# Archive"
      ]
    },
    {
      "cell_type": "code",
      "execution_count": null,
      "metadata": {
        "colab": {
          "background_save": true,
          "base_uri": "https://localhost:8080/"
        },
        "id": "ndoBCQk1KiUH",
        "outputId": "934fc4c1-d6e9-432a-d3c4-2b0847b33874"
      },
      "outputs": [
        {
          "data": {
            "text/plain": [
              "<bound method Module.parameters of Net(\n",
              "  (fc1): Linear(in_features=20, out_features=20, bias=True)\n",
              "  (fc2): Linear(in_features=20, out_features=16, bias=True)\n",
              "  (fc3): Linear(in_features=16, out_features=16, bias=True)\n",
              "  (fc4): Linear(in_features=16, out_features=16, bias=True)\n",
              "  (fc5): Linear(in_features=16, out_features=8, bias=True)\n",
              "  (fc6): Linear(in_features=8, out_features=8, bias=True)\n",
              "  (fc7): Linear(in_features=8, out_features=4, bias=True)\n",
              "  (fc8): Linear(in_features=4, out_features=4, bias=True)\n",
              "  (fc9): Linear(in_features=4, out_features=2, bias=True)\n",
              "  (fc10): Linear(in_features=2, out_features=1, bias=True)\n",
              ")>"
            ]
          },
          "execution_count": null,
          "metadata": {},
          "output_type": "execute_result"
        }
      ],
      "source": [
        "net.parameters"
      ]
    },
    {
      "cell_type": "code",
      "execution_count": null,
      "metadata": {
        "colab": {
          "background_save": true
        },
        "id": "S4-8sIAIKiUH"
      },
      "outputs": [],
      "source": [
        "parameters_to_prune = (\n",
        "    (net.fc1, 'weight'),\n",
        "    (net.fc2, 'weight'),\n",
        "    (net.fc3, 'weight'),\n",
        ")\n",
        "\n",
        "prune.global_unstructured(\n",
        "    parameters_to_prune,\n",
        "    pruning_method=prune.L1Unstructured,\n",
        "    amount=0.2,\n",
        ")"
      ]
    },
    {
      "cell_type": "code",
      "execution_count": null,
      "metadata": {
        "colab": {
          "background_save": true,
          "base_uri": "https://localhost:8080/"
        },
        "id": "Sl9Ub-gPKiUH",
        "outputId": "164d7c13-b861-4b08-efff-f5adcd34e2ec"
      },
      "outputs": [
        {
          "name": "stdout",
          "output_type": "stream",
          "text": [
            "Sparsity in fc1.weight: 91.75%\n",
            "Sparsity in fc2.weight: 89.06%\n",
            "Sparsity in fc3.weight: 92.19%\n",
            "Global sparsity: 90.98%\n"
          ]
        }
      ],
      "source": [
        "print(\n",
        "    \"Sparsity in fc1.weight: {:.2f}%\".format(\n",
        "        100. * float(torch.sum(net.fc1.weight == 0))\n",
        "        / float(net.fc1.weight.nelement())\n",
        "    )\n",
        ")\n",
        "print(\n",
        "    \"Sparsity in fc2.weight: {:.2f}%\".format(\n",
        "        100. * float(torch.sum(net.fc2.weight == 0))\n",
        "        / float(net.fc2.weight.nelement())\n",
        "    )\n",
        ")\n",
        "print(\n",
        "    \"Sparsity in fc3.weight: {:.2f}%\".format(\n",
        "        100. * float(torch.sum(net.fc3.weight == 0))\n",
        "        / float(net.fc3.weight.nelement())\n",
        "    )\n",
        ")\n",
        "print(\n",
        "    \"Global sparsity: {:.2f}%\".format(\n",
        "        100. * float(\n",
        "            + torch.sum(net.fc1.weight == 0)\n",
        "            + torch.sum(net.fc2.weight == 0)\n",
        "            + torch.sum(net.fc3.weight == 0)\n",
        "        )\n",
        "        / float(\n",
        "            + net.fc1.weight.nelement()\n",
        "            + net.fc2.weight.nelement()\n",
        "            + net.fc3.weight.nelement()\n",
        "        )\n",
        "    )\n",
        ")"
      ]
    },
    {
      "cell_type": "code",
      "execution_count": null,
      "metadata": {
        "colab": {
          "background_save": true,
          "base_uri": "https://localhost:8080/"
        },
        "id": "CvIuDFFSKiUI",
        "outputId": "be5b8cb5-cbde-415b-db22-dfd40ffacf3d"
      },
      "outputs": [
        {
          "name": "stdout",
          "output_type": "stream",
          "text": [
            "6299.001349921068\n"
          ]
        }
      ],
      "source": [
        "# Testing after pruning\n",
        "\n",
        "test_loader = DataLoader(test_dataset, batch_size=32,\n",
        "                        shuffle=True, num_workers=0)\n",
        "\n",
        "running_loss = 0.0\n",
        "for i, data in enumerate(test_loader, 0):\n",
        "    # get the inputs; data is a list of [inputs, labels]\n",
        "    inputs, labels = data['features'].to(device), data['price'].to(device)\n",
        "\n",
        "    # zero the parameter gradients\n",
        "    optimizer.zero_grad()\n",
        "    # print(inputs)\n",
        "    # forward + backward + optimize\n",
        "    outputs = net(inputs)\n",
        "    # print(outputs)\n",
        "    loss = criterion(outputs, labels)\n",
        "    # for name, param in net.named_parameters():\n",
        "    #   if param.requires_grad and name == 'fc2.weight':\n",
        "    #     print(name, param.data)\n",
        "    # print(loss)\n",
        "    loss.backward()\n",
        "    optimizer.step()\n",
        "    # print statistics\n",
        "    running_loss += loss.item()\n",
        "\n",
        "running_loss = running_loss / 2613\n",
        "print(running_loss)"
      ]
    },
    {
      "cell_type": "code",
      "execution_count": null,
      "metadata": {
        "colab": {
          "background_save": true
        },
        "id": "hYuMe0abKiUI"
      },
      "outputs": [],
      "source": [
        "optimizer = optim.Adam(net.parameters(), lr=0.0001)"
      ]
    },
    {
      "cell_type": "code",
      "execution_count": null,
      "metadata": {
        "colab": {
          "background_save": true,
          "base_uri": "https://localhost:8080/"
        },
        "id": "c5GXSfVDKiUI",
        "outputId": "84a11ef4-5b84-49e5-aa96-bfed4793e9fe"
      },
      "outputs": [
        {
          "name": "stdout",
          "output_type": "stream",
          "text": [
            "[1,   200] loss: 122181.137539\n",
            "[1,   400] loss: 146072.629141\n",
            "[2,   200] loss: 137330.837764\n",
            "[2,   400] loss: 131440.652686\n",
            "[3,   200] loss: 136169.098115\n",
            "[3,   400] loss: 129041.408721\n",
            "[4,   200] loss: 138213.130977\n",
            "[4,   400] loss: 127328.475977\n",
            "[5,   200] loss: 130457.387090\n",
            "[5,   400] loss: 127137.012061\n",
            "[6,   200] loss: 125147.003721\n",
            "[6,   400] loss: 143463.541582\n",
            "[7,   200] loss: 131718.300742\n",
            "[7,   400] loss: 139262.185137\n",
            "[8,   200] loss: 123157.821914\n",
            "[8,   400] loss: 157254.663535\n",
            "[9,   200] loss: 126901.994570\n",
            "[9,   400] loss: 141942.693594\n",
            "[10,   200] loss: 123002.345010\n",
            "[10,   400] loss: 150233.661172\n",
            "[11,   200] loss: 124628.028857\n",
            "[11,   400] loss: 132072.065371\n",
            "[12,   200] loss: 141475.281016\n",
            "[12,   400] loss: 129519.830937\n",
            "[13,   200] loss: 125851.403252\n",
            "[13,   400] loss: 139541.558438\n",
            "[14,   200] loss: 143665.514805\n",
            "[14,   400] loss: 128431.276602\n",
            "[15,   200] loss: 134079.954600\n",
            "[15,   400] loss: 131773.914492\n",
            "[16,   200] loss: 142269.049697\n",
            "[16,   400] loss: 133414.586035\n",
            "[17,   200] loss: 138283.644941\n",
            "[17,   400] loss: 131299.523711\n",
            "[18,   200] loss: 124855.285264\n",
            "[18,   400] loss: 140532.927930\n",
            "[19,   200] loss: 142980.839932\n",
            "[19,   400] loss: 129751.729707\n",
            "[20,   200] loss: 119281.121504\n",
            "[20,   400] loss: 136371.047412\n",
            "[21,   200] loss: 144408.274756\n",
            "[21,   400] loss: 122312.323320\n",
            "[22,   200] loss: 141315.811914\n",
            "[22,   400] loss: 136311.564434\n",
            "[23,   200] loss: 127735.802656\n",
            "[23,   400] loss: 133896.440771\n",
            "[24,   200] loss: 133027.427734\n",
            "[24,   400] loss: 126968.946943\n",
            "[25,   200] loss: 142115.678330\n",
            "[25,   400] loss: 127522.076064\n",
            "[26,   200] loss: 147932.946641\n",
            "[26,   400] loss: 124105.889521\n",
            "[27,   200] loss: 132350.987119\n",
            "[27,   400] loss: 127095.023496\n",
            "[28,   200] loss: 124719.365195\n",
            "[28,   400] loss: 137853.421621\n",
            "[29,   200] loss: 127717.051787\n",
            "[29,   400] loss: 130286.414512\n",
            "[30,   200] loss: 124704.037900\n",
            "[30,   400] loss: 153740.540742\n",
            "[31,   200] loss: 120762.926553\n",
            "[31,   400] loss: 125896.119688\n",
            "[32,   200] loss: 131933.134492\n",
            "[32,   400] loss: 126832.004414\n",
            "[33,   200] loss: 145112.984004\n",
            "[33,   400] loss: 117670.914590\n",
            "[34,   200] loss: 133518.156348\n",
            "[34,   400] loss: 124729.918740\n",
            "[35,   200] loss: 125076.841279\n",
            "[35,   400] loss: 137008.428320\n",
            "[36,   200] loss: 141073.229687\n",
            "[36,   400] loss: 141374.834082\n",
            "[37,   200] loss: 123155.081602\n",
            "[37,   400] loss: 132914.704687\n",
            "[38,   200] loss: 137027.054463\n",
            "[38,   400] loss: 133794.707383\n",
            "[39,   200] loss: 145591.160967\n",
            "[39,   400] loss: 129066.342188\n",
            "[40,   200] loss: 138864.678711\n",
            "[40,   400] loss: 127303.923809\n",
            "[41,   200] loss: 144577.973740\n",
            "[41,   400] loss: 124100.621367\n",
            "[42,   200] loss: 129023.554248\n",
            "[42,   400] loss: 131504.133633\n",
            "[43,   200] loss: 126210.100713\n",
            "[43,   400] loss: 141215.292539\n",
            "[44,   200] loss: 132759.388018\n",
            "[44,   400] loss: 135182.389033\n",
            "[45,   200] loss: 130275.949990\n",
            "[45,   400] loss: 140559.182471\n",
            "[46,   200] loss: 134509.973916\n",
            "[46,   400] loss: 131018.174873\n",
            "[47,   200] loss: 128985.091445\n",
            "[47,   400] loss: 151863.764668\n",
            "[48,   200] loss: 127277.646660\n",
            "[48,   400] loss: 133441.166045\n",
            "[49,   200] loss: 139026.259375\n",
            "[49,   400] loss: 133213.078525\n",
            "[50,   200] loss: 159524.920215\n",
            "[50,   400] loss: 118610.866338\n",
            "Finished Training\n"
          ]
        }
      ],
      "source": [
        "for epoch in range(50):  # loop over the dataset multiple times\n",
        "    running_loss = 0.0\n",
        "    for i, data in enumerate(train_loader, 0):\n",
        "        # get the inputs; data is a list of [inputs, labels]\n",
        "        inputs, labels = data['features'].to(device), data['price'].to(device)\n",
        "\n",
        "        # zero the parameter gradients\n",
        "        optimizer.zero_grad()\n",
        "        # print(inputs)\n",
        "        # forward + backward + optimize\n",
        "        outputs = net(inputs)\n",
        "        # print(outputs)\n",
        "        loss = criterion(outputs, labels)\n",
        "        # for name, param in net.named_parameters():\n",
        "        #   if param.requires_grad and name == 'fc2.weight':\n",
        "        #     print(name, param.data)\n",
        "        # print(loss)\n",
        "        loss.backward()\n",
        "        optimizer.step()\n",
        "        # print statistics\n",
        "        running_loss += loss.item()\n",
        "        if i % 200 == 199:    # print every 200 mini-batches\n",
        "            print('[%d, %5d] loss: %.6f' %\n",
        "                  (epoch + 1, i + 1, running_loss / 200))\n",
        "            running_loss = 0.0\n",
        "\n",
        "print('Finished Training')"
      ]
    },
    {
      "cell_type": "code",
      "execution_count": null,
      "metadata": {
        "colab": {
          "background_save": true
        },
        "id": "g4AI0k1qKiUI",
        "outputId": "742bb134-564e-4061-a8e2-d25b7677b7b8"
      },
      "outputs": [
        {
          "name": "stdout",
          "output_type": "stream",
          "text": [
            "6287.0512013251055\n"
          ]
        }
      ],
      "source": [
        "# Testing after finte-tuning with pruning\n",
        "\n",
        "test_loader = DataLoader(test_dataset, batch_size=32,\n",
        "                        shuffle=True, num_workers=0)\n",
        "\n",
        "running_loss = 0.0\n",
        "for i, data in enumerate(test_loader, 0):\n",
        "    # get the inputs; data is a list of [inputs, labels]\n",
        "    inputs, labels = data['features'].to(device), data['price'].to(device)\n",
        "\n",
        "    # zero the parameter gradients\n",
        "    optimizer.zero_grad()\n",
        "    # print(inputs)\n",
        "    # forward + backward + optimize\n",
        "    outputs = net(inputs)\n",
        "    # print(outputs)\n",
        "    loss = criterion(outputs, labels)\n",
        "    # for name, param in net.named_parameters():\n",
        "    #   if param.requires_grad and name == 'fc2.weight':\n",
        "    #     print(name, param.data)\n",
        "    # print(loss)\n",
        "    loss.backward()\n",
        "    optimizer.step()\n",
        "    # print statistics\n",
        "    running_loss += loss.item()\n",
        "\n",
        "running_loss = running_loss / 2613\n",
        "print(running_loss)"
      ]
    },
    {
      "cell_type": "markdown",
      "metadata": {
        "id": "83ySPYZLiO1j"
      },
      "source": [
        "## Plants classification"
      ]
    },
    {
      "cell_type": "markdown",
      "metadata": {
        "id": "kj_J9BS9wpII"
      },
      "source": [
        "# Experiment 1\n"
      ]
    },
    {
      "cell_type": "markdown",
      "metadata": {
        "id": "FZmgh3lIwy4t"
      },
      "source": [
        "**Dataset - One hundred plants texture**\n",
        "\n",
        "**Architecture - 3 layer Neural Network**"
      ]
    },
    {
      "cell_type": "markdown",
      "metadata": {
        "id": "K0GPY8im17JO"
      },
      "source": [
        "### Preliminary training"
      ]
    },
    {
      "cell_type": "code",
      "execution_count": null,
      "metadata": {
        "colab": {
          "background_save": true
        },
        "id": "7p29zFzIw9DA"
      },
      "outputs": [],
      "source": [
        "import torch\n",
        "from torch import nn\n",
        "import torch.nn.utils.prune as prune\n",
        "import torch.nn.functional as F"
      ]
    },
    {
      "cell_type": "code",
      "execution_count": null,
      "metadata": {
        "colab": {
          "background_save": true
        },
        "id": "LlauX8Me5egY"
      },
      "outputs": [],
      "source": [
        "import pandas as pd\n",
        "from torch.utils.data import Dataset, DataLoader\n",
        "import numpy as np"
      ]
    },
    {
      "cell_type": "code",
      "execution_count": null,
      "metadata": {
        "colab": {
          "background_save": true
        },
        "id": "OhS0mG2dwC2z",
        "outputId": "52c0af09-a982-4ceb-dc39-9605dd824d93"
      },
      "outputs": [
        {
          "data": {
            "text/plain": [
              "True"
            ]
          },
          "execution_count": null,
          "metadata": {},
          "output_type": "execute_result"
        }
      ],
      "source": [
        "torch.cuda.is_available()"
      ]
    },
    {
      "cell_type": "code",
      "execution_count": null,
      "metadata": {
        "colab": {
          "background_save": true
        },
        "id": "-0xhaC_swEGs",
        "outputId": "928f4710-886d-443b-cd0b-a2e7d19bab21"
      },
      "outputs": [
        {
          "data": {
            "text/plain": [
              "device(type='cuda', index=0)"
            ]
          },
          "execution_count": null,
          "metadata": {},
          "output_type": "execute_result"
        }
      ],
      "source": [
        "device = torch.device(\"cuda:0\")\n",
        "device"
      ]
    },
    {
      "cell_type": "code",
      "execution_count": null,
      "metadata": {
        "colab": {
          "background_save": true
        },
        "id": "Y_zHdrIm3ulh"
      },
      "outputs": [],
      "source": [
        "class HouseSalesDataset(Dataset):\n",
        "    \"\"\"Face Landmarks dataset.\"\"\"\n",
        "\n",
        "    def __init__(self, csv_file, root_dir, transform=None, train = True):\n",
        "        \"\"\"\n",
        "        Args:\n",
        "            csv_file (string): Path to the csv file with annotations.\n",
        "            root_dir (string): Directory with all the images.\n",
        "            transform (callable, optional): Optional transform to be applied\n",
        "                on a sample.\n",
        "        \"\"\"\n",
        "        self.housing_data = pd.read_csv(csv_file)\n",
        "        self.x = self.housing_data.drop('price', axis = 1)\n",
        "        df = self.housing_data.drop('date', axis = 1)\n",
        "        self.x = (df-df.mean())/df.std()\n",
        "        self.y = self.housing_data[['price']]/1000\n",
        "\n",
        "        if train:\n",
        "          self.x = self.x.iloc[:18000, :]\n",
        "          self.y = self.y.iloc[:18000, :]\n",
        "\n",
        "        else:\n",
        "          self.x = self.x.iloc[18000:, :]\n",
        "          self.y = self.y.iloc[18000:, :]  \n",
        "\n",
        "\n",
        "        print('Length = ', len(self.y))\n",
        "        self.x = torch.Tensor(self.x.values).to(device)\n",
        "        self.y = torch.Tensor(self.y.values).to(device)\n",
        "\n",
        "    def __len__(self):\n",
        "        return len(self.x)\n",
        "\n",
        "    def __getitem__(self, idx):\n",
        "        # if self.transform:\n",
        "        #     sample = self.transform(sample)\n",
        "\n",
        "        features = self.x[idx]\n",
        "        price = self.y[idx]\n",
        "        return {'features': features, 'price': price}"
      ]
    },
    {
      "cell_type": "code",
      "execution_count": null,
      "metadata": {
        "colab": {
          "background_save": true
        },
        "id": "wtU0HSzLDdgH",
        "outputId": "c3c5dbb7-958b-484a-915c-6006b2f2dae2"
      },
      "outputs": [
        {
          "name": "stdout",
          "output_type": "stream",
          "text": [
            "Length =  18000\n",
            "Length =  3613\n"
          ]
        }
      ],
      "source": [
        "train_dataset = HouseSalesDataset(csv_file='kc_house_data.csv',\n",
        "                                    root_dir='/', train = True)\n",
        "\n",
        "test_dataset = HouseSalesDataset(csv_file='kc_house_data.csv',\n",
        "                                    root_dir='/', train = False)\n",
        "\n",
        "train_loader = DataLoader(train_dataset, batch_size=32,\n",
        "                        shuffle=True, num_workers=0)"
      ]
    },
    {
      "cell_type": "code",
      "execution_count": null,
      "metadata": {
        "colab": {
          "background_save": true
        },
        "id": "yZFpI9pnxLZw"
      },
      "outputs": [],
      "source": [
        "import torch.nn as nn\n",
        "import torch.nn.functional as F\n",
        "\n",
        "class Net(nn.Module):\n",
        "    def __init__(self):\n",
        "        super().__init__()\n",
        "        self.fc1 = nn.Linear(20, 16)\n",
        "        self.fc2 = nn.Linear(16, 4)\n",
        "        self.fc3 = nn.Linear(4, 1)\n",
        "\n",
        "    def forward(self, x):\n",
        "        # x = torch.flatten(x, 1) # flatten all dimensions except batch\n",
        "        x = torch.tanh(self.fc1(x))\n",
        "        x = torch.tanh(self.fc2(x))\n",
        "        x = self.fc3(x)\n",
        "        return x\n",
        "\n",
        "net = Net().to(device)"
      ]
    },
    {
      "cell_type": "code",
      "execution_count": null,
      "metadata": {
        "colab": {
          "background_save": true
        },
        "id": "8bClq3wEdsnI"
      },
      "outputs": [],
      "source": [
        "# for i_batch, sample_batched in enumerate(dataloader):\n",
        "#     print(i_batch, sample_batched['features'].size(),\n",
        "#           sample_batched['price'].size())\n",
        "#     outputs = net(sample_batched['features'])\n",
        "#     print(outputs)\n",
        "#     break"
      ]
    },
    {
      "cell_type": "code",
      "execution_count": null,
      "metadata": {
        "colab": {
          "background_save": true
        },
        "id": "yDB3zWTix0kk"
      },
      "outputs": [],
      "source": [
        "import torch.optim as optim\n",
        "\n",
        "# criterion = nn.CrossEntropyLoss()\n",
        "criterion = nn.MSELoss()\n",
        "# optimizer = optim.SGD(net.parameters(), lr=10)\n",
        "optimizer = optim.Adam(net.parameters(), lr=0.1)"
      ]
    },
    {
      "cell_type": "code",
      "execution_count": null,
      "metadata": {
        "colab": {
          "background_save": true
        },
        "id": "oK2BOIYezpg1",
        "outputId": "8491a183-db6f-48ca-e16d-7c0a634e9988"
      },
      "outputs": [
        {
          "name": "stdout",
          "output_type": "stream",
          "text": [
            "19182.876130166474\n"
          ]
        }
      ],
      "source": [
        "# Testing before training\n",
        "\n",
        "test_loader = DataLoader(test_dataset, batch_size=32,\n",
        "                        shuffle=True, num_workers=0)\n",
        "\n",
        "running_loss = 0.0\n",
        "for i, data in enumerate(test_loader, 0):\n",
        "    # get the inputs; data is a list of [inputs, labels]\n",
        "    inputs, labels = data['features'].to(device), data['price'].to(device)\n",
        "\n",
        "    # zero the parameter gradients\n",
        "    optimizer.zero_grad()\n",
        "    # print(inputs)\n",
        "    # forward + backward + optimize\n",
        "    outputs = net(inputs)\n",
        "    # print(outputs)\n",
        "    loss = criterion(outputs, labels)\n",
        "    # for name, param in net.named_parameters():\n",
        "    #   if param.requires_grad and name == 'fc2.weight':\n",
        "    #     print(name, param.data)\n",
        "    # print(loss)\n",
        "    loss.backward()\n",
        "    optimizer.step()\n",
        "    # print statistics\n",
        "    running_loss += loss.item()\n",
        "\n",
        "running_loss = running_loss / 2613\n",
        "print(running_loss)"
      ]
    },
    {
      "cell_type": "code",
      "execution_count": null,
      "metadata": {
        "colab": {
          "background_save": true
        },
        "id": "mG-qVOwBx1Of",
        "outputId": "7269e435-01cc-4457-d750-7dc06ab68cdb"
      },
      "outputs": [
        {
          "name": "stdout",
          "output_type": "stream",
          "text": [
            "[1,   200] loss: 313454.279805\n",
            "[1,   400] loss: 270775.208789\n",
            "[2,   200] loss: 173404.642305\n",
            "[2,   400] loss: 154073.499307\n",
            "[3,   200] loss: 126168.431494\n",
            "[3,   400] loss: 108649.528228\n",
            "[4,   200] loss: 111971.183892\n",
            "[4,   400] loss: 84915.198352\n",
            "[5,   200] loss: 79682.803164\n",
            "[5,   400] loss: 72777.883687\n",
            "[6,   200] loss: 85777.619463\n",
            "[6,   400] loss: 71730.381182\n",
            "[7,   200] loss: 77663.372437\n",
            "[7,   400] loss: 71133.666733\n",
            "[8,   200] loss: 68441.446255\n",
            "[8,   400] loss: 73085.686968\n",
            "[9,   200] loss: 62232.009814\n",
            "[9,   400] loss: 64691.638643\n",
            "[10,   200] loss: 70460.636597\n",
            "[10,   400] loss: 59321.271416\n",
            "[11,   200] loss: 52715.929565\n",
            "[11,   400] loss: 61801.528491\n",
            "[12,   200] loss: 55852.758091\n",
            "[12,   400] loss: 57513.918513\n",
            "[13,   200] loss: 64912.645112\n",
            "[13,   400] loss: 53955.008301\n",
            "[14,   200] loss: 66313.721001\n",
            "[14,   400] loss: 49822.689976\n",
            "[15,   200] loss: 63912.291411\n",
            "[15,   400] loss: 44110.129214\n",
            "[16,   200] loss: 54497.053882\n",
            "[16,   400] loss: 50188.705439\n",
            "[17,   200] loss: 49379.482727\n",
            "[17,   400] loss: 42610.903491\n",
            "[18,   200] loss: 59957.267813\n",
            "[18,   400] loss: 50080.884316\n",
            "[19,   200] loss: 46133.739702\n",
            "[19,   400] loss: 65276.559966\n",
            "[20,   200] loss: 67578.728779\n",
            "[20,   400] loss: 43610.836382\n",
            "[21,   200] loss: 45696.908130\n",
            "[21,   400] loss: 50173.187114\n",
            "[22,   200] loss: 56071.002993\n",
            "[22,   400] loss: 50247.196440\n",
            "[23,   200] loss: 55016.052661\n",
            "[23,   400] loss: 50488.711948\n",
            "[24,   200] loss: 55530.580195\n",
            "[24,   400] loss: 46710.299243\n",
            "[25,   200] loss: 50145.584668\n",
            "[25,   400] loss: 64294.751284\n",
            "[26,   200] loss: 56513.984429\n",
            "[26,   400] loss: 47503.412251\n",
            "[27,   200] loss: 42251.289131\n",
            "[27,   400] loss: 49143.802524\n",
            "[28,   200] loss: 45314.980464\n",
            "[28,   400] loss: 48141.235679\n",
            "[29,   200] loss: 49080.925894\n",
            "[29,   400] loss: 47020.853491\n",
            "[30,   200] loss: 51800.148350\n",
            "[30,   400] loss: 47246.520830\n",
            "[31,   200] loss: 56228.788691\n",
            "[31,   400] loss: 39972.673987\n",
            "[32,   200] loss: 43493.816475\n",
            "[32,   400] loss: 46280.025967\n",
            "[33,   200] loss: 38603.290786\n",
            "[33,   400] loss: 49104.045127\n",
            "[34,   200] loss: 37322.213433\n",
            "[34,   400] loss: 55626.361709\n",
            "[35,   200] loss: 52964.671040\n",
            "[35,   400] loss: 37674.005264\n",
            "[36,   200] loss: 48702.160937\n",
            "[36,   400] loss: 45630.291348\n",
            "[37,   200] loss: 42946.363071\n",
            "[37,   400] loss: 49730.501089\n",
            "[38,   200] loss: 43421.830391\n",
            "[38,   400] loss: 51253.077485\n",
            "[39,   200] loss: 35154.172651\n",
            "[39,   400] loss: 42257.001606\n",
            "[40,   200] loss: 37330.988110\n",
            "[40,   400] loss: 45029.062158\n",
            "[41,   200] loss: 50086.358418\n",
            "[41,   400] loss: 45082.049189\n",
            "[42,   200] loss: 36698.096475\n",
            "[42,   400] loss: 43573.773672\n",
            "[43,   200] loss: 46353.044263\n",
            "[43,   400] loss: 40674.254453\n",
            "[44,   200] loss: 47176.282671\n",
            "[44,   400] loss: 52229.444585\n",
            "[45,   200] loss: 44482.265068\n",
            "[45,   400] loss: 54345.958643\n",
            "[46,   200] loss: 43584.472744\n",
            "[46,   400] loss: 50396.353594\n",
            "[47,   200] loss: 46192.103247\n",
            "[47,   400] loss: 54198.229604\n",
            "[48,   200] loss: 38657.483716\n",
            "[48,   400] loss: 43854.351509\n",
            "[49,   200] loss: 42077.222554\n",
            "[49,   400] loss: 42236.259824\n",
            "[50,   200] loss: 54836.742661\n",
            "[50,   400] loss: 45503.811787\n",
            "Finished Training\n"
          ]
        }
      ],
      "source": [
        "for epoch in range(50):  # loop over the dataset multiple times\n",
        "    running_loss = 0.0\n",
        "    for i, data in enumerate(train_loader, 0):\n",
        "        # get the inputs; data is a list of [inputs, labels]\n",
        "        inputs, labels = data['features'].to(device), data['price'].to(device)\n",
        "\n",
        "        # zero the parameter gradients\n",
        "        optimizer.zero_grad()\n",
        "        # print(inputs)\n",
        "        # forward + backward + optimize\n",
        "        outputs = net(inputs)\n",
        "        # print(outputs)\n",
        "        loss = criterion(outputs, labels)\n",
        "        # for name, param in net.named_parameters():\n",
        "        #   if param.requires_grad and name == 'fc2.weight':\n",
        "        #     print(name, param.data)\n",
        "        # print(loss)\n",
        "        loss.backward()\n",
        "        optimizer.step()\n",
        "        # print statistics\n",
        "        running_loss += loss.item()\n",
        "        if i % 200 == 199:    # print every 200 mini-batches\n",
        "            print('[%d, %5d] loss: %.6f' %\n",
        "                  (epoch + 1, i + 1, running_loss / 200))\n",
        "            running_loss = 0.0\n",
        "\n",
        "print('Finished Training')"
      ]
    },
    {
      "cell_type": "code",
      "execution_count": null,
      "metadata": {
        "id": "B6dVOovf1uGK"
      },
      "outputs": [],
      "source": [
        "# Testing after training\n",
        "\n",
        "test_loader = DataLoader(test_dataset, batch_size=32,\n",
        "                        shuffle=True, num_workers=0)\n",
        "\n",
        "running_loss = 0.0\n",
        "for i, data in enumerate(test_loader, 0):\n",
        "    # get the inputs; data is a list of [inputs, labels]\n",
        "    inputs, labels = data['features'].to(device), data['price'].to(device)\n",
        "\n",
        "    # zero the parameter gradients\n",
        "    optimizer.zero_grad()\n",
        "    # print(inputs)\n",
        "    # forward + backward + optimize\n",
        "    outputs = net(inputs)\n",
        "    # print(outputs)\n",
        "    loss = criterion(outputs, labels)\n",
        "    # for name, param in net.named_parameters():\n",
        "    #   if param.requires_grad and name == 'fc2.weight':\n",
        "    #     print(name, param.data)\n",
        "    # print(loss)\n",
        "    loss.backward()\n",
        "    optimizer.step()\n",
        "    # print statistics\n",
        "    running_loss += loss.item()\n",
        "\n",
        "running_loss = running_loss / 2613\n",
        "print(running_loss)"
      ]
    },
    {
      "cell_type": "code",
      "execution_count": null,
      "metadata": {
        "colab": {
          "background_save": true
        },
        "id": "INLwBAB2yAui"
      },
      "outputs": [],
      "source": [
        "# PATH = './cifar_net.pth'\n",
        "# torch.save(net.state_dict(), PATH)"
      ]
    },
    {
      "cell_type": "code",
      "execution_count": null,
      "metadata": {
        "colab": {
          "background_save": true
        },
        "id": "qAu-V_4jyIjm"
      },
      "outputs": [],
      "source": [
        "# dataiter = iter(testloader)\n",
        "# images, labels = dataiter.next()\n",
        "\n",
        "# # print images\n",
        "# imshow(torchvision.utils.make_grid(images))\n",
        "# print('GroundTruth: ', ' '.join('%5s' % classes[labels[j]] for j in range(4)))"
      ]
    },
    {
      "cell_type": "code",
      "execution_count": null,
      "metadata": {
        "colab": {
          "background_save": true
        },
        "id": "IhC2GF5ByMBq",
        "outputId": "8c131678-eb02-4af6-df77-c976e9c34489"
      },
      "outputs": [
        {
          "ename": "RuntimeError",
          "evalue": "ignored",
          "output_type": "error",
          "traceback": [
            "\u001b[0;31m---------------------------------------------------------------------------\u001b[0m",
            "\u001b[0;31mRuntimeError\u001b[0m                              Traceback (most recent call last)",
            "\u001b[0;32m<ipython-input-63-8b61435874a9>\u001b[0m in \u001b[0;36m<module>\u001b[0;34m()\u001b[0m\n\u001b[1;32m      1\u001b[0m \u001b[0mnet\u001b[0m \u001b[0;34m=\u001b[0m \u001b[0mNet\u001b[0m\u001b[0;34m(\u001b[0m\u001b[0;34m)\u001b[0m\u001b[0;34m\u001b[0m\u001b[0;34m\u001b[0m\u001b[0m\n\u001b[0;32m----> 2\u001b[0;31m \u001b[0mnet\u001b[0m\u001b[0;34m.\u001b[0m\u001b[0mload_state_dict\u001b[0m\u001b[0;34m(\u001b[0m\u001b[0mtorch\u001b[0m\u001b[0;34m.\u001b[0m\u001b[0mload\u001b[0m\u001b[0;34m(\u001b[0m\u001b[0mPATH\u001b[0m\u001b[0;34m)\u001b[0m\u001b[0;34m)\u001b[0m\u001b[0;34m\u001b[0m\u001b[0;34m\u001b[0m\u001b[0m\n\u001b[0m",
            "\u001b[0;32m/usr/local/lib/python3.7/dist-packages/torch/nn/modules/module.py\u001b[0m in \u001b[0;36mload_state_dict\u001b[0;34m(self, state_dict, strict)\u001b[0m\n\u001b[1;32m   1481\u001b[0m         \u001b[0;32mif\u001b[0m \u001b[0mlen\u001b[0m\u001b[0;34m(\u001b[0m\u001b[0merror_msgs\u001b[0m\u001b[0;34m)\u001b[0m \u001b[0;34m>\u001b[0m \u001b[0;36m0\u001b[0m\u001b[0;34m:\u001b[0m\u001b[0;34m\u001b[0m\u001b[0;34m\u001b[0m\u001b[0m\n\u001b[1;32m   1482\u001b[0m             raise RuntimeError('Error(s) in loading state_dict for {}:\\n\\t{}'.format(\n\u001b[0;32m-> 1483\u001b[0;31m                                self.__class__.__name__, \"\\n\\t\".join(error_msgs)))\n\u001b[0m\u001b[1;32m   1484\u001b[0m         \u001b[0;32mreturn\u001b[0m \u001b[0m_IncompatibleKeys\u001b[0m\u001b[0;34m(\u001b[0m\u001b[0mmissing_keys\u001b[0m\u001b[0;34m,\u001b[0m \u001b[0munexpected_keys\u001b[0m\u001b[0;34m)\u001b[0m\u001b[0;34m\u001b[0m\u001b[0;34m\u001b[0m\u001b[0m\n\u001b[1;32m   1485\u001b[0m \u001b[0;34m\u001b[0m\u001b[0m\n",
            "\u001b[0;31mRuntimeError\u001b[0m: Error(s) in loading state_dict for Net:\n\tUnexpected key(s) in state_dict: \"fc4.weight\", \"fc4.bias\", \"fc5.weight\", \"fc5.bias\", \"fc6.weight\", \"fc6.bias\", \"fc7.weight\", \"fc7.bias\", \"fc8.weight\", \"fc8.bias\", \"fc9.weight\", \"fc9.bias\", \"fc10.weight\", \"fc10.bias\". \n\tsize mismatch for fc1.weight: copying a param with shape torch.Size([20, 20]) from checkpoint, the shape in current model is torch.Size([16, 20]).\n\tsize mismatch for fc1.bias: copying a param with shape torch.Size([20]) from checkpoint, the shape in current model is torch.Size([16]).\n\tsize mismatch for fc2.weight: copying a param with shape torch.Size([16, 20]) from checkpoint, the shape in current model is torch.Size([4, 16]).\n\tsize mismatch for fc2.bias: copying a param with shape torch.Size([16]) from checkpoint, the shape in current model is torch.Size([4]).\n\tsize mismatch for fc3.weight: copying a param with shape torch.Size([16, 16]) from checkpoint, the shape in current model is torch.Size([1, 4]).\n\tsize mismatch for fc3.bias: copying a param with shape torch.Size([16]) from checkpoint, the shape in current model is torch.Size([1])."
          ]
        }
      ],
      "source": [
        "net = Net()\n",
        "net.load_state_dict(torch.load(PATH))"
      ]
    },
    {
      "cell_type": "code",
      "execution_count": null,
      "metadata": {
        "colab": {
          "background_save": true
        },
        "id": "ndKMGUlk10Lb"
      },
      "outputs": [],
      "source": [
        ""
      ]
    },
    {
      "cell_type": "code",
      "execution_count": null,
      "metadata": {
        "colab": {
          "background_save": true
        },
        "id": "MJ2qR7eiyOVA"
      },
      "outputs": [],
      "source": [
        "# outputs = net(images)"
      ]
    },
    {
      "cell_type": "markdown",
      "metadata": {
        "id": "hOScOg_Y1_6S"
      },
      "source": [
        "### Global pruning"
      ]
    },
    {
      "cell_type": "code",
      "execution_count": null,
      "metadata": {
        "colab": {
          "background_save": true
        },
        "id": "vzCyqXbp2Itl"
      },
      "outputs": [],
      "source": [
        "net.parameters"
      ]
    },
    {
      "cell_type": "code",
      "execution_count": null,
      "metadata": {
        "colab": {
          "background_save": true
        },
        "id": "XmsBmesT2Ch8"
      },
      "outputs": [],
      "source": [
        "parameters_to_prune = (\n",
        "    (net.fc1, 'weight'),\n",
        "    (net.fc2, 'weight'),\n",
        "    (net.fc3, 'weight'),\n",
        ")\n",
        "\n",
        "prune.global_unstructured(\n",
        "    parameters_to_prune,\n",
        "    pruning_method=prune.L1Unstructured,\n",
        "    amount=0.2,\n",
        ")"
      ]
    },
    {
      "cell_type": "code",
      "execution_count": null,
      "metadata": {
        "colab": {
          "background_save": true
        },
        "id": "UpWOfgvp2Ch_"
      },
      "outputs": [],
      "source": [
        "print(\n",
        "    \"Sparsity in fc1.weight: {:.2f}%\".format(\n",
        "        100. * float(torch.sum(net.fc1.weight == 0))\n",
        "        / float(net.fc1.weight.nelement())\n",
        "    )\n",
        ")\n",
        "print(\n",
        "    \"Sparsity in fc2.weight: {:.2f}%\".format(\n",
        "        100. * float(torch.sum(net.fc2.weight == 0))\n",
        "        / float(net.fc2.weight.nelement())\n",
        "    )\n",
        ")\n",
        "print(\n",
        "    \"Sparsity in fc3.weight: {:.2f}%\".format(\n",
        "        100. * float(torch.sum(net.fc3.weight == 0))\n",
        "        / float(net.fc3.weight.nelement())\n",
        "    )\n",
        ")\n",
        "print(\n",
        "    \"Global sparsity: {:.2f}%\".format(\n",
        "        100. * float(\n",
        "            + torch.sum(net.fc1.weight == 0)\n",
        "            + torch.sum(net.fc2.weight == 0)\n",
        "            + torch.sum(net.fc3.weight == 0)\n",
        "        )\n",
        "        / float(\n",
        "            + net.fc1.weight.nelement()\n",
        "            + net.fc2.weight.nelement()\n",
        "            + net.fc3.weight.nelement()\n",
        "        )\n",
        "    )\n",
        ")"
      ]
    },
    {
      "cell_type": "code",
      "execution_count": null,
      "metadata": {
        "colab": {
          "background_save": true
        },
        "id": "x37dQbGH2fTf"
      },
      "outputs": [],
      "source": [
        "# Testing after pruning\n",
        "\n",
        "test_loader = DataLoader(test_dataset, batch_size=32,\n",
        "                        shuffle=True, num_workers=0)\n",
        "\n",
        "running_loss = 0.0\n",
        "for i, data in enumerate(test_loader, 0):\n",
        "    # get the inputs; data is a list of [inputs, labels]\n",
        "    inputs, labels = data['features'].to(device), data['price'].to(device)\n",
        "\n",
        "    # zero the parameter gradients\n",
        "    optimizer.zero_grad()\n",
        "    # print(inputs)\n",
        "    # forward + backward + optimize\n",
        "    outputs = net(inputs)\n",
        "    # print(outputs)\n",
        "    loss = criterion(outputs, labels)\n",
        "    # for name, param in net.named_parameters():\n",
        "    #   if param.requires_grad and name == 'fc2.weight':\n",
        "    #     print(name, param.data)\n",
        "    # print(loss)\n",
        "    loss.backward()\n",
        "    optimizer.step()\n",
        "    # print statistics\n",
        "    running_loss += loss.item()\n",
        "\n",
        "running_loss = running_loss / 2613\n",
        "print(running_loss)"
      ]
    },
    {
      "cell_type": "code",
      "execution_count": null,
      "metadata": {
        "colab": {
          "background_save": true
        },
        "id": "Sjw9tUxz3egg"
      },
      "outputs": [],
      "source": [
        "optimizer = optim.Adam(net.parameters(), lr=0.0001)"
      ]
    },
    {
      "cell_type": "code",
      "execution_count": null,
      "metadata": {
        "colab": {
          "background_save": true
        },
        "id": "IeNmaL0l2s_f"
      },
      "outputs": [],
      "source": [
        "for epoch in range(50):  # loop over the dataset multiple times\n",
        "    running_loss = 0.0\n",
        "    for i, data in enumerate(train_loader, 0):\n",
        "        # get the inputs; data is a list of [inputs, labels]\n",
        "        inputs, labels = data['features'].to(device), data['price'].to(device)\n",
        "\n",
        "        # zero the parameter gradients\n",
        "        optimizer.zero_grad()\n",
        "        # print(inputs)\n",
        "        # forward + backward + optimize\n",
        "        outputs = net(inputs)\n",
        "        # print(outputs)\n",
        "        loss = criterion(outputs, labels)\n",
        "        # for name, param in net.named_parameters():\n",
        "        #   if param.requires_grad and name == 'fc2.weight':\n",
        "        #     print(name, param.data)\n",
        "        # print(loss)\n",
        "        loss.backward()\n",
        "        optimizer.step()\n",
        "        # print statistics\n",
        "        running_loss += loss.item()\n",
        "        if i % 200 == 199:    # print every 200 mini-batches\n",
        "            print('[%d, %5d] loss: %.6f' %\n",
        "                  (epoch + 1, i + 1, running_loss / 200))\n",
        "            running_loss = 0.0\n",
        "\n",
        "print('Finished Training')"
      ]
    },
    {
      "cell_type": "code",
      "execution_count": null,
      "metadata": {
        "colab": {
          "background_save": true
        },
        "id": "M0e6AaML3Dr2"
      },
      "outputs": [],
      "source": [
        "# Testing after finte-tuning with pruning\n",
        "\n",
        "test_loader = DataLoader(test_dataset, batch_size=32,\n",
        "                        shuffle=True, num_workers=0)\n",
        "\n",
        "running_loss = 0.0\n",
        "for i, data in enumerate(test_loader, 0):\n",
        "    # get the inputs; data is a list of [inputs, labels]\n",
        "    inputs, labels = data['features'].to(device), data['price'].to(device)\n",
        "\n",
        "    # zero the parameter gradients\n",
        "    optimizer.zero_grad()\n",
        "    # print(inputs)\n",
        "    # forward + backward + optimize\n",
        "    outputs = net(inputs)\n",
        "    # print(outputs)\n",
        "    loss = criterion(outputs, labels)\n",
        "    # for name, param in net.named_parameters():\n",
        "    #   if param.requires_grad and name == 'fc2.weight':\n",
        "    #     print(name, param.data)\n",
        "    # print(loss)\n",
        "    loss.backward()\n",
        "    optimizer.step()\n",
        "    # print statistics\n",
        "    running_loss += loss.item()\n",
        "\n",
        "running_loss = running_loss / 2613\n",
        "print(running_loss)"
      ]
    },
    {
      "cell_type": "code",
      "execution_count": null,
      "metadata": {
        "id": "nRaMyEVzvoBQ"
      },
      "outputs": [],
      "source": [
        "module = net.fc1\n",
        "print(list(module.named_parameters()))"
      ]
    },
    {
      "cell_type": "code",
      "execution_count": null,
      "metadata": {
        "id": "vgvIrZguvsHB"
      },
      "outputs": [],
      "source": [
        "print(list(module.named_buffers()))"
      ]
    },
    {
      "cell_type": "code",
      "execution_count": null,
      "metadata": {
        "id": "oH2TsKSovvCL"
      },
      "outputs": [],
      "source": [
        "prune.random_unstructured(module, name=\"weight\", amount=0.15)"
      ]
    },
    {
      "cell_type": "code",
      "execution_count": null,
      "metadata": {
        "id": "ni68XwmBvyX4"
      },
      "outputs": [],
      "source": [
        "print(list(module.named_parameters()))"
      ]
    },
    {
      "cell_type": "code",
      "execution_count": null,
      "metadata": {
        "id": "dLjS5bxQv5O9"
      },
      "outputs": [],
      "source": [
        "print(list(module.named_buffers()))"
      ]
    },
    {
      "cell_type": "code",
      "execution_count": null,
      "metadata": {
        "id": "mUWJiC8JwKk5"
      },
      "outputs": [],
      "source": [
        "print(module.weight)"
      ]
    },
    {
      "cell_type": "code",
      "execution_count": null,
      "metadata": {
        "id": "d5FWQq_twKk6"
      },
      "outputs": [],
      "source": [
        "print(module._forward_pre_hooks)"
      ]
    },
    {
      "cell_type": "code",
      "execution_count": null,
      "metadata": {
        "id": "DW05XgsKwKk6"
      },
      "outputs": [],
      "source": [
        "# prune.l1_unstructured(module, name=\"bias\", amount=0.2)"
      ]
    },
    {
      "cell_type": "code",
      "execution_count": null,
      "metadata": {
        "id": "aQSrIwNewKk6"
      },
      "outputs": [],
      "source": [
        "# print(list(module.named_parameters()))"
      ]
    },
    {
      "cell_type": "code",
      "execution_count": null,
      "metadata": {
        "id": "IKE7_4lFwKk7"
      },
      "outputs": [],
      "source": [
        "# print(list(module.named_buffers()))"
      ]
    },
    {
      "cell_type": "code",
      "execution_count": null,
      "metadata": {
        "id": "wX9nN8DowKk7"
      },
      "outputs": [],
      "source": [
        "# print(module.bias)"
      ]
    },
    {
      "cell_type": "code",
      "execution_count": null,
      "metadata": {
        "id": "9bo2KYtfwKk7"
      },
      "outputs": [],
      "source": [
        "# print(module._forward_pre_hooks)"
      ]
    },
    {
      "cell_type": "code",
      "execution_count": null,
      "metadata": {
        "id": "Cey-RehrwdjI"
      },
      "outputs": [],
      "source": [
        "for epoch in range(10):  # loop over the dataset multiple times\n",
        "\n",
        "    running_loss = 0.0\n",
        "    for i, data in enumerate(dataloader, 0):\n",
        "        # get the inputs; data is a list of [inputs, labels]\n",
        "        inputs, labels = data['features'], data['price']\n",
        "\n",
        "        # zero the parameter gradients\n",
        "        optimizer.zero_grad()\n",
        "        # print(inputs)\n",
        "        # forward + backward + optimize\n",
        "        outputs = net(inputs)\n",
        "        # print(outputs)\n",
        "        loss = criterion(outputs, labels)\n",
        "        # print(loss)\n",
        "        loss.backward()\n",
        "        optimizer.step()\n",
        "        # print statistics\n",
        "        running_loss += loss.item()\n",
        "        if i % 200 == 199:    # print every 200 mini-batches\n",
        "            print('[%d, %5d] loss: %.6f' %\n",
        "                  (epoch + 1, i + 1, running_loss / 200))\n",
        "            running_loss = 0.0\n",
        "\n",
        "print('Finished Training')"
      ]
    },
    {
      "cell_type": "markdown",
      "metadata": {
        "id": "4Pp6X2fNvCfB"
      },
      "source": [
        "## From the blog"
      ]
    },
    {
      "cell_type": "markdown",
      "metadata": {
        "id": "x3sEyvXjvsks"
      },
      "source": [
        "### Local pruning"
      ]
    },
    {
      "cell_type": "code",
      "execution_count": null,
      "metadata": {
        "id": "70cx-Wlcux3H"
      },
      "outputs": [],
      "source": [
        "import torch\n",
        "from torch import nn\n",
        "import torch.nn.utils.prune as prune\n",
        "import torch.nn.functional as F"
      ]
    },
    {
      "cell_type": "code",
      "execution_count": null,
      "metadata": {
        "id": "bpHfP5rKvFLq"
      },
      "outputs": [],
      "source": [
        "device = torch.device(\"cuda\" if torch.cuda.is_available() else \"cpu\")\n",
        "\n",
        "class LeNet(nn.Module):\n",
        "    def __init__(self):\n",
        "        super(LeNet, self).__init__()\n",
        "        # 1 input image channel, 6 output channels, 3x3 square conv kernel\n",
        "        self.conv1 = nn.Conv2d(1, 6, 3)\n",
        "        self.conv2 = nn.Conv2d(6, 16, 3)\n",
        "        self.fc1 = nn.Linear(16 * 5 * 5, 120)  # 5x5 image dimension\n",
        "        self.fc2 = nn.Linear(120, 84)\n",
        "        self.fc3 = nn.Linear(84, 10)\n",
        "\n",
        "    def forward(self, x):\n",
        "        x = F.max_pool2d(F.relu(self.conv1(x)), (2, 2))\n",
        "        x = F.max_pool2d(F.relu(self.conv2(x)), 2)\n",
        "        x = x.view(-1, int(x.nelement() / x.shape[0]))\n",
        "        x = F.relu(self.fc1(x))\n",
        "        x = F.relu(self.fc2(x))\n",
        "        x = self.fc3(x)\n",
        "        return x\n",
        "\n",
        "model = LeNet().to(device=device)"
      ]
    },
    {
      "cell_type": "code",
      "execution_count": null,
      "metadata": {
        "id": "sFglxGfJvItu"
      },
      "outputs": [],
      "source": [
        "module = model.fc1\n",
        "print(list(module.named_parameters()))"
      ]
    },
    {
      "cell_type": "code",
      "execution_count": null,
      "metadata": {
        "id": "4guflj9pvKlO"
      },
      "outputs": [],
      "source": [
        "print(list(module.named_buffers()))"
      ]
    },
    {
      "cell_type": "code",
      "execution_count": null,
      "metadata": {
        "id": "zEqOQihkvOIA"
      },
      "outputs": [],
      "source": [
        "prune.random_unstructured(module, name=\"weight\", amount=0.3)"
      ]
    },
    {
      "cell_type": "code",
      "execution_count": null,
      "metadata": {
        "id": "YVV7QFzLvQ5Q"
      },
      "outputs": [],
      "source": [
        "print(list(module.named_parameters()))"
      ]
    },
    {
      "cell_type": "code",
      "execution_count": null,
      "metadata": {
        "id": "FvgHtZOzvSx7"
      },
      "outputs": [],
      "source": [
        "print(list(module.named_buffers()))"
      ]
    },
    {
      "cell_type": "code",
      "execution_count": null,
      "metadata": {
        "id": "tH4-6Su0vXzs"
      },
      "outputs": [],
      "source": [
        "print(module.weight)"
      ]
    },
    {
      "cell_type": "code",
      "execution_count": null,
      "metadata": {
        "id": "peFlVtovvarn"
      },
      "outputs": [],
      "source": [
        "print(module._forward_pre_hooks)"
      ]
    },
    {
      "cell_type": "code",
      "execution_count": null,
      "metadata": {
        "id": "ArWdi4u_vcw3"
      },
      "outputs": [],
      "source": [
        "prune.l1_unstructured(module, name=\"bias\", amount=3)"
      ]
    },
    {
      "cell_type": "code",
      "execution_count": null,
      "metadata": {
        "id": "2MAvudMbveea"
      },
      "outputs": [],
      "source": [
        "print(list(module.named_parameters()))"
      ]
    },
    {
      "cell_type": "code",
      "execution_count": null,
      "metadata": {
        "id": "C7MNQUgAvgHk"
      },
      "outputs": [],
      "source": [
        "print(list(module.named_buffers()))"
      ]
    },
    {
      "cell_type": "code",
      "execution_count": null,
      "metadata": {
        "id": "kfxcpRQ7viVc"
      },
      "outputs": [],
      "source": [
        "print(module.bias)"
      ]
    },
    {
      "cell_type": "code",
      "execution_count": null,
      "metadata": {
        "id": "hYUSGwucvk6d"
      },
      "outputs": [],
      "source": [
        "print(module._forward_pre_hooks)"
      ]
    },
    {
      "cell_type": "markdown",
      "metadata": {
        "id": "SqsT1zllvvZQ"
      },
      "source": [
        "### Global pruning"
      ]
    },
    {
      "cell_type": "code",
      "execution_count": null,
      "metadata": {
        "id": "t5qY-3i5vzqx"
      },
      "outputs": [],
      "source": [
        "model = LeNet()\n",
        "\n",
        "parameters_to_prune = (\n",
        "    (model.conv1, 'weight'),\n",
        "    (model.conv2, 'weight'),\n",
        "    (model.fc1, 'weight'),\n",
        "    (model.fc2, 'weight'),\n",
        "    (model.fc3, 'weight'),\n",
        ")\n",
        "\n",
        "prune.global_unstructured(\n",
        "    parameters_to_prune,\n",
        "    pruning_method=prune.L1Unstructured,\n",
        "    amount=0.2,\n",
        ")"
      ]
    },
    {
      "cell_type": "code",
      "execution_count": null,
      "metadata": {
        "id": "IFte1oQhv1FT"
      },
      "outputs": [],
      "source": [
        "print(\n",
        "    \"Sparsity in conv1.weight: {:.2f}%\".format(\n",
        "        100. * float(torch.sum(model.conv1.weight == 0))\n",
        "        / float(model.conv1.weight.nelement())\n",
        "    )\n",
        ")\n",
        "print(\n",
        "    \"Sparsity in conv2.weight: {:.2f}%\".format(\n",
        "        100. * float(torch.sum(model.conv2.weight == 0))\n",
        "        / float(model.conv2.weight.nelement())\n",
        "    )\n",
        ")\n",
        "print(\n",
        "    \"Sparsity in fc1.weight: {:.2f}%\".format(\n",
        "        100. * float(torch.sum(model.fc1.weight == 0))\n",
        "        / float(model.fc1.weight.nelement())\n",
        "    )\n",
        ")\n",
        "print(\n",
        "    \"Sparsity in fc2.weight: {:.2f}%\".format(\n",
        "        100. * float(torch.sum(model.fc2.weight == 0))\n",
        "        / float(model.fc2.weight.nelement())\n",
        "    )\n",
        ")\n",
        "print(\n",
        "    \"Sparsity in fc3.weight: {:.2f}%\".format(\n",
        "        100. * float(torch.sum(model.fc3.weight == 0))\n",
        "        / float(model.fc3.weight.nelement())\n",
        "    )\n",
        ")\n",
        "print(\n",
        "    \"Global sparsity: {:.2f}%\".format(\n",
        "        100. * float(\n",
        "            torch.sum(model.conv1.weight == 0)\n",
        "            + torch.sum(model.conv2.weight == 0)\n",
        "            + torch.sum(model.fc1.weight == 0)\n",
        "            + torch.sum(model.fc2.weight == 0)\n",
        "            + torch.sum(model.fc3.weight == 0)\n",
        "        )\n",
        "        / float(\n",
        "            model.conv1.weight.nelement()\n",
        "            + model.conv2.weight.nelement()\n",
        "            + model.fc1.weight.nelement()\n",
        "            + model.fc2.weight.nelement()\n",
        "            + model.fc3.weight.nelement()\n",
        "        )\n",
        "    )\n",
        ")"
      ]
    },
    {
      "cell_type": "markdown",
      "metadata": {
        "id": "rbG2AlTEv8Nm"
      },
      "source": [
        "### Custom pruning"
      ]
    },
    {
      "cell_type": "code",
      "execution_count": null,
      "metadata": {
        "id": "B192Oibnv-qq"
      },
      "outputs": [],
      "source": [
        "class FooBarPruningMethod(prune.BasePruningMethod):\n",
        "    \"\"\"Prune every other entry in a tensor\n",
        "    \"\"\"\n",
        "    PRUNING_TYPE = 'unstructured'\n",
        "\n",
        "    def compute_mask(self, t, default_mask):\n",
        "        mask = default_mask.clone()\n",
        "        mask.view(-1)[::2] = 0\n",
        "        return mask"
      ]
    },
    {
      "cell_type": "code",
      "execution_count": null,
      "metadata": {
        "id": "rPZi4OHrwhGd"
      },
      "outputs": [],
      "source": [
        "def foobar_unstructured(module, name):\n",
        "    \"\"\"Prunes tensor corresponding to parameter called `name` in `module`\n",
        "    by removing every other entry in the tensors.\n",
        "    Modifies module in place (and also return the modified module)\n",
        "    by:\n",
        "    1) adding a named buffer called `name+'_mask'` corresponding to the\n",
        "    binary mask applied to the parameter `name` by the pruning method.\n",
        "    The parameter `name` is replaced by its pruned version, while the\n",
        "    original (unpruned) parameter is stored in a new parameter named\n",
        "    `name+'_orig'`.\n",
        "\n",
        "    Args:\n",
        "        module (nn.Module): module containing the tensor to prune\n",
        "        name (string): parameter name within `module` on which pruning\n",
        "                will act.\n",
        "\n",
        "    Returns:\n",
        "        module (nn.Module): modified (i.e. pruned) version of the input\n",
        "            module\n",
        "\n",
        "    Examples:\n",
        "        >>> m = nn.Linear(3, 4)\n",
        "        >>> foobar_unstructured(m, name='bias')\n",
        "    \"\"\"\n",
        "    FooBarPruningMethod.apply(module, name)\n",
        "    return module"
      ]
    },
    {
      "cell_type": "code",
      "execution_count": null,
      "metadata": {
        "id": "A1Nrk6qYwir6"
      },
      "outputs": [],
      "source": [
        "model = LeNet()\n",
        "foobar_unstructured(model.fc3, name='bias')\n",
        "\n",
        "print(model.fc3.bias_mask)"
      ]
    },
    {
      "cell_type": "code",
      "execution_count": null,
      "metadata": {
        "id": "Sb3qU-zbwko_"
      },
      "outputs": [],
      "source": [
        ""
      ]
    }
  ],
  "metadata": {
    "accelerator": "GPU",
    "colab": {
      "collapsed_sections": [
        "kj_J9BS9wpII",
        "rbG2AlTEv8Nm"
      ],
      "name": "Model pruning - 1D data - Housing prices prediction.ipynb",
      "provenance": []
    },
    "kernelspec": {
      "display_name": "Python 3",
      "name": "python3"
    },
    "language_info": {
      "name": "python"
    }
  },
  "nbformat": 4,
  "nbformat_minor": 0
}